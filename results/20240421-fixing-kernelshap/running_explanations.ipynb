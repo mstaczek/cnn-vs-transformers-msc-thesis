{
 "cells": [
  {
   "cell_type": "code",
   "execution_count": 3,
   "metadata": {},
   "outputs": [
    {
     "data": {
      "text/plain": [
       "'t:\\\\studies\\\\py_projects\\\\master_thesis\\\\cnn-vs-transformers-msc-thesis\\\\codes'"
      ]
     },
     "execution_count": 3,
     "metadata": {},
     "output_type": "execute_result"
    }
   ],
   "source": [
    "import os\n",
    "os.chdir('../codes/')\n",
    "os.getcwd()"
   ]
  },
  {
   "cell_type": "code",
   "execution_count": null,
   "metadata": {},
   "outputs": [
    {
     "name": "stdout",
     "output_type": "stream",
     "text": [
      "Loaded model: https://huggingface.co/timm/resnet18d.ra2_in1k\n"
     ]
    },
    {
     "name": "stderr",
     "output_type": "stream",
     "text": [
      "Computing explanations for batches: 100%|██████████| 4/4 [00:41<00:00, 10.40s/it]\n"
     ]
    },
    {
     "name": "stdout",
     "output_type": "stream",
     "text": [
      "Loaded model: https://huggingface.co/timm/densenet121.tv_in1k\n"
     ]
    },
    {
     "name": "stderr",
     "output_type": "stream",
     "text": [
      "Computing explanations for batches: 100%|██████████| 4/4 [02:01<00:00, 30.37s/it]\n"
     ]
    }
   ],
   "source": [
    "from src.compute_explanations import compute_explanations\n",
    "\n",
    "compute_explanations(dataset_name='imagenette2', model_name='ResNet18', explanation_name='KernelSHAP', \n",
    "                     number_of_batches_to_process=4, batch_size=4, shuffle=True, \n",
    "                     device=\"cuda\",                                     # <- used by pytorch, as in model.to(device)\n",
    "                     root_explanations=\"../20240421-fixing-kernelshap/explanations\")               # <- here, the explanations will be saved\n",
    "\n",
    "\n",
    "compute_explanations(dataset_name='imagenette2', model_name='DenseNet121', explanation_name='KernelSHAP',  # <- another model\n",
    "                     number_of_batches_to_process=4, batch_size=4, shuffle=True, \n",
    "                     device=\"cuda\",                                     \n",
    "                     root_explanations=\"../20240421-fixing-kernelshap/explanations\")               "
   ]
  },
  {
   "cell_type": "code",
   "execution_count": null,
   "metadata": {},
   "outputs": [
    {
     "name": "stdout",
     "output_type": "stream",
     "text": [
      "Loaded model: https://huggingface.co/timm/mobilenetv3_large_100.ra_in1k\n"
     ]
    },
    {
     "name": "stderr",
     "output_type": "stream",
     "text": [
      "Computing explanations for batches: 100%|██████████| 4/4 [00:45<00:00, 11.43s/it]\n"
     ]
    },
    {
     "name": "stdout",
     "output_type": "stream",
     "text": [
      "Loaded model: https://huggingface.co/timm/convnextv2_nano.fcmae_ft_in22k_in1k_384\n"
     ]
    },
    {
     "name": "stderr",
     "output_type": "stream",
     "text": [
      "Computing explanations for batches: 100%|██████████| 4/4 [01:25<00:00, 21.25s/it]\n"
     ]
    }
   ],
   "source": [
    "from src.compute_explanations import compute_explanations\n",
    "\n",
    "compute_explanations(dataset_name='imagenette2', model_name='MobileNetV3', explanation_name='KernelSHAP', \n",
    "                     number_of_batches_to_process=4, batch_size=4, shuffle=True, \n",
    "                     device=\"cuda\",                                     # <- used by pytorch, as in model.to(device)\n",
    "                     root_explanations=\"../20240421-fixing-kernelshap/explanations\")               # <- here, the explanations will be saved\n",
    "\n",
    "\n",
    "compute_explanations(dataset_name='imagenette2', model_name='ConvNeXtV2_Nano', explanation_name='KernelSHAP',  # <- another model\n",
    "                     number_of_batches_to_process=4, batch_size=4, shuffle=True, \n",
    "                     device=\"cuda\",                                     \n",
    "                     root_explanations=\"../20240421-fixing-kernelshap/explanations\")               "
   ]
  }
 ],
 "metadata": {
  "kernelspec": {
   "display_name": "master-thesis-cnn-vs-transformers",
   "language": "python",
   "name": "python3"
  },
  "language_info": {
   "codemirror_mode": {
    "name": "ipython",
    "version": 3
   },
   "file_extension": ".py",
   "mimetype": "text/x-python",
   "name": "python",
   "nbconvert_exporter": "python",
   "pygments_lexer": "ipython3",
   "version": "3.11.4"
  }
 },
 "nbformat": 4,
 "nbformat_minor": 2
}
