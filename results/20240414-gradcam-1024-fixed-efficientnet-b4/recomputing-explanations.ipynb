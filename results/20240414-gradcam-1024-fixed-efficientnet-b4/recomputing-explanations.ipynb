{
 "cells": [
  {
   "cell_type": "code",
   "execution_count": 1,
   "metadata": {},
   "outputs": [
    {
     "data": {
      "text/plain": [
       "'t:\\\\studies\\\\py_projects\\\\master_thesis\\\\cnn-vs-transformers-msc-thesis\\\\codes'"
      ]
     },
     "execution_count": 1,
     "metadata": {},
     "output_type": "execute_result"
    }
   ],
   "source": [
    "import os\n",
    "os.chdir('../../codes/')\n",
    "os.getcwd()"
   ]
  },
  {
   "cell_type": "code",
   "execution_count": 2,
   "metadata": {},
   "outputs": [],
   "source": [
    "total_images = 1024\n",
    "batch_size = 4\n",
    "num_of_batches = total_images // batch_size"
   ]
  },
  {
   "cell_type": "code",
   "execution_count": 3,
   "metadata": {},
   "outputs": [
    {
     "name": "stdout",
     "output_type": "stream",
     "text": [
      "Loaded model: https://huggingface.co/timm/efficientnet_b4.ra2_in1k\n"
     ]
    },
    {
     "name": "stderr",
     "output_type": "stream",
     "text": [
      "Computing explanations for batches: 100%|██████████| 256/256 [05:38<00:00,  1.32s/it]\n"
     ]
    }
   ],
   "source": [
    "from src.compute_explanations import compute_explanations\n",
    "\n",
    "compute_explanations('imagenette2', 'EfficientNet_B4', 'GradCAM', number_of_batches_to_process=num_of_batches, batch_size=batch_size, \n",
    "                     shuffle=True, device=\"cuda\",\n",
    "                     root_explanations='../results/20240414-gradcam-1024-fixed-efficientnet-b4/new_explanations/')"
   ]
  },
  {
   "cell_type": "markdown",
   "metadata": {},
   "source": [
    "(manually copying previously computed folder with explanations into the current folder)"
   ]
  },
  {
   "cell_type": "code",
   "execution_count": 9,
   "metadata": {},
   "outputs": [
    {
     "name": "stderr",
     "output_type": "stream",
     "text": [
      "Loading explanations:   0%|          | 0/1024 [00:00<?, ?it/s]"
     ]
    },
    {
     "name": "stderr",
     "output_type": "stream",
     "text": [
      "Loading explanations: 100%|██████████| 1024/1024 [00:01<00:00, 706.11it/s]\n",
      "Loading explanations: 100%|██████████| 1024/1024 [00:01<00:00, 876.08it/s]\n",
      "Loading explanations: 100%|██████████| 1024/1024 [00:02<00:00, 442.95it/s]\n",
      "Loading explanations: 100%|██████████| 1024/1024 [00:01<00:00, 654.58it/s]\n",
      "Loading explanations: 100%|██████████| 1024/1024 [00:01<00:00, 653.28it/s]\n",
      "Loading explanations: 100%|██████████| 1024/1024 [00:01<00:00, 839.91it/s]\n",
      "Loading explanations: 100%|██████████| 1024/1024 [00:01<00:00, 702.50it/s]\n",
      "Loading explanations: 100%|██████████| 1024/1024 [00:01<00:00, 696.44it/s]\n",
      "Loading explanations: 100%|██████████| 1024/1024 [00:01<00:00, 693.77it/s]\n",
      "Loading explanations: 100%|██████████| 1024/1024 [00:01<00:00, 757.11it/s]\n",
      "Loading explanations: 100%|██████████| 1024/1024 [00:01<00:00, 595.05it/s]\n",
      "Loading explanations: 100%|██████████| 1024/1024 [00:01<00:00, 565.42it/s]\n",
      "Loading explanations: 100%|██████████| 1024/1024 [00:01<00:00, 671.88it/s]\n",
      "Loading explanations: 100%|██████████| 1024/1024 [00:01<00:00, 619.24it/s]\n"
     ]
    },
    {
     "name": "stdout",
     "output_type": "stream",
     "text": [
      "Loaded 1024 common explanations for each model.\n"
     ]
    }
   ],
   "source": [
    "from src.load_explanations import load_explanations_of_many_models\n",
    "from src import strings_to_classes_mappings\n",
    "\n",
    "models_list = list(strings_to_classes_mappings.models_mapping.keys())\n",
    "explanations_many_models = load_explanations_of_many_models('imagenette2', models_list, 'GradCAM',\n",
    "                        root_explanations=\"../results/20240414-gradcam-1024-fixed-efficientnet-b4/new_explanations/\")"
   ]
  },
  {
   "cell_type": "code",
   "execution_count": 10,
   "metadata": {},
   "outputs": [],
   "source": [
    "from src.compare_explanations import compare_explanations, cosine_similarity, radial_basis_function\n",
    "\n",
    "similarity_df = compare_explanations(explanations_many_models, comparison_function=radial_basis_function)\n",
    "similarity_df.to_csv(\"../results/20240414-gradcam-1024-fixed-efficientnet-b4/similarity_matrix_gradcam_rbf.csv\")\n",
    "similarity_df = compare_explanations(explanations_many_models, comparison_function=cosine_similarity)\n",
    "similarity_df.to_csv(\"../results/20240414-gradcam-1024-fixed-efficientnet-b4/similarity_matrix_gradcam_cosine.csv\")"
   ]
  },
  {
   "cell_type": "code",
   "execution_count": 8,
   "metadata": {},
   "outputs": [],
   "source": []
  }
 ],
 "metadata": {
  "kernelspec": {
   "display_name": "master-thesis-cnn-vs-transformers",
   "language": "python",
   "name": "python3"
  },
  "language_info": {
   "codemirror_mode": {
    "name": "ipython",
    "version": 3
   },
   "file_extension": ".py",
   "mimetype": "text/x-python",
   "name": "python",
   "nbconvert_exporter": "python",
   "pygments_lexer": "ipython3",
   "version": "3.11.4"
  }
 },
 "nbformat": 4,
 "nbformat_minor": 2
}
