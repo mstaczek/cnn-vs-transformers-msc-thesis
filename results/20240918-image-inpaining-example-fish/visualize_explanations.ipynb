{
 "cells": [
  {
   "cell_type": "markdown",
   "metadata": {},
   "source": [
    "## Imports"
   ]
  },
  {
   "cell_type": "code",
   "execution_count": 1,
   "metadata": {},
   "outputs": [],
   "source": [
    "import os\n",
    "current_file_dir = os.getcwd()\n",
    "os.chdir(\"../../codes/\")\n",
    "\n",
    "from src.load_explanations import load_explanations_of_many_models, _unify_lenths, _trim_image_path\n",
    "from src import strings_to_classes_mappings\n",
    "from src import utils\n",
    "\n",
    "os.chdir(current_file_dir)"
   ]
  },
  {
   "cell_type": "markdown",
   "metadata": {},
   "source": [
    "# Usage example\n",
    "\n",
    "Get possible models etc."
   ]
  },
  {
   "cell_type": "code",
   "execution_count": 2,
   "metadata": {},
   "outputs": [
    {
     "name": "stdout",
     "output_type": "stream",
     "text": [
      "Possible datasets: ['imagenette2']\n",
      "Possible models: ['ConvNeXtV2_Nano', 'DeiT_S', 'DeiT_T', 'DenseNet121', 'EfficientNet_B3', 'EfficientNet_B4', 'MobileNetV3', 'PyramidViT_V2_B2', 'Res2Net50', 'ResNet18', 'ResNet50', 'ResNeXt50', 'Swin_T', 'ViT_B_32']\n",
      "Possible explanations: ['GradCAM', 'IntegratedGradients', 'KernelSHAP']\n"
     ]
    }
   ],
   "source": [
    "print(\"Possible datasets:\", list(strings_to_classes_mappings.datasets_mapping.keys()))\n",
    "print(\"Possible models:\", list(strings_to_classes_mappings.models_mapping.keys()))\n",
    "print(\"Possible explanations:\", list(strings_to_classes_mappings.explanations_mapping.keys()))\n",
    "models_list = list(strings_to_classes_mappings.models_mapping.keys())"
   ]
  },
  {
   "cell_type": "markdown",
   "metadata": {},
   "source": [
    "# Getting data"
   ]
  },
  {
   "cell_type": "code",
   "execution_count": 3,
   "metadata": {},
   "outputs": [],
   "source": [
    "paths_to_explanations = {\n",
    "    \"GradCAM\" : os.path.join(current_file_dir, 'fake_dataset_explanations'),\n",
    "    \"KernelSHAP\" : os.path.join(current_file_dir, 'fake_dataset_explanations'),\n",
    "    \"IntegratedGradients\" : os.path.join(current_file_dir, 'fake_dataset_explanations'),\n",
    "}"
   ]
  },
  {
   "cell_type": "code",
   "execution_count": 4,
   "metadata": {},
   "outputs": [
    {
     "name": "stderr",
     "output_type": "stream",
     "text": [
      "Loading explanations: 100%|██████████| 2/2 [00:00<00:00, 343.84it/s]\n",
      "Loading explanations: 100%|██████████| 2/2 [00:00<00:00, 721.72it/s]\n",
      "Loading explanations: 100%|██████████| 2/2 [00:00<00:00, 340.54it/s]\n",
      "Loading explanations: 100%|██████████| 2/2 [00:00<?, ?it/s]\n",
      "Loading explanations: 100%|██████████| 2/2 [00:00<00:00, 1057.03it/s]\n",
      "Loading explanations: 100%|██████████| 2/2 [00:00<00:00, 1370.46it/s]\n",
      "Loading explanations: 100%|██████████| 2/2 [00:00<00:00, 747.85it/s]\n",
      "Loading explanations: 100%|██████████| 2/2 [00:00<00:00, 675.57it/s]\n",
      "Loading explanations: 100%|██████████| 2/2 [00:00<00:00, 699.63it/s]\n",
      "Loading explanations: 100%|██████████| 2/2 [00:00<00:00, 690.99it/s]\n",
      "Loading explanations: 100%|██████████| 2/2 [00:00<00:00, 338.02it/s]\n",
      "Loading explanations: 100%|██████████| 2/2 [00:00<00:00, 1528.54it/s]\n",
      "Loading explanations: 100%|██████████| 2/2 [00:00<00:00, 669.70it/s]\n",
      "Loading explanations: 100%|██████████| 2/2 [00:00<00:00, 907.47it/s]"
     ]
    },
    {
     "name": "stdout",
     "output_type": "stream",
     "text": [
      "Loaded 2 common explanations for each model.\n"
     ]
    },
    {
     "name": "stderr",
     "output_type": "stream",
     "text": [
      "\n"
     ]
    }
   ],
   "source": [
    "explanations_many_models = load_explanations_of_many_models('imagenette2', models_list, 'GradCAM', root_explanations=paths_to_explanations['GradCAM'])"
   ]
  },
  {
   "cell_type": "code",
   "execution_count": 5,
   "metadata": {},
   "outputs": [
    {
     "data": {
      "text/plain": [
       "dict_keys(['explanations', 'paths', 'labels', 'model_name', 'explanation_name', 'predictions'])"
      ]
     },
     "execution_count": 5,
     "metadata": {},
     "output_type": "execute_result"
    }
   ],
   "source": [
    "explanations_many_models[0].keys()"
   ]
  },
  {
   "cell_type": "code",
   "execution_count": 6,
   "metadata": {},
   "outputs": [
    {
     "data": {
      "text/plain": [
       "'GradCAM'"
      ]
     },
     "execution_count": 6,
     "metadata": {},
     "output_type": "execute_result"
    }
   ],
   "source": [
    "explanations_many_models[0]['explanation_name']"
   ]
  },
  {
   "cell_type": "code",
   "execution_count": 7,
   "metadata": {},
   "outputs": [
    {
     "data": {
      "text/plain": [
       "'t:\\\\studies\\\\py_projects\\\\master_thesis\\\\cnn-vs-transformers-msc-thesis\\\\results\\\\20240918-image-inpaining-example-fish\\\\fake_dataset_explanations\\\\imagenette2\\\\GradCAM\\\\ConvNeXtV2_Nano\\\\n01440764\\\\n01440764_1185.npy'"
      ]
     },
     "execution_count": 7,
     "metadata": {},
     "output_type": "execute_result"
    }
   ],
   "source": [
    "explanations_many_models[0]['paths'][0]"
   ]
  },
  {
   "cell_type": "markdown",
   "metadata": {},
   "source": [
    "### Add explanations from all models as a list of results"
   ]
  },
  {
   "cell_type": "code",
   "execution_count": 8,
   "metadata": {},
   "outputs": [
    {
     "name": "stderr",
     "output_type": "stream",
     "text": [
      "Loading explanations: 100%|██████████| 2/2 [00:00<00:00, 465.65it/s]\n",
      "Loading explanations: 100%|██████████| 2/2 [00:00<00:00, 342.94it/s]\n",
      "Loading explanations: 100%|██████████| 2/2 [00:00<00:00, 464.07it/s]\n",
      "Loading explanations: 100%|██████████| 2/2 [00:00<00:00, 1190.89it/s]\n",
      "Loading explanations: 100%|██████████| 2/2 [00:00<00:00, 386.86it/s]\n",
      "Loading explanations: 100%|██████████| 2/2 [00:00<00:00, 63.43it/s]\n",
      "Loading explanations: 100%|██████████| 2/2 [00:00<00:00, 796.26it/s]\n",
      "Loading explanations: 100%|██████████| 2/2 [00:00<00:00, 127.89it/s]\n",
      "Loading explanations: 100%|██████████| 2/2 [00:00<00:00, 119.56it/s]\n",
      "Loading explanations: 100%|██████████| 2/2 [00:00<00:00, 1497.43it/s]\n",
      "Loading explanations: 100%|██████████| 2/2 [00:00<00:00, 234.69it/s]\n",
      "Loading explanations: 100%|██████████| 2/2 [00:00<00:00, 947.54it/s]\n",
      "Loading explanations: 100%|██████████| 2/2 [00:00<00:00, 922.03it/s]\n",
      "Loading explanations: 100%|██████████| 2/2 [00:00<00:00, 855.72it/s]\n"
     ]
    },
    {
     "name": "stdout",
     "output_type": "stream",
     "text": [
      "Loaded 2 common explanations for each model.\n"
     ]
    },
    {
     "name": "stderr",
     "output_type": "stream",
     "text": [
      "Loading explanations: 100%|██████████| 2/2 [00:00<00:00, 795.66it/s]\n",
      "Loading explanations: 100%|██████████| 2/2 [00:00<00:00, 434.58it/s]\n",
      "Loading explanations: 100%|██████████| 2/2 [00:00<00:00, 631.01it/s]\n",
      "Loading explanations: 100%|██████████| 2/2 [00:00<00:00, 904.04it/s]\n",
      "Loading explanations: 100%|██████████| 2/2 [00:00<00:00, 1153.87it/s]\n",
      "Loading explanations: 100%|██████████| 2/2 [00:00<00:00, 516.60it/s]\n",
      "Loading explanations: 100%|██████████| 2/2 [00:00<00:00, 896.99it/s]\n",
      "Loading explanations: 100%|██████████| 2/2 [00:00<00:00, 783.76it/s]\n",
      "Loading explanations: 100%|██████████| 2/2 [00:00<00:00, 410.06it/s]\n",
      "Loading explanations: 100%|██████████| 2/2 [00:00<00:00, 597.69it/s]\n",
      "Loading explanations: 100%|██████████| 2/2 [00:00<00:00, 1713.71it/s]\n",
      "Loading explanations: 100%|██████████| 2/2 [00:00<00:00, 598.59it/s]\n",
      "Loading explanations: 100%|██████████| 2/2 [00:00<00:00, 722.97it/s]\n",
      "Loading explanations: 100%|██████████| 2/2 [00:00<00:00, 619.04it/s]\n"
     ]
    },
    {
     "name": "stdout",
     "output_type": "stream",
     "text": [
      "Loaded 2 common explanations for each model.\n"
     ]
    },
    {
     "name": "stderr",
     "output_type": "stream",
     "text": [
      "Loading explanations: 100%|██████████| 2/2 [00:00<00:00, 572.72it/s]\n",
      "Loading explanations: 100%|██████████| 2/2 [00:00<00:00, 381.79it/s]\n",
      "Loading explanations: 100%|██████████| 2/2 [00:00<00:00, 1323.54it/s]\n",
      "Loading explanations: 100%|██████████| 2/2 [00:00<00:00, 659.74it/s]\n",
      "Loading explanations: 100%|██████████| 2/2 [00:00<00:00, 611.99it/s]\n",
      "Loading explanations: 100%|██████████| 2/2 [00:00<00:00, 520.84it/s]\n",
      "Loading explanations: 100%|██████████| 2/2 [00:00<00:00, 348.87it/s]\n",
      "Loading explanations: 100%|██████████| 2/2 [00:00<00:00, 1740.74it/s]\n",
      "Loading explanations: 100%|██████████| 2/2 [00:00<00:00, 489.13it/s]\n",
      "Loading explanations: 100%|██████████| 2/2 [00:00<00:00, 680.73it/s]\n",
      "Loading explanations: 100%|██████████| 2/2 [00:00<00:00, 434.85it/s]\n",
      "Loading explanations: 100%|██████████| 2/2 [00:00<00:00, 725.72it/s]\n",
      "Loading explanations: 100%|██████████| 2/2 [00:00<00:00, 1335.13it/s]\n",
      "Loading explanations: 100%|██████████| 2/2 [00:00<00:00, 512.78it/s]"
     ]
    },
    {
     "name": "stdout",
     "output_type": "stream",
     "text": [
      "Loaded 2 common explanations for each model.\n"
     ]
    },
    {
     "name": "stderr",
     "output_type": "stream",
     "text": [
      "\n"
     ]
    }
   ],
   "source": [
    "all_explanations = []\n",
    "for explanation_method, explanations_path in paths_to_explanations.items():\n",
    "    all_explanations += load_explanations_of_many_models('imagenette2', models_list, explanation_method, root_explanations=explanations_path)"
   ]
  },
  {
   "cell_type": "markdown",
   "metadata": {},
   "source": [
    "### Leave only images analyzed by all models and explanation methods"
   ]
  },
  {
   "cell_type": "code",
   "execution_count": 9,
   "metadata": {},
   "outputs": [
    {
     "name": "stdout",
     "output_type": "stream",
     "text": [
      "Loaded 2 common explanations for each model.\n"
     ]
    }
   ],
   "source": [
    "all_explanations = _unify_lenths(all_explanations)"
   ]
  },
  {
   "cell_type": "markdown",
   "metadata": {},
   "source": [
    "First, add a new key to every results dict to store path to image with explanation without background."
   ]
  },
  {
   "cell_type": "code",
   "execution_count": 10,
   "metadata": {},
   "outputs": [],
   "source": [
    "def add_paths_to_pngs_without_background_images(explanations):\n",
    "    for j in range(len(explanations)):\n",
    "        explanations[j]['paths_only_explanation'] = []\n",
    "        for i, path in enumerate(explanations[j]['paths']):\n",
    "            path_to_image_with_explanation_only = path.replace('.npy', '_only_explanation.png')\n",
    "            if os.path.exists(path_to_image_with_explanation_only):\n",
    "                explanations[j]['paths_only_explanation'].append(path_to_image_with_explanation_only)\n",
    "            else:\n",
    "                print(f\"Path {path_to_image_with_explanation_only} does not exist, skipping\")\n",
    "    return explanations\n",
    "\n",
    "all_explanations = add_paths_to_pngs_without_background_images(all_explanations)"
   ]
  },
  {
   "cell_type": "code",
   "execution_count": 11,
   "metadata": {},
   "outputs": [
    {
     "data": {
      "text/plain": [
       "dict_keys(['explanations', 'paths', 'labels', 'model_name', 'explanation_name', 'predictions', 'paths_only_explanation'])"
      ]
     },
     "execution_count": 11,
     "metadata": {},
     "output_type": "execute_result"
    }
   ],
   "source": [
    "all_explanations[0].keys()"
   ]
  },
  {
   "cell_type": "code",
   "execution_count": 12,
   "metadata": {},
   "outputs": [
    {
     "data": {
      "text/plain": [
       "'n01440764\\\\n01440764_1185_only_explanation.png'"
      ]
     },
     "execution_count": 12,
     "metadata": {},
     "output_type": "execute_result"
    }
   ],
   "source": [
    "_trim_image_path(all_explanations[0]['paths_only_explanation'][0])"
   ]
  },
  {
   "cell_type": "markdown",
   "metadata": {},
   "source": [
    "### Add paths to source images from imagenette training set"
   ]
  },
  {
   "cell_type": "code",
   "execution_count": 13,
   "metadata": {},
   "outputs": [
    {
     "data": {
      "text/plain": [
       "['n01440764']"
      ]
     },
     "execution_count": 13,
     "metadata": {},
     "output_type": "execute_result"
    }
   ],
   "source": [
    "original_images_root = os.path.join(current_file_dir, 'fake_dataset', 'train')\n",
    "os.listdir(original_images_root)"
   ]
  },
  {
   "cell_type": "code",
   "execution_count": 14,
   "metadata": {},
   "outputs": [
    {
     "data": {
      "text/plain": [
       "dict_keys(['explanations', 'paths', 'labels', 'model_name', 'explanation_name', 'predictions', 'paths_only_explanation', 'paths_original_images'])"
      ]
     },
     "execution_count": 14,
     "metadata": {},
     "output_type": "execute_result"
    }
   ],
   "source": [
    "def add_paths_to_original_images(explanations, original_images_root):\n",
    "    for explanation in explanations:\n",
    "        list_of_paths_to_original_images = []\n",
    "        for i, path in enumerate(explanation['paths']):\n",
    "            path_to_image = os.path.join(original_images_root, _trim_image_path(path))\n",
    "            path_to_image = path_to_image.replace('.npy', '.JPEG')\n",
    "            if os.path.exists(path_to_image):\n",
    "                list_of_paths_to_original_images.append(path_to_image)\n",
    "            else:\n",
    "                print(f\"Path {path_to_image} does not exist, skipping\")\n",
    "        explanation['paths_original_images'] = list_of_paths_to_original_images\n",
    "    return explanations\n",
    "\n",
    "all_explanations = add_paths_to_original_images(all_explanations, original_images_root)\n",
    "all_explanations[0].keys()"
   ]
  },
  {
   "cell_type": "code",
   "execution_count": 15,
   "metadata": {},
   "outputs": [
    {
     "data": {
      "text/plain": [
       "['t:\\\\studies\\\\py_projects\\\\master_thesis\\\\cnn-vs-transformers-msc-thesis\\\\results\\\\20240918-image-inpaining-example-fish\\\\fake_dataset\\\\train\\\\n01440764\\\\n01440764_1185.JPEG',\n",
       " 't:\\\\studies\\\\py_projects\\\\master_thesis\\\\cnn-vs-transformers-msc-thesis\\\\results\\\\20240918-image-inpaining-example-fish\\\\fake_dataset\\\\train\\\\n01440764\\\\n01440764_1185_modified.JPEG']"
      ]
     },
     "execution_count": 15,
     "metadata": {},
     "output_type": "execute_result"
    }
   ],
   "source": [
    "all_explanations[0]['paths_original_images']"
   ]
  },
  {
   "cell_type": "markdown",
   "metadata": {},
   "source": [
    "### Leave only images for which all models gave the same prediction"
   ]
  },
  {
   "cell_type": "code",
   "execution_count": 16,
   "metadata": {},
   "outputs": [],
   "source": [
    "def filter_images_where_at_least_one_model_was_wrong(explanations, all_agree=True):\n",
    "    filtered_explanations = []\n",
    "    # get the number of explanations\n",
    "    number_of_explanations = len(explanations[0]['paths'])\n",
    "\n",
    "    list_of_indices_where_all_models_agree = []\n",
    "    # iterate over explanations, each time checking ith prediction only\n",
    "    for i in range(number_of_explanations):\n",
    "        set_of_predictions = set()\n",
    "        for explanation in explanations:\n",
    "            set_of_predictions.add(explanation['predictions'][i].item())\n",
    "        if len(set_of_predictions) == 1:\n",
    "            list_of_indices_where_all_models_agree.append(i)\n",
    "    \n",
    "    if all_agree:\n",
    "\n",
    "        # filter to only leave explanations where all models agree\n",
    "        for explanation in explanations:\n",
    "            filtered_explanation = {}\n",
    "            for key, value in explanation.items():\n",
    "                try:\n",
    "                    if type(value) == str:\n",
    "                        raise Exception\n",
    "                    filtered_explanation[key] = [value[i] for i in list_of_indices_where_all_models_agree]\n",
    "                except:\n",
    "                    filtered_explanation[key] = value\n",
    "            filtered_explanations.append(filtered_explanation)\n",
    "\n",
    "        return filtered_explanations\n",
    "\n",
    "    else:\n",
    "\n",
    "        # filter to only leave explanations where at least one model was wrong\n",
    "        for explanation in explanations:\n",
    "            filtered_explanation = {}\n",
    "            for key, value in explanation.items():\n",
    "                try:\n",
    "                    if type(value) == str:\n",
    "                        raise Exception\n",
    "                    filtered_explanation[key] = [value[i] for i in range(number_of_explanations) if i not in list_of_indices_where_all_models_agree]\n",
    "                except:\n",
    "                    filtered_explanation[key] = value\n",
    "            filtered_explanations.append(filtered_explanation)\n",
    "\n",
    "        return filtered_explanations"
   ]
  },
  {
   "cell_type": "markdown",
   "metadata": {},
   "source": [
    "89 out of 128"
   ]
  },
  {
   "cell_type": "code",
   "execution_count": 17,
   "metadata": {},
   "outputs": [
    {
     "data": {
      "text/plain": [
       "1"
      ]
     },
     "execution_count": 17,
     "metadata": {},
     "output_type": "execute_result"
    }
   ],
   "source": [
    "all_explanations_filtered = filter_images_where_at_least_one_model_was_wrong(all_explanations)\n",
    "len(all_explanations_filtered[0]['predictions'])"
   ]
  },
  {
   "cell_type": "markdown",
   "metadata": {},
   "source": [
    "### Plot a few original images to see if any would be nice in explanations"
   ]
  },
  {
   "cell_type": "code",
   "execution_count": 18,
   "metadata": {},
   "outputs": [
    {
     "name": "stdout",
     "output_type": "stream",
     "text": [
      "0 t:\\studies\\py_projects\\master_thesis\\cnn-vs-transformers-msc-thesis\\results\\20240918-image-inpaining-example-fish\\fake_dataset\\train\\n01440764\\n01440764_1185.JPEG\n"
     ]
    },
    {
     "data": {
      "image/png": "[encoded data removed]",
      "text/plain": [
       "<Figure size 100x100 with 1 Axes>"
      ]
     },
     "metadata": {},
     "output_type": "display_data"
    }
   ],
   "source": [
    "import numpy as np\n",
    "import matplotlib.pyplot as plt\n",
    "from PIL import Image\n",
    "\n",
    "def show_image(path):\n",
    "    image = Image.open(path)\n",
    "    image_resized = image.resize((224, 224))\n",
    "    image_resized = np.array(image_resized)\n",
    "    fig, ax = plt.subplots(figsize=(1,1))\n",
    "    ax.imshow(image_resized)\n",
    "    ax.axis('off')\n",
    "    plt.show()\n",
    "\n",
    "# choose nice image\n",
    "\n",
    "for image_number, path_to_some_image in enumerate(all_explanations_filtered[0]['paths_original_images']):\n",
    "    print(image_number, path_to_some_image)\n",
    "    # show_image(all_explanations[0]['paths_only_explanation'][2])\n",
    "    show_image(path_to_some_image)\n",
    "    if image_number == 10:\n",
    "        break"
   ]
  },
  {
   "cell_type": "code",
   "execution_count": 19,
   "metadata": {},
   "outputs": [
    {
     "data": {
      "image/png": "[encoded data removed]",
      "text/plain": [
       "<Figure size 100x100 with 1 Axes>"
      ]
     },
     "metadata": {},
     "output_type": "display_data"
    }
   ],
   "source": [
    "image_path = os.path.join(current_file_dir, \"fake_dataset\\\\train\\\\n01440764\\\\n01440764_1185.JPEG\")\n",
    "show_image(image_path)"
   ]
  },
  {
   "cell_type": "code",
   "execution_count": 20,
   "metadata": {},
   "outputs": [
    {
     "data": {
      "text/plain": [
       "dict_keys(['explanations', 'paths', 'labels', 'model_name', 'explanation_name', 'predictions', 'paths_only_explanation', 'paths_original_images'])"
      ]
     },
     "execution_count": 20,
     "metadata": {},
     "output_type": "execute_result"
    }
   ],
   "source": [
    "all_explanations_filtered[0].keys()"
   ]
  },
  {
   "cell_type": "markdown",
   "metadata": {},
   "source": [
    "# Plotting - for each image, plot all models and all explanations"
   ]
  },
  {
   "cell_type": "markdown",
   "metadata": {},
   "source": [
    "### Filter all results to leave only a list of dicts containing a single explanation about given path"
   ]
  },
  {
   "cell_type": "code",
   "execution_count": 21,
   "metadata": {},
   "outputs": [
    {
     "data": {
      "text/plain": [
       "{'explanations': tensor([[0.0000, 0.0000, 0.0000,  ..., 0.0000, 0.0000, 0.0000],\n",
       "         [0.0000, 0.0000, 0.0000,  ..., 0.0000, 0.0000, 0.0000],\n",
       "         [0.0000, 0.0000, 0.0000,  ..., 0.0000, 0.0000, 0.0000],\n",
       "         ...,\n",
       "         [0.0000, 0.0000, 0.0000,  ..., 0.0339, 0.0339, 0.0339],\n",
       "         [0.0000, 0.0000, 0.0000,  ..., 0.0339, 0.0339, 0.0339],\n",
       "         [0.0000, 0.0000, 0.0000,  ..., 0.0339, 0.0339, 0.0339]]),\n",
       " 'paths': 't:\\\\studies\\\\py_projects\\\\master_thesis\\\\cnn-vs-transformers-msc-thesis\\\\results\\\\20240918-image-inpaining-example-fish\\\\fake_dataset_explanations\\\\imagenette2\\\\GradCAM\\\\ConvNeXtV2_Nano\\\\n01440764\\\\n01440764_1185.npy',\n",
       " 'labels': tensor(0),\n",
       " 'model_name': 'ConvNeXtV2_Nano',\n",
       " 'explanation_name': 'GradCAM',\n",
       " 'predictions': tensor(0),\n",
       " 'paths_only_explanation': 't:\\\\studies\\\\py_projects\\\\master_thesis\\\\cnn-vs-transformers-msc-thesis\\\\results\\\\20240918-image-inpaining-example-fish\\\\fake_dataset_explanations\\\\imagenette2\\\\GradCAM\\\\ConvNeXtV2_Nano\\\\n01440764\\\\n01440764_1185_only_explanation.png',\n",
       " 'paths_original_images': 't:\\\\studies\\\\py_projects\\\\master_thesis\\\\cnn-vs-transformers-msc-thesis\\\\results\\\\20240918-image-inpaining-example-fish\\\\fake_dataset\\\\train\\\\n01440764\\\\n01440764_1185.JPEG'}"
      ]
     },
     "execution_count": 21,
     "metadata": {},
     "output_type": "execute_result"
    }
   ],
   "source": [
    "def filter_explanations(dict_of_explanations_from_model, original_image_path_to_be_filtered):\n",
    "    # get index of path in the paths_original_images list\n",
    "    index = dict_of_explanations_from_model['paths_original_images'].index(original_image_path_to_be_filtered)\n",
    "    filtered_dict = {}\n",
    "\n",
    "    # in all other lists in the dict, get the element with the same index\n",
    "    for k, v in dict_of_explanations_from_model.items():\n",
    "        try:\n",
    "            if type(v) == str:\n",
    "                raise Exception\n",
    "            filtered_dict[k] = v[index]\n",
    "        except:\n",
    "            filtered_dict[k] = v\n",
    "    return filtered_dict\n",
    "\n",
    "def filter_all_explanations(all_explanations, image_path):\n",
    "    return [filter_explanations(e, image_path) for e in all_explanations]\n",
    "\n",
    "filter_explanations(all_explanations[0], image_path)"
   ]
  },
  {
   "cell_type": "code",
   "execution_count": 22,
   "metadata": {},
   "outputs": [],
   "source": [
    "explanations_filtered = filter_all_explanations(all_explanations_filtered, image_path)"
   ]
  },
  {
   "cell_type": "markdown",
   "metadata": {},
   "source": [
    "### Plotting function, saves the result to file named after original image filename"
   ]
  },
  {
   "cell_type": "code",
   "execution_count": 34,
   "metadata": {},
   "outputs": [],
   "source": [
    "import os\n",
    "import matplotlib.pyplot as plt\n",
    "import matplotlib.image as mpimg\n",
    "\n",
    "import imagenette_classes_mapping\n",
    "\n",
    "def get_class_codename_from_prediction(predicted_label):\n",
    "    return imagenette_classes_mapping.imagenette2_id_to_class_mapping[predicted_label]\n",
    "\n",
    "def get_class_name_from_prediction(predicted_label):\n",
    "    return imagenette_classes_mapping.imagenette2_class_to_name_mapping[get_class_codename_from_prediction(predicted_label)]\n",
    "\n",
    "def plot_comparison_of_explanations(explanations_filtered, output_suffix=None):\n",
    "\n",
    "    explanation_to_title_mapping = {\n",
    "        'GradCAM' : 'Grad-CAM',\n",
    "        'IntegratedGradients' : 'Integrated\\nGradients',\n",
    "        'KernelSHAP' : 'KernelSHAP'\n",
    "    }\n",
    "\n",
    "    data = explanations_filtered\n",
    "    \n",
    "    # Extract unique models and explanation methods\n",
    "    models = sorted(set(item['model_name'] for item in data))\n",
    "    explanation_methods = sorted(set(item['explanation_name'] for item in data))\n",
    "\n",
    "    # Create a dictionary to map (model, explanation) to the image path\n",
    "    image_paths = {(item['model_name'], item['explanation_name']): item['paths_only_explanation'] for item in data}\n",
    "    prediction_classes = {(item['model_name'], item['explanation_name']): get_class_name_from_prediction(item['predictions'].item()) for item in data}\n",
    "    real_classes = get_class_name_from_prediction(data[0]['labels'].item())\n",
    "\n",
    "    # Plotting the images\n",
    "    fig, axes = plt.subplots(len(models)+1, len(explanation_methods), figsize=(4,13), dpi=300)\n",
    "\n",
    "    # set 0th row with original image\n",
    "    for i in range(len(explanation_methods)):\n",
    "        ax = axes[0, i]\n",
    "        ax.imshow(np.array(Image.open(data[0]['paths_original_images']).resize((224, 224))))\n",
    "        ax.axis('off')\n",
    "    axes[0, 0].axis('on')\n",
    "    axes[0, 0].tick_params(left=False, bottom=False, labelleft=False, labelbottom=False)\n",
    "    axes[0, 0].set_ylabel('Original Image' + '\\n' + real_classes, rotation=0, labelpad=57)\n",
    "\n",
    "    # set titles for each column as explanation method\n",
    "    for i, explanation in enumerate(explanation_methods):\n",
    "        axes[0, i].set_title(explanation_to_title_mapping[explanation], rotation=0, pad=0, fontsize=10)\n",
    "\n",
    "    for i, model in enumerate(models):\n",
    "        for j, explanation in enumerate(explanation_methods):\n",
    "            ax = axes[i+1, j]\n",
    "            image_path_1 = image_paths.get((model, explanation), None)\n",
    "\n",
    "            if image_path_1 and os.path.exists(image_path_1):\n",
    "                img = mpimg.imread(image_path_1)\n",
    "                ax.imshow(img)\n",
    "            else:\n",
    "                ax.text(0.5, 0.5, 'No Image', ha='center', va='center', fontsize=12)\n",
    "            \n",
    "            # Set thin frame around the image\n",
    "            for spine in ax.spines.values():\n",
    "                spine.set_edgecolor('black')  # Color of the frame\n",
    "                spine.set_linewidth(0.5)      # Thickness of the frame\n",
    "            \n",
    "            if j == 0:\n",
    "                ax.set_ylabel(model.replace('_', ' ') + '\\n' + utils.models_to_architecture_mapping[model] + '\\n' + prediction_classes.get((model, explanation)), rotation=0, labelpad=50)\n",
    "                # get y-axis label to be in the middle of the image\n",
    "                ax.yaxis.set_label_coords(-0.8, 0.25)\n",
    "\n",
    "            # Hide the ticks and labels\n",
    "            ax.tick_params(left=False, bottom=False, labelleft=False, labelbottom=False)\n",
    "\n",
    "            # Make sure the frame (spines) are visible\n",
    "            ax.spines['top'].set_visible(True)\n",
    "            ax.spines['bottom'].set_visible(True)\n",
    "            ax.spines['left'].set_visible(True)\n",
    "            ax.spines['right'].set_visible(True)\n",
    "\n",
    "    # reduce space between subplots\n",
    "    plt.tight_layout()\n",
    "    plt.subplots_adjust(hspace=0.01, wspace=0.01)\n",
    "\n",
    "    output_filename_addition = data[0]['paths_original_images'].split('\\\\')[-1].replace('.JPEG', '')\n",
    "    output_suffix = '' if output_suffix == None else f\"_{output_suffix}\"\n",
    "    plt.savefig(f\"explanations_{output_filename_addition}{output_suffix}.png\", dpi=300)\n",
    "    plt.close()"
   ]
  },
  {
   "cell_type": "markdown",
   "metadata": {},
   "source": [
    "### Create and save all plots"
   ]
  },
  {
   "cell_type": "markdown",
   "metadata": {},
   "source": [
    "A single test."
   ]
  },
  {
   "cell_type": "code",
   "execution_count": 35,
   "metadata": {},
   "outputs": [],
   "source": [
    "explanations_filtered = filter_all_explanations(all_explanations_filtered, image_path)\n",
    "plot_comparison_of_explanations(explanations_filtered)"
   ]
  },
  {
   "cell_type": "markdown",
   "metadata": {},
   "source": [
    "All images for which all models gave the same prediction."
   ]
  },
  {
   "cell_type": "code",
   "execution_count": 36,
   "metadata": {},
   "outputs": [
    {
     "name": "stdout",
     "output_type": "stream",
     "text": [
      "t:\\studies\\py_projects\\master_thesis\\cnn-vs-transformers-msc-thesis\\results\\20240918-image-inpaining-example-fish\\fake_dataset\\train\\n01440764\\n01440764_1185.JPEG\n"
     ]
    }
   ],
   "source": [
    "import random\n",
    "random.seed(42)\n",
    "indices_order = list(range(len(all_explanations_filtered[0]['paths_original_images'])))\n",
    "random.shuffle(indices_order)\n",
    "\n",
    "for i in range(min(30, len(indices_order))):\n",
    "    path_to_some_image = all_explanations_filtered[0]['paths_original_images'][indices_order[i]]\n",
    "    print(path_to_some_image)\n",
    "    plot_comparison_of_explanations(filter_all_explanations(all_explanations_filtered, path_to_some_image))"
   ]
  },
  {
   "cell_type": "markdown",
   "metadata": {},
   "source": [
    "#### Also plots images where not all models have agreed"
   ]
  },
  {
   "cell_type": "code",
   "execution_count": 37,
   "metadata": {},
   "outputs": [
    {
     "data": {
      "text/plain": [
       "1"
      ]
     },
     "execution_count": 37,
     "metadata": {},
     "output_type": "execute_result"
    }
   ],
   "source": [
    "all_explanations_filtered_one_wrong = filter_images_where_at_least_one_model_was_wrong(all_explanations, all_agree=False)\n",
    "len(all_explanations_filtered_one_wrong[0]['predictions'])"
   ]
  },
  {
   "cell_type": "code",
   "execution_count": 38,
   "metadata": {},
   "outputs": [
    {
     "name": "stdout",
     "output_type": "stream",
     "text": [
      "t:\\studies\\py_projects\\master_thesis\\cnn-vs-transformers-msc-thesis\\results\\20240918-image-inpaining-example-fish\\fake_dataset\\train\\n01440764\\n01440764_1185_modified.JPEG\n"
     ]
    }
   ],
   "source": [
    "indices_order = list(range(len(all_explanations_filtered_one_wrong[0]['paths_original_images'])))\n",
    "random.shuffle(indices_order)\n",
    "\n",
    "for i in range(min(30, len(indices_order))):\n",
    "    path_to_some_image = all_explanations_filtered_one_wrong[0]['paths_original_images'][indices_order[i]]\n",
    "    print(path_to_some_image)\n",
    "    plot_comparison_of_explanations(filter_all_explanations(all_explanations_filtered_one_wrong, path_to_some_image), output_suffix='not_all_correct')"
   ]
  }
 ],
 "metadata": {
  "kernelspec": {
   "display_name": "master-thesis-cnn-vs-transformers",
   "language": "python",
   "name": "python3"
  },
  "language_info": {
   "codemirror_mode": {
    "name": "ipython",
    "version": 3
   },
   "file_extension": ".py",
   "mimetype": "text/x-python",
   "name": "python",
   "nbconvert_exporter": "python",
   "pygments_lexer": "ipython3",
   "version": "3.11.4"
  }
 },
 "nbformat": 4,
 "nbformat_minor": 2
}
