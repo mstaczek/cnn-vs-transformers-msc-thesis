{
 "cells": [
  {
   "cell_type": "markdown",
   "metadata": {},
   "source": [
    "## Imports"
   ]
  },
  {
   "cell_type": "code",
   "execution_count": 1,
   "metadata": {},
   "outputs": [],
   "source": [
    "import os\n",
    "current_file_dir = os.getcwd()\n",
    "os.chdir(\"../../codes/\")\n",
    "\n",
    "from src.load_explanations import load_explanations_of_many_models\n",
    "from src.compare_explanations import compare_explanations, cohens_kappa_metric\n",
    "from src import strings_to_classes_mappings\n",
    "\n",
    "os.chdir(current_file_dir)"
   ]
  },
  {
   "cell_type": "code",
   "execution_count": 2,
   "metadata": {},
   "outputs": [
    {
     "name": "stdout",
     "output_type": "stream",
     "text": [
      "Possible datasets: ['imagenette2']\n",
      "Possible models: ['ConvNeXtV2_Nano', 'DeiT_S', 'DeiT_T', 'DenseNet121', 'EfficientNet_B3', 'EfficientNet_B4', 'MobileNetV3', 'PyramidViT_V2_B2', 'Res2Net50', 'ResNet18', 'ResNet50', 'ResNeXt50', 'Swin_T', 'ViT_B_32']\n",
      "Possible explanations: ['GradCAM', 'IntegratedGradients', 'KernelSHAP']\n"
     ]
    }
   ],
   "source": [
    "print(\"Possible datasets:\", list(strings_to_classes_mappings.datasets_mapping.keys()))\n",
    "print(\"Possible models:\", list(strings_to_classes_mappings.models_mapping.keys()))\n",
    "print(\"Possible explanations:\", list(strings_to_classes_mappings.explanations_mapping.keys()))\n",
    "models_list = list(strings_to_classes_mappings.models_mapping.keys())"
   ]
  },
  {
   "cell_type": "markdown",
   "metadata": {},
   "source": [
    "# Getting data"
   ]
  },
  {
   "cell_type": "code",
   "execution_count": 3,
   "metadata": {},
   "outputs": [],
   "source": [
    "paths_to_explanations = {\n",
    "    \"GradCAM\" : os.path.join(current_file_dir, os.pardir, \"20240620-gradcam-kernelshap-ig-128\"),\n",
    "    # \"KernelSHAP\" : os.path.join(current_file_dir, os.pardir, \"20240620-gradcam-kernelshap-ig-128\"),\n",
    "    # \"IntegratedGradients\" : os.path.join(current_file_dir, os.pardir, \"20240704-integratedgradients-abs-value\"),\n",
    "}"
   ]
  },
  {
   "cell_type": "code",
   "execution_count": 4,
   "metadata": {},
   "outputs": [
    {
     "name": "stderr",
     "output_type": "stream",
     "text": [
      "Loading explanations: 100%|██████████| 128/128 [00:00<00:00, 807.66it/s]\n",
      "Loading explanations: 100%|██████████| 128/128 [00:00<00:00, 993.16it/s]\n",
      "Loading explanations: 100%|██████████| 128/128 [00:00<00:00, 1444.31it/s]\n",
      "Loading explanations: 100%|██████████| 128/128 [00:00<00:00, 1538.17it/s]\n",
      "Loading explanations: 100%|██████████| 128/128 [00:00<00:00, 1467.17it/s]\n",
      "Loading explanations: 100%|██████████| 128/128 [00:00<00:00, 1329.07it/s]\n",
      "Loading explanations: 100%|██████████| 128/128 [00:00<00:00, 1223.61it/s]\n",
      "Loading explanations: 100%|██████████| 128/128 [00:00<00:00, 1513.08it/s]\n",
      "Loading explanations: 100%|██████████| 128/128 [00:00<00:00, 1377.61it/s]\n",
      "Loading explanations: 100%|██████████| 128/128 [00:00<00:00, 979.90it/s] \n",
      "Loading explanations: 100%|██████████| 128/128 [00:00<00:00, 903.59it/s]\n",
      "Loading explanations: 100%|██████████| 128/128 [00:00<00:00, 1037.86it/s]\n",
      "Loading explanations: 100%|██████████| 128/128 [00:00<00:00, 755.94it/s]\n",
      "Loading explanations: 100%|██████████| 128/128 [00:00<00:00, 584.56it/s]\n"
     ]
    },
    {
     "name": "stdout",
     "output_type": "stream",
     "text": [
      "Loaded 128 common explanations for each model.\n"
     ]
    }
   ],
   "source": [
    "explanations_many_models = load_explanations_of_many_models('imagenette2', models_list, 'GradCAM', root_explanations=paths_to_explanations['GradCAM'])"
   ]
  },
  {
   "cell_type": "markdown",
   "metadata": {},
   "source": [
    "## Compare all explanations at once"
   ]
  },
  {
   "cell_type": "code",
   "execution_count": 5,
   "metadata": {},
   "outputs": [
    {
     "name": "stdout",
     "output_type": "stream",
     "text": [
      "1.0\n",
      "0.2523852569761924\n",
      "0.22810417289472862\n",
      "0.17914571768421872\n",
      "0.19368758032763755\n",
      "0.21328272170167262\n",
      "0.31540317959315867\n",
      "0.16208761308591635\n",
      "0.1534763983962868\n",
      "0.29383472541736444\n",
      "0.2356303463034065\n",
      "0.2253676538875259\n",
      "0.25879689404903816\n",
      "0.18377281420214786\n",
      "1.0\n",
      "0.37237483469439003\n",
      "0.25449372343508714\n",
      "0.26652222839664963\n",
      "0.29476990646241696\n",
      "0.3397827961823231\n",
      "0.2228574014273399\n",
      "0.24130456625974706\n",
      "0.3107642302505149\n",
      "0.31311287330127857\n",
      "0.2971511233432289\n",
      "0.34999373900094966\n",
      "0.18289727020730784\n",
      "1.0\n",
      "0.17469621945408476\n",
      "0.1948832494171897\n",
      "0.2158871273523736\n",
      "0.2514454029095482\n",
      "0.14014730172023582\n",
      "0.15630209836733544\n",
      "0.2521057038714112\n",
      "0.23682026364988795\n",
      "0.20635751715600237\n",
      "0.24673349700531366\n",
      "0.14141199220050726\n",
      "1.0\n",
      "0.4653300464913974\n",
      "0.46681941156018225\n",
      "0.3780201847604162\n",
      "0.4288557676408249\n",
      "0.6179675370257478\n",
      "0.4075701052663898\n",
      "0.45410164531389796\n",
      "0.3963802961958748\n",
      "0.4670189480343929\n",
      "0.1376908903134324\n",
      "1.0\n",
      "0.5569669673222759\n",
      "0.4205279455672172\n",
      "0.3153234759688328\n",
      "0.48652117322539856\n",
      "0.45729333288468543\n",
      "0.553221523600516\n",
      "0.50877610041221\n",
      "0.4598056862451826\n",
      "0.1685550645265883\n",
      "1.0\n",
      "0.4212590362005044\n",
      "0.3516442314444307\n",
      "0.43105710390715146\n",
      "0.46319113456042427\n",
      "0.5292977837370061\n",
      "0.4427041849477391\n",
      "0.4965114568231743\n",
      "0.17099456937802882\n",
      "1.0\n",
      "0.28207322270888235\n",
      "0.3341191438340504\n",
      "0.4741423988054436\n",
      "0.4757103159907309\n",
      "0.42060563778782833\n",
      "0.4417937003287593\n",
      "0.19156802300631837\n",
      "1.0\n",
      "0.3964063218942041\n",
      "0.2758560707859852\n",
      "0.2914196405927967\n",
      "0.26974014194584517\n",
      "0.41785157702543096\n",
      "0.1501739563736625\n",
      "1.0\n",
      "0.35010111267504274\n",
      "0.42566797664197786\n",
      "0.3755554818307828\n",
      "0.41169677626759527\n",
      "0.1333800384054742\n",
      "1.0\n",
      "0.5571044351834349\n",
      "0.4655190950019016\n",
      "0.48631023423264463\n",
      "0.19075026885469548\n",
      "1.0\n",
      "0.5927210580388331\n",
      "0.5263974585020901\n",
      "0.17649638063115514\n",
      "1.0\n",
      "0.4633005595680978\n",
      "0.16988332919469706\n",
      "1.0\n",
      "0.22838891341581147\n",
      "1.0\n"
     ]
    }
   ],
   "source": [
    "cohens_kappa_matrix = compare_explanations(explanations_many_models, comparison_function=cohens_kappa_metric)\n",
    "cohens_kappa_matrix.to_csv(os.path.join(current_file_dir, \"cohens_kappa_matrix_gradcam.csv\"))"
   ]
  }
 ],
 "metadata": {
  "kernelspec": {
   "display_name": "master-thesis-cnn-vs-transformers",
   "language": "python",
   "name": "python3"
  },
  "language_info": {
   "codemirror_mode": {
    "name": "ipython",
    "version": 3
   },
   "file_extension": ".py",
   "mimetype": "text/x-python",
   "name": "python",
   "nbconvert_exporter": "python",
   "pygments_lexer": "ipython3",
   "version": "3.11.4"
  }
 },
 "nbformat": 4,
 "nbformat_minor": 2
}
