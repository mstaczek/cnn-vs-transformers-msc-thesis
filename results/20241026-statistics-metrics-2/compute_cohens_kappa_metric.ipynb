{
 "cells": [
  {
   "cell_type": "markdown",
   "metadata": {},
   "source": [
    "## Imports"
   ]
  },
  {
   "cell_type": "code",
   "execution_count": 1,
   "metadata": {},
   "outputs": [],
   "source": [
    "import os\n",
    "current_file_dir = os.getcwd()\n",
    "os.chdir(\"../../codes/\")\n",
    "\n",
    "from src.load_explanations import load_explanations_of_many_models\n",
    "from src.compare_explanations import compare_explanations, cohens_kappa_metric\n",
    "from src import strings_to_classes_mappings\n",
    "\n",
    "os.chdir(current_file_dir)"
   ]
  },
  {
   "cell_type": "code",
   "execution_count": 2,
   "metadata": {},
   "outputs": [
    {
     "name": "stdout",
     "output_type": "stream",
     "text": [
      "Possible datasets: ['imagenette2']\n",
      "Possible models: ['ConvNeXtV2_Nano', 'DeiT_S', 'DeiT_T', 'DenseNet121', 'EfficientNet_B3', 'EfficientNet_B4', 'MobileNetV3', 'PyramidViT_V2_B2', 'Res2Net50', 'ResNet18', 'ResNet50', 'ResNeXt50', 'Swin_T', 'ViT_B_32']\n",
      "Possible explanations: ['GradCAM', 'IntegratedGradients', 'KernelSHAP']\n"
     ]
    }
   ],
   "source": [
    "print(\"Possible datasets:\", list(strings_to_classes_mappings.datasets_mapping.keys()))\n",
    "print(\"Possible models:\", list(strings_to_classes_mappings.models_mapping.keys()))\n",
    "print(\"Possible explanations:\", list(strings_to_classes_mappings.explanations_mapping.keys()))\n",
    "models_list = list(strings_to_classes_mappings.models_mapping.keys())"
   ]
  },
  {
   "cell_type": "markdown",
   "metadata": {},
   "source": [
    "# Getting data"
   ]
  },
  {
   "cell_type": "code",
   "execution_count": 3,
   "metadata": {},
   "outputs": [],
   "source": [
    "paths_to_explanations = {\n",
    "    \"GradCAM\" : os.path.join(current_file_dir, os.pardir, \"20240620-gradcam-kernelshap-ig-128\"),\n",
    "    # \"KernelSHAP\" : os.path.join(current_file_dir, os.pardir, \"20240620-gradcam-kernelshap-ig-128\"),\n",
    "    # \"IntegratedGradients\" : os.path.join(current_file_dir, os.pardir, \"20240704-integratedgradients-abs-value\"),\n",
    "}"
   ]
  },
  {
   "cell_type": "code",
   "execution_count": 4,
   "metadata": {},
   "outputs": [
    {
     "name": "stderr",
     "output_type": "stream",
     "text": [
      "Loading explanations: 100%|██████████| 128/128 [00:00<00:00, 947.69it/s]\n",
      "Loading explanations: 100%|██████████| 128/128 [00:00<00:00, 784.22it/s]\n",
      "Loading explanations: 100%|██████████| 128/128 [00:00<00:00, 1317.66it/s]\n",
      "Loading explanations: 100%|██████████| 128/128 [00:00<00:00, 1393.18it/s]\n",
      "Loading explanations: 100%|██████████| 128/128 [00:00<00:00, 1382.80it/s]\n",
      "Loading explanations: 100%|██████████| 128/128 [00:00<00:00, 1318.71it/s]\n",
      "Loading explanations: 100%|██████████| 128/128 [00:00<00:00, 1138.34it/s]\n",
      "Loading explanations: 100%|██████████| 128/128 [00:00<00:00, 1264.82it/s]\n",
      "Loading explanations: 100%|██████████| 128/128 [00:00<00:00, 760.55it/s]\n",
      "Loading explanations: 100%|██████████| 128/128 [00:00<00:00, 898.39it/s]\n",
      "Loading explanations: 100%|██████████| 128/128 [00:00<00:00, 1079.91it/s]\n",
      "Loading explanations: 100%|██████████| 128/128 [00:00<00:00, 1314.34it/s]\n",
      "Loading explanations: 100%|██████████| 128/128 [00:00<00:00, 1126.30it/s]\n",
      "Loading explanations: 100%|██████████| 128/128 [00:00<00:00, 600.56it/s]\n"
     ]
    },
    {
     "name": "stdout",
     "output_type": "stream",
     "text": [
      "Loaded 128 common explanations for each model.\n"
     ]
    }
   ],
   "source": [
    "explanations_many_models = load_explanations_of_many_models('imagenette2', models_list, 'GradCAM', root_explanations=paths_to_explanations['GradCAM'])"
   ]
  },
  {
   "cell_type": "markdown",
   "metadata": {},
   "source": [
    "## Compare all explanations at once"
   ]
  },
  {
   "cell_type": "code",
   "execution_count": 5,
   "metadata": {},
   "outputs": [],
   "source": [
    "from functools import partial\n",
    "\n",
    "thresholds = [0.4, 0.7]\n",
    "\n",
    "cohens_kappa_matrix = compare_explanations(explanations_many_models, comparison_function=partial(cohens_kappa_metric, thresholds=thresholds))\n",
    "cohens_kappa_matrix.to_csv(os.path.join(current_file_dir, \"cohens_kappa_matrix_gradcam.csv\"))"
   ]
  }
 ],
 "metadata": {
  "kernelspec": {
   "display_name": "master-thesis-cnn-vs-transformers",
   "language": "python",
   "name": "python3"
  },
  "language_info": {
   "codemirror_mode": {
    "name": "ipython",
    "version": 3
   },
   "file_extension": ".py",
   "mimetype": "text/x-python",
   "name": "python",
   "nbconvert_exporter": "python",
   "pygments_lexer": "ipython3",
   "version": "3.11.4"
  }
 },
 "nbformat": 4,
 "nbformat_minor": 2
}
