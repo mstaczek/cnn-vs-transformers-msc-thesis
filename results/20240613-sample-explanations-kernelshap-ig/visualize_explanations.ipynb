{
 "cells": [
  {
   "cell_type": "markdown",
   "metadata": {},
   "source": [
    "## Imports"
   ]
  },
  {
   "cell_type": "code",
   "execution_count": 1,
   "metadata": {},
   "outputs": [],
   "source": [
    "import os\n",
    "current_file_dir = os.getcwd()\n",
    "os.chdir(\"../../codes/\")\n",
    "\n",
    "from src.load_explanations import load_explanations_of_many_models, _unify_lenths, _trim_image_path\n",
    "from src import strings_to_classes_mappings\n",
    "\n",
    "os.chdir(current_file_dir)"
   ]
  },
  {
   "cell_type": "markdown",
   "metadata": {},
   "source": [
    "# Usage example\n",
    "\n",
    "Get possible models etc."
   ]
  },
  {
   "cell_type": "code",
   "execution_count": 2,
   "metadata": {},
   "outputs": [
    {
     "name": "stdout",
     "output_type": "stream",
     "text": [
      "Possible datasets: ['imagenette2']\n",
      "Possible models: ['ConvNeXtV2_Nano', 'DeiT_S', 'DeiT_T', 'DenseNet121', 'EfficientNet_B3', 'EfficientNet_B4', 'MobileNetV3', 'PyramidViT_V2_B2', 'Res2Net50', 'ResNet18', 'ResNet50', 'ResNeXt50', 'Swin_T', 'ViT_B_32']\n",
      "Possible explanations: ['GradCAM', 'IntegratedGradients', 'KernelSHAP']\n"
     ]
    }
   ],
   "source": [
    "print(\"Possible datasets:\", list(strings_to_classes_mappings.datasets_mapping.keys()))\n",
    "print(\"Possible models:\", list(strings_to_classes_mappings.models_mapping.keys()))\n",
    "print(\"Possible explanations:\", list(strings_to_classes_mappings.explanations_mapping.keys()))\n",
    "models_list = list(strings_to_classes_mappings.models_mapping.keys())"
   ]
  },
  {
   "cell_type": "markdown",
   "metadata": {},
   "source": [
    "# Getting data"
   ]
  },
  {
   "cell_type": "code",
   "execution_count": 3,
   "metadata": {},
   "outputs": [],
   "source": [
    "paths_to_explanations = {\n",
    "    \"GradCAM\" : os.path.join(current_file_dir, os.pardir, \"20240603-gradcam-512-histograms-clustering\"),\n",
    "    \"KernelSHAP\" : current_file_dir,\n",
    "    \"IntegratedGradients\" : current_file_dir,\n",
    "}"
   ]
  },
  {
   "cell_type": "code",
   "execution_count": 4,
   "metadata": {},
   "outputs": [
    {
     "name": "stderr",
     "output_type": "stream",
     "text": [
      "Loading explanations: 100%|██████████| 8/8 [00:00<00:00, 140.47it/s]\n",
      "Loading explanations: 100%|██████████| 8/8 [00:00<00:00, 216.21it/s]\n",
      "Loading explanations: 100%|██████████| 8/8 [00:00<00:00, 213.61it/s]\n",
      "Loading explanations: 100%|██████████| 8/8 [00:00<00:00, 235.25it/s]\n",
      "Loading explanations: 100%|██████████| 8/8 [00:00<00:00, 239.92it/s]\n",
      "Loading explanations: 100%|██████████| 8/8 [00:00<00:00, 310.03it/s]\n",
      "Loading explanations: 100%|██████████| 8/8 [00:00<00:00, 299.87it/s]\n",
      "Loading explanations: 100%|██████████| 8/8 [00:00<00:00, 333.49it/s]\n",
      "Loading explanations: 100%|██████████| 8/8 [00:00<00:00, 303.94it/s]\n",
      "Loading explanations: 100%|██████████| 8/8 [00:00<00:00, 264.16it/s]\n",
      "Loading explanations: 100%|██████████| 8/8 [00:00<00:00, 306.66it/s]\n",
      "Loading explanations: 100%|██████████| 8/8 [00:00<00:00, 296.98it/s]\n",
      "Loading explanations: 100%|██████████| 8/8 [00:00<00:00, 318.07it/s]\n",
      "Loading explanations: 100%|██████████| 8/8 [00:00<00:00, 326.50it/s]\n"
     ]
    },
    {
     "name": "stdout",
     "output_type": "stream",
     "text": [
      "Loaded 8 common explanations for each model.\n"
     ]
    }
   ],
   "source": [
    "explanations_many_models = load_explanations_of_many_models('imagenette2', models_list, 'KernelSHAP', root_explanations=current_file_dir)"
   ]
  },
  {
   "cell_type": "code",
   "execution_count": 5,
   "metadata": {},
   "outputs": [
    {
     "data": {
      "text/plain": [
       "dict_keys(['explanations', 'paths', 'labels', 'model_name', 'explanation_name', 'predictions'])"
      ]
     },
     "execution_count": 5,
     "metadata": {},
     "output_type": "execute_result"
    }
   ],
   "source": [
    "explanations_many_models[0].keys()"
   ]
  },
  {
   "cell_type": "code",
   "execution_count": 6,
   "metadata": {},
   "outputs": [
    {
     "data": {
      "text/plain": [
       "'KernelSHAP'"
      ]
     },
     "execution_count": 6,
     "metadata": {},
     "output_type": "execute_result"
    }
   ],
   "source": [
    "explanations_many_models[0]['explanation_name']"
   ]
  },
  {
   "cell_type": "code",
   "execution_count": 7,
   "metadata": {},
   "outputs": [
    {
     "data": {
      "text/plain": [
       "'t:\\\\studies\\\\py_projects\\\\master_thesis\\\\cnn-vs-transformers-msc-thesis\\\\results\\\\20240613-sample-explanations-kernelshap-ig\\\\imagenette2\\\\KernelSHAP\\\\ConvNeXtV2_Nano\\\\n01440764\\\\ILSVRC2012_val_00012503.npy'"
      ]
     },
     "execution_count": 7,
     "metadata": {},
     "output_type": "execute_result"
    }
   ],
   "source": [
    "explanations_many_models[0]['paths'][0]"
   ]
  },
  {
   "cell_type": "markdown",
   "metadata": {},
   "source": [
    "### Add explanations from all models as a list of results"
   ]
  },
  {
   "cell_type": "code",
   "execution_count": 8,
   "metadata": {},
   "outputs": [
    {
     "name": "stderr",
     "output_type": "stream",
     "text": [
      "Loading explanations: 100%|██████████| 512/512 [00:02<00:00, 177.20it/s]\n",
      "Loading explanations: 100%|██████████| 512/512 [00:01<00:00, 423.18it/s]\n",
      "Loading explanations: 100%|██████████| 512/512 [00:01<00:00, 352.40it/s]\n",
      "Loading explanations: 100%|██████████| 512/512 [00:01<00:00, 378.98it/s]\n",
      "Loading explanations: 100%|██████████| 512/512 [00:01<00:00, 405.76it/s]\n",
      "Loading explanations: 100%|██████████| 512/512 [00:02<00:00, 215.53it/s]\n",
      "Loading explanations: 100%|██████████| 512/512 [00:01<00:00, 332.87it/s]\n",
      "Loading explanations: 100%|██████████| 512/512 [00:03<00:00, 155.08it/s]\n",
      "Loading explanations: 100%|██████████| 512/512 [00:01<00:00, 332.99it/s]\n",
      "Loading explanations: 100%|██████████| 512/512 [00:02<00:00, 207.07it/s]\n",
      "Loading explanations: 100%|██████████| 512/512 [00:02<00:00, 236.24it/s]\n",
      "Loading explanations: 100%|██████████| 512/512 [00:02<00:00, 234.31it/s]\n",
      "Loading explanations: 100%|██████████| 512/512 [00:04<00:00, 106.54it/s]\n",
      "Loading explanations: 100%|██████████| 512/512 [00:01<00:00, 335.97it/s]\n"
     ]
    },
    {
     "name": "stdout",
     "output_type": "stream",
     "text": [
      "Loaded 512 common explanations for each model.\n"
     ]
    },
    {
     "name": "stderr",
     "output_type": "stream",
     "text": [
      "Loading explanations: 100%|██████████| 8/8 [00:00<00:00, 472.94it/s]\n",
      "Loading explanations: 100%|██████████| 8/8 [00:00<00:00, 219.89it/s]\n",
      "Loading explanations: 100%|██████████| 8/8 [00:00<00:00, 284.28it/s]\n",
      "Loading explanations: 100%|██████████| 8/8 [00:00<00:00, 419.29it/s]\n",
      "Loading explanations: 100%|██████████| 8/8 [00:00<00:00, 203.36it/s]\n",
      "Loading explanations: 100%|██████████| 8/8 [00:00<00:00, 379.36it/s]\n",
      "Loading explanations: 100%|██████████| 8/8 [00:00<00:00, 328.88it/s]\n",
      "Loading explanations: 100%|██████████| 8/8 [00:00<00:00, 377.87it/s]\n",
      "Loading explanations: 100%|██████████| 8/8 [00:00<00:00, 338.28it/s]\n",
      "Loading explanations: 100%|██████████| 8/8 [00:00<00:00, 138.69it/s]\n",
      "Loading explanations: 100%|██████████| 8/8 [00:00<00:00, 116.84it/s]\n",
      "Loading explanations: 100%|██████████| 8/8 [00:00<00:00, 89.81it/s]\n",
      "Loading explanations: 100%|██████████| 8/8 [00:00<00:00, 163.71it/s]\n",
      "Loading explanations: 100%|██████████| 8/8 [00:00<00:00, 204.08it/s]\n"
     ]
    },
    {
     "name": "stdout",
     "output_type": "stream",
     "text": [
      "Loaded 8 common explanations for each model.\n"
     ]
    },
    {
     "name": "stderr",
     "output_type": "stream",
     "text": [
      "Loading explanations: 100%|██████████| 8/8 [00:00<00:00, 419.59it/s]\n",
      "Loading explanations: 100%|██████████| 8/8 [00:00<00:00, 342.58it/s]\n",
      "Loading explanations: 100%|██████████| 8/8 [00:00<00:00, 288.78it/s]\n",
      "Loading explanations: 100%|██████████| 8/8 [00:00<00:00, 200.98it/s]\n",
      "Loading explanations: 100%|██████████| 8/8 [00:00<00:00, 350.11it/s]\n",
      "Loading explanations: 100%|██████████| 8/8 [00:00<00:00, 368.95it/s]\n",
      "Loading explanations: 100%|██████████| 8/8 [00:00<00:00, 255.82it/s]\n",
      "Loading explanations: 100%|██████████| 8/8 [00:00<00:00, 119.39it/s]\n",
      "Loading explanations: 100%|██████████| 8/8 [00:00<00:00, 118.88it/s]\n",
      "Loading explanations: 100%|██████████| 8/8 [00:00<00:00, 397.48it/s]\n",
      "Loading explanations: 100%|██████████| 8/8 [00:00<00:00, 255.88it/s]\n",
      "Loading explanations: 100%|██████████| 8/8 [00:00<00:00, 238.32it/s]\n",
      "Loading explanations: 100%|██████████| 8/8 [00:00<00:00, 368.72it/s]\n",
      "Loading explanations: 100%|██████████| 8/8 [00:00<00:00, 211.08it/s]\n"
     ]
    },
    {
     "name": "stdout",
     "output_type": "stream",
     "text": [
      "Loaded 8 common explanations for each model.\n"
     ]
    }
   ],
   "source": [
    "all_explanations = []\n",
    "for explanation_method, explanations_path in paths_to_explanations.items():\n",
    "    all_explanations += load_explanations_of_many_models('imagenette2', models_list, explanation_method, root_explanations=explanations_path)"
   ]
  },
  {
   "cell_type": "markdown",
   "metadata": {},
   "source": [
    "### Leave only images analyzed by all models and explanation methods"
   ]
  },
  {
   "cell_type": "code",
   "execution_count": 9,
   "metadata": {},
   "outputs": [
    {
     "name": "stdout",
     "output_type": "stream",
     "text": [
      "Loaded 8 common explanations for each model.\n"
     ]
    }
   ],
   "source": [
    "all_explanations = _unify_lenths(all_explanations)"
   ]
  },
  {
   "cell_type": "markdown",
   "metadata": {},
   "source": [
    "First, add a new key to every results dict to store path to image with explanation without background."
   ]
  },
  {
   "cell_type": "code",
   "execution_count": 10,
   "metadata": {},
   "outputs": [],
   "source": [
    "def add_paths_to_pngs_without_background_images(explanations):\n",
    "    for j in range(len(explanations)):\n",
    "        explanations[j]['paths_only_explanation'] = []\n",
    "        for i, path in enumerate(explanations[j]['paths']):\n",
    "            path_to_image_with_explanation_only = path.replace('.npy', '_only_explanation.png')\n",
    "            if os.path.exists(path_to_image_with_explanation_only):\n",
    "                explanations[j]['paths_only_explanation'].append(path_to_image_with_explanation_only)\n",
    "            else:\n",
    "                print(f\"Path {path_to_image_with_explanation_only} does not exist, skipping\")\n",
    "    return explanations\n",
    "\n",
    "all_explanations = add_paths_to_pngs_without_background_images(all_explanations)"
   ]
  },
  {
   "cell_type": "code",
   "execution_count": 11,
   "metadata": {},
   "outputs": [
    {
     "data": {
      "text/plain": [
       "dict_keys(['explanations', 'paths', 'labels', 'model_name', 'explanation_name', 'predictions', 'paths_only_explanation'])"
      ]
     },
     "execution_count": 11,
     "metadata": {},
     "output_type": "execute_result"
    }
   ],
   "source": [
    "all_explanations[0].keys()"
   ]
  },
  {
   "cell_type": "code",
   "execution_count": 12,
   "metadata": {},
   "outputs": [
    {
     "data": {
      "text/plain": [
       "'n01440764\\\\ILSVRC2012_val_00012503_only_explanation.png'"
      ]
     },
     "execution_count": 12,
     "metadata": {},
     "output_type": "execute_result"
    }
   ],
   "source": [
    "_trim_image_path(all_explanations[0]['paths_only_explanation'][0])"
   ]
  },
  {
   "cell_type": "markdown",
   "metadata": {},
   "source": [
    "### Add paths to source images from imagenette training set"
   ]
  },
  {
   "cell_type": "code",
   "execution_count": 13,
   "metadata": {},
   "outputs": [
    {
     "data": {
      "text/plain": [
       "['n01440764',\n",
       " 'n02102040',\n",
       " 'n02979186',\n",
       " 'n03000684',\n",
       " 'n03028079',\n",
       " 'n03394916',\n",
       " 'n03417042',\n",
       " 'n03425413',\n",
       " 'n03445777',\n",
       " 'n03888257']"
      ]
     },
     "execution_count": 13,
     "metadata": {},
     "output_type": "execute_result"
    }
   ],
   "source": [
    "original_images_root = \"..\\\\..\\\\datasets\\\\imagenette2\\\\train\"\n",
    "os.listdir(original_images_root)"
   ]
  },
  {
   "cell_type": "code",
   "execution_count": 14,
   "metadata": {},
   "outputs": [
    {
     "data": {
      "text/plain": [
       "dict_keys(['explanations', 'paths', 'labels', 'model_name', 'explanation_name', 'predictions', 'paths_only_explanation', 'paths_original_images'])"
      ]
     },
     "execution_count": 14,
     "metadata": {},
     "output_type": "execute_result"
    }
   ],
   "source": [
    "def add_paths_to_original_images(explanations, original_images_root):\n",
    "    for explanation in explanations:\n",
    "        list_of_paths_to_original_images = []\n",
    "        for i, path in enumerate(explanation['paths']):\n",
    "            path_to_image = os.path.join(original_images_root, _trim_image_path(path))\n",
    "            path_to_image = path_to_image.replace('.npy', '.JPEG')\n",
    "            if os.path.exists(path_to_image):\n",
    "                list_of_paths_to_original_images.append(path_to_image)\n",
    "            else:\n",
    "                print(f\"Path {path_to_image} does not exist, skipping\")\n",
    "        explanation['paths_original_images'] = list_of_paths_to_original_images\n",
    "    return explanations\n",
    "\n",
    "all_explanations = add_paths_to_original_images(all_explanations, original_images_root)\n",
    "all_explanations[0].keys()"
   ]
  },
  {
   "cell_type": "code",
   "execution_count": 15,
   "metadata": {},
   "outputs": [
    {
     "data": {
      "text/plain": [
       "['..\\\\..\\\\datasets\\\\imagenette2\\\\train\\\\n01440764\\\\ILSVRC2012_val_00012503.JPEG',\n",
       " '..\\\\..\\\\datasets\\\\imagenette2\\\\train\\\\n02102040\\\\n02102040_1154.JPEG',\n",
       " '..\\\\..\\\\datasets\\\\imagenette2\\\\train\\\\n02102040\\\\n02102040_2644.JPEG',\n",
       " '..\\\\..\\\\datasets\\\\imagenette2\\\\train\\\\n03000684\\\\n03000684_15194.JPEG',\n",
       " '..\\\\..\\\\datasets\\\\imagenette2\\\\train\\\\n03028079\\\\n03028079_49234.JPEG',\n",
       " '..\\\\..\\\\datasets\\\\imagenette2\\\\train\\\\n03417042\\\\n03417042_11534.JPEG',\n",
       " '..\\\\..\\\\datasets\\\\imagenette2\\\\train\\\\n03888257\\\\n03888257_35148.JPEG',\n",
       " '..\\\\..\\\\datasets\\\\imagenette2\\\\train\\\\n03888257\\\\n03888257_4446.JPEG']"
      ]
     },
     "execution_count": 15,
     "metadata": {},
     "output_type": "execute_result"
    }
   ],
   "source": [
    "all_explanations[0]['paths_original_images']"
   ]
  },
  {
   "cell_type": "markdown",
   "metadata": {},
   "source": [
    "### Leave only images for which all models gave the same prediction"
   ]
  },
  {
   "cell_type": "code",
   "execution_count": 16,
   "metadata": {},
   "outputs": [],
   "source": [
    "def filter_images_where_at_least_one_model_was_wrong(explanations):\n",
    "    filtered_explanations = []\n",
    "    # get the number of explanations\n",
    "    number_of_explanations = len(explanations[0]['paths'])\n",
    "\n",
    "    list_of_indices_where_all_models_agree = []\n",
    "    # iterate over explanations, each time checking ith prediction only\n",
    "    for i in range(number_of_explanations):\n",
    "        set_of_predictions = set()\n",
    "        for explanation in explanations:\n",
    "            set_of_predictions.add(explanation['predictions'][i].item())\n",
    "        if len(set_of_predictions) == 1:\n",
    "            list_of_indices_where_all_models_agree.append(i)\n",
    "    \n",
    "    # filter to only leave explanations where all models agree\n",
    "    for explanation in explanations:\n",
    "        filtered_explanation = {}\n",
    "        for key, value in explanation.items():\n",
    "            try:\n",
    "                if type(value) == str:\n",
    "                    raise Exception\n",
    "                filtered_explanation[key] = [value[i] for i in list_of_indices_where_all_models_agree]\n",
    "            except:\n",
    "                filtered_explanation[key] = value\n",
    "        filtered_explanations.append(filtered_explanation)\n",
    "\n",
    "    return filtered_explanations"
   ]
  },
  {
   "cell_type": "markdown",
   "metadata": {},
   "source": [
    "350 out of 512"
   ]
  },
  {
   "cell_type": "code",
   "execution_count": 17,
   "metadata": {},
   "outputs": [
    {
     "data": {
      "text/plain": [
       "6"
      ]
     },
     "execution_count": 17,
     "metadata": {},
     "output_type": "execute_result"
    }
   ],
   "source": [
    "all_explanations_filtered = filter_images_where_at_least_one_model_was_wrong(all_explanations)\n",
    "len(all_explanations_filtered[0]['predictions'])"
   ]
  },
  {
   "cell_type": "markdown",
   "metadata": {},
   "source": [
    "### Plot a few original images to see if any would be nice in explanations"
   ]
  },
  {
   "cell_type": "code",
   "execution_count": 18,
   "metadata": {},
   "outputs": [
    {
     "name": "stdout",
     "output_type": "stream",
     "text": [
      "0 ..\\..\\datasets\\imagenette2\\train\\n01440764\\ILSVRC2012_val_00012503.JPEG\n"
     ]
    },
    {
     "data": {
      "image/png": "[encoded data removed]",
      "text/plain": [
       "<Figure size 100x100 with 1 Axes>"
      ]
     },
     "metadata": {},
     "output_type": "display_data"
    },
    {
     "name": "stdout",
     "output_type": "stream",
     "text": [
      "1 ..\\..\\datasets\\imagenette2\\train\\n02102040\\n02102040_1154.JPEG\n"
     ]
    },
    {
     "data": {
      "image/png": "[encoded data removed]",
      "text/plain": [
       "<Figure size 100x100 with 1 Axes>"
      ]
     },
     "metadata": {},
     "output_type": "display_data"
    },
    {
     "name": "stdout",
     "output_type": "stream",
     "text": [
      "2 ..\\..\\datasets\\imagenette2\\train\\n02102040\\n02102040_2644.JPEG\n"
     ]
    },
    {
     "data": {
      "image/png": "[encoded data removed]",
      "text/plain": [
       "<Figure size 100x100 with 1 Axes>"
      ]
     },
     "metadata": {},
     "output_type": "display_data"
    },
    {
     "name": "stdout",
     "output_type": "stream",
     "text": [
      "3 ..\\..\\datasets\\imagenette2\\train\\n03000684\\n03000684_15194.JPEG\n"
     ]
    },
    {
     "data": {
      "image/png": "[encoded data removed]",
      "text/plain": [
       "<Figure size 100x100 with 1 Axes>"
      ]
     },
     "metadata": {},
     "output_type": "display_data"
    },
    {
     "name": "stdout",
     "output_type": "stream",
     "text": [
      "4 ..\\..\\datasets\\imagenette2\\train\\n03028079\\n03028079_49234.JPEG\n"
     ]
    },
    {
     "data": {
      "image/png": "[encoded data removed]",
      "text/plain": [
       "<Figure size 100x100 with 1 Axes>"
      ]
     },
     "metadata": {},
     "output_type": "display_data"
    },
    {
     "name": "stdout",
     "output_type": "stream",
     "text": [
      "5 ..\\..\\datasets\\imagenette2\\train\\n03417042\\n03417042_11534.JPEG\n"
     ]
    },
    {
     "data": {
      "image/png": "[encoded data removed]",
      "text/plain": [
       "<Figure size 100x100 with 1 Axes>"
      ]
     },
     "metadata": {},
     "output_type": "display_data"
    }
   ],
   "source": [
    "import numpy as np\n",
    "import matplotlib.pyplot as plt\n",
    "from PIL import Image\n",
    "\n",
    "def show_image(path):\n",
    "    image = Image.open(path)\n",
    "    image_resized = image.resize((224, 224))\n",
    "    image_resized = np.array(image_resized)\n",
    "    fig, ax = plt.subplots(figsize=(1,1))\n",
    "    ax.imshow(image_resized)\n",
    "    ax.axis('off')\n",
    "    plt.show()\n",
    "\n",
    "# choose nice image\n",
    "\n",
    "for image_number, path_to_some_image in enumerate(all_explanations_filtered[0]['paths_original_images']):\n",
    "    print(image_number, path_to_some_image)\n",
    "    # show_image(all_explanations[0]['paths_only_explanation'][2])\n",
    "    show_image(path_to_some_image)\n",
    "    if image_number == 10:\n",
    "        break"
   ]
  },
  {
   "cell_type": "code",
   "execution_count": 19,
   "metadata": {},
   "outputs": [
    {
     "data": {
      "image/png": "[encoded data removed]",
      "text/plain": [
       "<Figure size 100x100 with 1 Axes>"
      ]
     },
     "metadata": {},
     "output_type": "display_data"
    }
   ],
   "source": [
    "image_path = \"..\\\\..\\\\datasets\\\\imagenette2\\\\train\\\\n02102040\\\\n02102040_2644.JPEG\"\n",
    "show_image(image_path)"
   ]
  },
  {
   "cell_type": "code",
   "execution_count": 20,
   "metadata": {},
   "outputs": [
    {
     "data": {
      "text/plain": [
       "dict_keys(['explanations', 'paths', 'labels', 'model_name', 'explanation_name', 'predictions', 'paths_only_explanation', 'paths_original_images'])"
      ]
     },
     "execution_count": 20,
     "metadata": {},
     "output_type": "execute_result"
    }
   ],
   "source": [
    "all_explanations_filtered[0].keys()"
   ]
  },
  {
   "cell_type": "markdown",
   "metadata": {},
   "source": [
    "# Plotting - for each image, plot all models and all explanations"
   ]
  },
  {
   "cell_type": "markdown",
   "metadata": {},
   "source": [
    "### Filter all results to leave only a list of dicts containing a single explanation about given path"
   ]
  },
  {
   "cell_type": "code",
   "execution_count": 21,
   "metadata": {},
   "outputs": [
    {
     "data": {
      "text/plain": [
       "{'explanations': tensor([[0., 0., 0.,  ..., 0., 0., 0.],\n",
       "         [0., 0., 0.,  ..., 0., 0., 0.],\n",
       "         [0., 0., 0.,  ..., 0., 0., 0.],\n",
       "         ...,\n",
       "         [0., 0., 0.,  ..., 0., 0., 0.],\n",
       "         [0., 0., 0.,  ..., 0., 0., 0.],\n",
       "         [0., 0., 0.,  ..., 0., 0., 0.]]),\n",
       " 'paths': 't:\\\\studies\\\\py_projects\\\\master_thesis\\\\cnn-vs-transformers-msc-thesis\\\\results\\\\20240613-sample-explanations-kernelshap-ig\\\\..\\\\20240603-gradcam-512-histograms-clustering\\\\imagenette2\\\\GradCAM\\\\ConvNeXtV2_Nano\\\\n02102040\\\\n02102040_2644.npy',\n",
       " 'labels': tensor(1),\n",
       " 'model_name': 'ConvNeXtV2_Nano',\n",
       " 'explanation_name': 'GradCAM',\n",
       " 'predictions': tensor(217),\n",
       " 'paths_only_explanation': 't:\\\\studies\\\\py_projects\\\\master_thesis\\\\cnn-vs-transformers-msc-thesis\\\\results\\\\20240613-sample-explanations-kernelshap-ig\\\\..\\\\20240603-gradcam-512-histograms-clustering\\\\imagenette2\\\\GradCAM\\\\ConvNeXtV2_Nano\\\\n02102040\\\\n02102040_2644_only_explanation.png',\n",
       " 'paths_original_images': '..\\\\..\\\\datasets\\\\imagenette2\\\\train\\\\n02102040\\\\n02102040_2644.JPEG'}"
      ]
     },
     "execution_count": 21,
     "metadata": {},
     "output_type": "execute_result"
    }
   ],
   "source": [
    "def filter_explanations(dict_of_explanations_from_model, original_image_path_to_be_filtered):\n",
    "    # get index of path in the paths_original_images list\n",
    "    index = dict_of_explanations_from_model['paths_original_images'].index(original_image_path_to_be_filtered)\n",
    "    filtered_dict = {}\n",
    "\n",
    "    # in all other lists in the dict, get the element with the same index\n",
    "    for k, v in dict_of_explanations_from_model.items():\n",
    "        try:\n",
    "            if type(v) == str:\n",
    "                raise Exception\n",
    "            filtered_dict[k] = v[index]\n",
    "        except:\n",
    "            filtered_dict[k] = v\n",
    "    return filtered_dict\n",
    "\n",
    "def filter_all_explanations(all_explanations, image_path):\n",
    "    return [filter_explanations(e, image_path) for e in all_explanations]\n",
    "\n",
    "filter_explanations(all_explanations[0], image_path)"
   ]
  },
  {
   "cell_type": "code",
   "execution_count": 22,
   "metadata": {},
   "outputs": [],
   "source": [
    "explanations_filtered = filter_all_explanations(all_explanations_filtered, image_path)"
   ]
  },
  {
   "cell_type": "markdown",
   "metadata": {},
   "source": [
    "### Plotting function, saves the result to file named after original image filename"
   ]
  },
  {
   "cell_type": "code",
   "execution_count": 23,
   "metadata": {},
   "outputs": [],
   "source": [
    "import os\n",
    "import matplotlib.pyplot as plt\n",
    "import matplotlib.image as mpimg\n",
    "\n",
    "\n",
    "def plot_comparison_of_explanations(explanations_filtered):\n",
    "\n",
    "    explanation_to_title_mapping = {\n",
    "        'GradCAM' : 'GradCAM',\n",
    "        'IntegratedGradients' : 'Integrated\\nGradients',\n",
    "        'KernelSHAP' : 'KernelSHAP'\n",
    "    }\n",
    "\n",
    "    data = explanations_filtered\n",
    "    \n",
    "    # Extract unique models and explanation methods\n",
    "    models = sorted(set(item['model_name'] for item in data))\n",
    "    explanation_methods = sorted(set(item['explanation_name'] for item in data))\n",
    "\n",
    "    # Create a dictionary to map (model, explanation) to the image path\n",
    "    image_paths = {(item['model_name'], item['explanation_name']): item['paths_only_explanation'] for item in data}\n",
    "\n",
    "    # Plotting the images\n",
    "    fig, axes = plt.subplots(len(models)+1, len(explanation_methods), figsize=(4,13), dpi=300)\n",
    "\n",
    "    # set 0th row with original image\n",
    "    for i in range(len(explanation_methods)):\n",
    "        ax = axes[0, i]\n",
    "        ax.imshow(np.array(Image.open(data[0]['paths_original_images']).resize((224, 224))))\n",
    "        ax.axis('off')\n",
    "    axes[0, 0].axis('on')\n",
    "    axes[0, 0].tick_params(left=False, bottom=False, labelleft=False, labelbottom=False)\n",
    "    axes[0, 0].set_ylabel('Original Image', rotation=0, labelpad=50)\n",
    "\n",
    "\n",
    "    for i, model in enumerate(models):\n",
    "        for j, explanation in enumerate(explanation_methods):\n",
    "            ax = axes[i+1, j]\n",
    "            image_path_1 = image_paths.get((model, explanation), None)\n",
    "            \n",
    "            if image_path_1 and os.path.exists(image_path_1):\n",
    "                img = mpimg.imread(image_path_1)\n",
    "                ax.imshow(img)\n",
    "            else:\n",
    "                ax.text(0.5, 0.5, 'No Image', ha='center', va='center', fontsize=12)\n",
    "            \n",
    "            # Set thin frame around the image\n",
    "            for spine in ax.spines.values():\n",
    "                spine.set_edgecolor('black')  # Color of the frame\n",
    "                spine.set_linewidth(0.5)      # Thickness of the frame\n",
    "            \n",
    "            if i == len(models) - 1:\n",
    "                ax.set_xlabel(explanation_to_title_mapping[explanation], rotation=90)\n",
    "            if j == 0:\n",
    "                ax.set_ylabel(model.replace('_', ' '), rotation=0, labelpad=50)\n",
    "            \n",
    "            # Hide the ticks and labels\n",
    "            ax.tick_params(left=False, bottom=False, labelleft=False, labelbottom=False)\n",
    "\n",
    "            # Make sure the frame (spines) are visible\n",
    "            ax.spines['top'].set_visible(True)\n",
    "            ax.spines['bottom'].set_visible(True)\n",
    "            ax.spines['left'].set_visible(True)\n",
    "            ax.spines['right'].set_visible(True)\n",
    "\n",
    "    # reduce space between subplots\n",
    "    plt.tight_layout()\n",
    "    plt.subplots_adjust(hspace=0.01, wspace=0.01)\n",
    "\n",
    "    output_filename_addition = data[0]['paths_original_images'].split('\\\\')[-1].replace('.JPEG', '')\n",
    "    plt.savefig(f\"explanations_{output_filename_addition}.png\", dpi=300)\n",
    "    plt.close()"
   ]
  },
  {
   "cell_type": "markdown",
   "metadata": {},
   "source": [
    "### Create and save all plots"
   ]
  },
  {
   "cell_type": "markdown",
   "metadata": {},
   "source": [
    "A single test."
   ]
  },
  {
   "cell_type": "code",
   "execution_count": 24,
   "metadata": {},
   "outputs": [],
   "source": [
    "explanations_filtered = filter_all_explanations(all_explanations_filtered, image_path)\n",
    "plot_comparison_of_explanations(explanations_filtered)"
   ]
  },
  {
   "cell_type": "markdown",
   "metadata": {},
   "source": [
    "All images for which all models gave the same prediction."
   ]
  },
  {
   "cell_type": "code",
   "execution_count": 25,
   "metadata": {},
   "outputs": [
    {
     "name": "stdout",
     "output_type": "stream",
     "text": [
      "..\\..\\datasets\\imagenette2\\train\\n01440764\\ILSVRC2012_val_00012503.JPEG\n",
      "..\\..\\datasets\\imagenette2\\train\\n02102040\\n02102040_1154.JPEG\n",
      "..\\..\\datasets\\imagenette2\\train\\n02102040\\n02102040_2644.JPEG\n",
      "..\\..\\datasets\\imagenette2\\train\\n03000684\\n03000684_15194.JPEG\n",
      "..\\..\\datasets\\imagenette2\\train\\n03028079\\n03028079_49234.JPEG\n",
      "..\\..\\datasets\\imagenette2\\train\\n03417042\\n03417042_11534.JPEG\n"
     ]
    }
   ],
   "source": [
    "for path_to_some_image in all_explanations_filtered[0]['paths_original_images']:\n",
    "    print(path_to_some_image)\n",
    "    plot_comparison_of_explanations(filter_all_explanations(all_explanations_filtered, path_to_some_image))"
   ]
  }
 ],
 "metadata": {
  "kernelspec": {
   "display_name": "master-thesis-cnn-vs-transformers",
   "language": "python",
   "name": "python3"
  },
  "language_info": {
   "codemirror_mode": {
    "name": "ipython",
    "version": 3
   },
   "file_extension": ".py",
   "mimetype": "text/x-python",
   "name": "python",
   "nbconvert_exporter": "python",
   "pygments_lexer": "ipython3",
   "version": "3.11.4"
  }
 },
 "nbformat": 4,
 "nbformat_minor": 2
}
