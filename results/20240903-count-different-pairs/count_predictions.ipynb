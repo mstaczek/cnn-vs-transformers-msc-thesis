{
 "cells": [
  {
   "cell_type": "markdown",
   "metadata": {},
   "source": [
    "## Imports"
   ]
  },
  {
   "cell_type": "code",
   "execution_count": 1,
   "metadata": {},
   "outputs": [],
   "source": [
    "import os\n",
    "current_file_dir = os.getcwd()\n",
    "os.chdir(\"../../codes/\")\n",
    "\n",
    "from src.load_explanations import load_explanations_of_many_models, _unify_lenths, _trim_image_path\n",
    "from src import strings_to_classes_mappings\n",
    "from src import utils\n",
    "\n",
    "os.chdir(current_file_dir)"
   ]
  },
  {
   "cell_type": "markdown",
   "metadata": {},
   "source": [
    "# Usage example\n",
    "\n",
    "Get possible models etc."
   ]
  },
  {
   "cell_type": "code",
   "execution_count": 2,
   "metadata": {},
   "outputs": [
    {
     "name": "stdout",
     "output_type": "stream",
     "text": [
      "Possible datasets: ['imagenette2']\n",
      "Possible models: ['ConvNeXtV2_Nano', 'DeiT_S', 'DeiT_T', 'DenseNet121', 'EfficientNet_B3', 'EfficientNet_B4', 'MobileNetV3', 'PyramidViT_V2_B2', 'Res2Net50', 'ResNet18', 'ResNet50', 'ResNeXt50', 'Swin_T', 'ViT_B_32']\n",
      "Possible explanations: ['GradCAM', 'IntegratedGradients', 'KernelSHAP']\n"
     ]
    }
   ],
   "source": [
    "print(\"Possible datasets:\", list(strings_to_classes_mappings.datasets_mapping.keys()))\n",
    "print(\"Possible models:\", list(strings_to_classes_mappings.models_mapping.keys()))\n",
    "print(\"Possible explanations:\", list(strings_to_classes_mappings.explanations_mapping.keys()))\n",
    "models_list = list(strings_to_classes_mappings.models_mapping.keys())"
   ]
  },
  {
   "cell_type": "markdown",
   "metadata": {},
   "source": [
    "# Getting data"
   ]
  },
  {
   "cell_type": "code",
   "execution_count": 3,
   "metadata": {},
   "outputs": [],
   "source": [
    "paths_to_explanations = {\n",
    "    \"GradCAM\" : os.path.join(current_file_dir, os.pardir, \"20240620-gradcam-kernelshap-ig-128\"),\n",
    "    \"KernelSHAP\" : os.path.join(current_file_dir, os.pardir, \"20240620-gradcam-kernelshap-ig-128\"),\n",
    "    \"IntegratedGradients\" : os.path.join(current_file_dir, os.pardir, \"20240704-integratedgradients-abs-value\"),\n",
    "}"
   ]
  },
  {
   "cell_type": "code",
   "execution_count": 4,
   "metadata": {},
   "outputs": [
    {
     "name": "stderr",
     "output_type": "stream",
     "text": [
      "Loading explanations: 100%|██████████| 128/128 [00:00<00:00, 775.59it/s]\n",
      "Loading explanations: 100%|██████████| 128/128 [00:00<00:00, 953.80it/s]\n",
      "Loading explanations: 100%|██████████| 128/128 [00:00<00:00, 1290.14it/s]\n",
      "Loading explanations: 100%|██████████| 128/128 [00:00<00:00, 1123.48it/s]\n",
      "Loading explanations: 100%|██████████| 128/128 [00:00<00:00, 822.13it/s]\n",
      "Loading explanations: 100%|██████████| 128/128 [00:00<00:00, 1046.12it/s]\n",
      "Loading explanations: 100%|██████████| 128/128 [00:00<00:00, 907.49it/s]\n",
      "Loading explanations: 100%|██████████| 128/128 [00:00<00:00, 1131.53it/s]\n",
      "Loading explanations: 100%|██████████| 128/128 [00:00<00:00, 644.64it/s]\n",
      "Loading explanations: 100%|██████████| 128/128 [00:00<00:00, 1302.74it/s]\n",
      "Loading explanations: 100%|██████████| 128/128 [00:00<00:00, 1232.80it/s]\n",
      "Loading explanations: 100%|██████████| 128/128 [00:00<00:00, 1415.94it/s]\n",
      "Loading explanations: 100%|██████████| 128/128 [00:00<00:00, 1003.81it/s]\n",
      "Loading explanations: 100%|██████████| 128/128 [00:00<00:00, 334.06it/s]\n"
     ]
    },
    {
     "name": "stdout",
     "output_type": "stream",
     "text": [
      "Loaded 128 common explanations for each model.\n"
     ]
    }
   ],
   "source": [
    "explanations_many_models = load_explanations_of_many_models('imagenette2', models_list, 'KernelSHAP', root_explanations=paths_to_explanations['KernelSHAP'])"
   ]
  },
  {
   "cell_type": "code",
   "execution_count": 5,
   "metadata": {},
   "outputs": [
    {
     "data": {
      "text/plain": [
       "dict_keys(['explanations', 'paths', 'labels', 'model_name', 'explanation_name', 'predictions'])"
      ]
     },
     "execution_count": 5,
     "metadata": {},
     "output_type": "execute_result"
    }
   ],
   "source": [
    "explanations_many_models[0].keys()"
   ]
  },
  {
   "cell_type": "code",
   "execution_count": 12,
   "metadata": {},
   "outputs": [
    {
     "data": {
      "text/plain": [
       "'ConvNeXtV2_Nano'"
      ]
     },
     "execution_count": 12,
     "metadata": {},
     "output_type": "execute_result"
    }
   ],
   "source": [
    "explanations_many_models[0]['model_name']"
   ]
  },
  {
   "cell_type": "code",
   "execution_count": 11,
   "metadata": {},
   "outputs": [
    {
     "data": {
      "text/plain": [
       "tensor([  0,   0,   0,   0,   0,   0,   0,   0,   0,   0,   0,   0,   0, 217,\n",
       "        217, 217, 217, 217, 217, 217, 217, 217, 217, 217, 217, 217, 217, 217,\n",
       "        217, 217, 217, 482, 635, 481, 848, 590, 482, 848, 482, 482, 482, 482,\n",
       "        848, 491, 491, 515, 491, 491, 491, 491, 491, 491, 491, 491, 609, 497,\n",
       "        716, 884, 497, 884, 497, 497, 497, 497, 538, 497, 497, 497, 497, 884,\n",
       "        497, 497, 566, 566, 566, 819, 566, 566, 566, 569, 569, 569, 569, 569,\n",
       "        803, 569, 569, 569, 569, 569, 569, 569, 569, 569, 569, 571, 571, 571,\n",
       "        571, 571, 571, 571, 571, 571, 571, 571, 571, 574, 574, 574, 574, 574,\n",
       "        574, 574, 574, 574, 574, 701, 701, 701, 701, 701, 701, 701, 701, 701,\n",
       "        701, 701])"
      ]
     },
     "execution_count": 11,
     "metadata": {},
     "output_type": "execute_result"
    }
   ],
   "source": [
    "explanations_many_models[0]['predictions']"
   ]
  },
  {
   "cell_type": "markdown",
   "metadata": {},
   "source": [
    "## Count pairs of predictions that are the same and those that differ"
   ]
  },
  {
   "cell_type": "code",
   "execution_count": 13,
   "metadata": {},
   "outputs": [],
   "source": [
    "import pandas as pd\n",
    "df = pd.DataFrame({\n",
    "    explanations_many_models[i]['model_name'] : explanations_many_models[i]['predictions'].numpy()\n",
    "    for i in range(len(explanations_many_models))\n",
    "})"
   ]
  },
  {
   "cell_type": "code",
   "execution_count": 12,
   "metadata": {},
   "outputs": [
    {
     "data": {
      "text/html": [
       "<div>\n",
       "<style scoped>\n",
       "    .dataframe tbody tr th:only-of-type {\n",
       "        vertical-align: middle;\n",
       "    }\n",
       "\n",
       "    .dataframe tbody tr th {\n",
       "        vertical-align: top;\n",
       "    }\n",
       "\n",
       "    .dataframe thead th {\n",
       "        text-align: right;\n",
       "    }\n",
       "</style>\n",
       "<table border=\"1\" class=\"dataframe\">\n",
       "  <thead>\n",
       "    <tr style=\"text-align: right;\">\n",
       "      <th></th>\n",
       "      <th>ConvNeXtV2_Nano</th>\n",
       "      <th>DeiT_S</th>\n",
       "      <th>DeiT_T</th>\n",
       "      <th>DenseNet121</th>\n",
       "      <th>EfficientNet_B3</th>\n",
       "      <th>EfficientNet_B4</th>\n",
       "      <th>MobileNetV3</th>\n",
       "      <th>PyramidViT_V2_B2</th>\n",
       "      <th>Res2Net50</th>\n",
       "      <th>ResNet18</th>\n",
       "      <th>ResNet50</th>\n",
       "      <th>ResNeXt50</th>\n",
       "      <th>Swin_T</th>\n",
       "      <th>ViT_B_32</th>\n",
       "    </tr>\n",
       "  </thead>\n",
       "  <tbody>\n",
       "    <tr>\n",
       "      <th>0</th>\n",
       "      <td>0</td>\n",
       "      <td>0</td>\n",
       "      <td>0</td>\n",
       "      <td>0</td>\n",
       "      <td>0</td>\n",
       "      <td>0</td>\n",
       "      <td>0</td>\n",
       "      <td>0</td>\n",
       "      <td>0</td>\n",
       "      <td>0</td>\n",
       "      <td>0</td>\n",
       "      <td>0</td>\n",
       "      <td>0</td>\n",
       "      <td>0</td>\n",
       "    </tr>\n",
       "    <tr>\n",
       "      <th>1</th>\n",
       "      <td>0</td>\n",
       "      <td>0</td>\n",
       "      <td>0</td>\n",
       "      <td>0</td>\n",
       "      <td>0</td>\n",
       "      <td>0</td>\n",
       "      <td>0</td>\n",
       "      <td>0</td>\n",
       "      <td>0</td>\n",
       "      <td>0</td>\n",
       "      <td>0</td>\n",
       "      <td>0</td>\n",
       "      <td>0</td>\n",
       "      <td>0</td>\n",
       "    </tr>\n",
       "  </tbody>\n",
       "</table>\n",
       "</div>"
      ],
      "text/plain": [
       "   ConvNeXtV2_Nano  DeiT_S  DeiT_T  DenseNet121  EfficientNet_B3  \\\n",
       "0                0       0       0            0                0   \n",
       "1                0       0       0            0                0   \n",
       "\n",
       "   EfficientNet_B4  MobileNetV3  PyramidViT_V2_B2  Res2Net50  ResNet18  \\\n",
       "0                0            0                 0          0         0   \n",
       "1                0            0                 0          0         0   \n",
       "\n",
       "   ResNet50  ResNeXt50  Swin_T  ViT_B_32  \n",
       "0         0          0       0         0  \n",
       "1         0          0       0         0  "
      ]
     },
     "execution_count": 12,
     "metadata": {},
     "output_type": "execute_result"
    }
   ],
   "source": [
    "df.head(2)"
   ]
  },
  {
   "cell_type": "code",
   "execution_count": 14,
   "metadata": {},
   "outputs": [
    {
     "data": {
      "text/plain": [
       "14"
      ]
     },
     "execution_count": 14,
     "metadata": {},
     "output_type": "execute_result"
    }
   ],
   "source": [
    "len(df.columns)"
   ]
  },
  {
   "cell_type": "code",
   "execution_count": 17,
   "metadata": {},
   "outputs": [
    {
     "name": "stdout",
     "output_type": "stream",
     "text": [
      "counter_same 10207\n",
      "counter_different 1441\n"
     ]
    }
   ],
   "source": [
    "counter_same = 0\n",
    "counter_different = 0\n",
    "for i in range(len(df)):\n",
    "    for j in range(len(df.columns)):\n",
    "        for k in range(len(df.columns)):\n",
    "            if k <= j:\n",
    "                continue\n",
    "            if df.iloc[i, j] == df.iloc[i, k]:\n",
    "                counter_same += 1\n",
    "            else:\n",
    "                counter_different += 1\n",
    "\n",
    "print(\"counter_same\", counter_same)\n",
    "print(\"counter_different\", counter_different)"
   ]
  }
 ],
 "metadata": {
  "kernelspec": {
   "display_name": "master-thesis-cnn-vs-transformers",
   "language": "python",
   "name": "python3"
  },
  "language_info": {
   "codemirror_mode": {
    "name": "ipython",
    "version": 3
   },
   "file_extension": ".py",
   "mimetype": "text/x-python",
   "name": "python",
   "nbconvert_exporter": "python",
   "pygments_lexer": "ipython3",
   "version": "3.11.4"
  }
 },
 "nbformat": 4,
 "nbformat_minor": 2
}
