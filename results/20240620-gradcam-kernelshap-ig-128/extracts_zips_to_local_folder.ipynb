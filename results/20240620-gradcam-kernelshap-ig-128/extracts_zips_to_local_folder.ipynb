{
 "cells": [
  {
   "cell_type": "code",
   "execution_count": 1,
   "metadata": {},
   "outputs": [],
   "source": [
    "import os\n",
    "import zipfile\n",
    "zip_folder_path = 'downloaded_zips'\n",
    "extraction_path = 'extracted_zips'\n",
    "os.makedirs(extraction_path, exist_ok=True)\n",
    "for item in os.listdir(zip_folder_path):\n",
    "    if item.endswith('.zip'):\n",
    "        file_path = os.path.join(zip_folder_path, item)\n",
    "        with zipfile.ZipFile(file_path, 'r') as zip_ref:\n",
    "            zip_ref.extractall(extraction_path)\n"
   ]
  },
  {
   "cell_type": "code",
   "execution_count": 4,
   "metadata": {},
   "outputs": [
    {
     "data": {
      "text/plain": [
       "'.\\\\imagenette2'"
      ]
     },
     "execution_count": 4,
     "metadata": {},
     "output_type": "execute_result"
    }
   ],
   "source": [
    "# move whole folder cnn-vs-transformers-msc-thesis\\results\\20240620-gradcam-kernelshap-ig-128\\extracted_zips\\content\\cloned_repository\\explanations\\imagenette2\\* to .\n",
    "import shutil\n",
    "from pathlib import Path\n",
    "\n",
    "source = Path(extraction_path) / 'content' / 'cloned_repository' / 'explanations' / 'imagenette2'\n",
    "destination = Path('.')\n",
    "shutil.move(source, destination)"
   ]
  }
 ],
 "metadata": {
  "kernelspec": {
   "display_name": "master-thesis-cnn-vs-transformers",
   "language": "python",
   "name": "python3"
  },
  "language_info": {
   "codemirror_mode": {
    "name": "ipython",
    "version": 3
   },
   "file_extension": ".py",
   "mimetype": "text/x-python",
   "name": "python",
   "nbconvert_exporter": "python",
   "pygments_lexer": "ipython3",
   "version": "3.11.4"
  }
 },
 "nbformat": 4,
 "nbformat_minor": 2
}
