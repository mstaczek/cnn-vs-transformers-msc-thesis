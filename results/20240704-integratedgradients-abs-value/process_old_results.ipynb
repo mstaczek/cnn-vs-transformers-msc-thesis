{
 "cells": [
  {
   "cell_type": "code",
   "execution_count": 1,
   "metadata": {},
   "outputs": [],
   "source": [
    "path_to_results_with_negative_values = '../20240620-gradcam-kernelshap-ig-128/imagenette2/IntegratedGradients'"
   ]
  },
  {
   "cell_type": "code",
   "execution_count": 2,
   "metadata": {},
   "outputs": [],
   "source": [
    "path_to_copied_results = 'imagenette2/IntegratedGradients'"
   ]
  },
  {
   "cell_type": "code",
   "execution_count": 15,
   "metadata": {},
   "outputs": [],
   "source": [
    "source_images = \"../../datasets/imagenette2/train/\""
   ]
  },
  {
   "cell_type": "code",
   "execution_count": 3,
   "metadata": {},
   "outputs": [],
   "source": [
    "# create path_to_copied\n",
    "import os\n",
    "os.makedirs(path_to_copied_results, exist_ok=True)"
   ]
  },
  {
   "cell_type": "code",
   "execution_count": 31,
   "metadata": {},
   "outputs": [
    {
     "name": "stderr",
     "output_type": "stream",
     "text": [
      "100%|██████████| 155/155 [00:51<00:00,  3.03it/s]\n"
     ]
    }
   ],
   "source": [
    "# copy all files from all folders recursively from path_to_results_with_negative_values to path_to_copied_results. \n",
    "# if filename ends with npy then load it, take abs and save\n",
    "import shutil\n",
    "import numpy as np\n",
    "from tqdm import tqdm\n",
    "import matplotlib.pyplot as plt\n",
    "\n",
    "import cv2\n",
    "from pytorch_grad_cam.utils.image import show_cam_on_image\n",
    "from matplotlib.colors import LinearSegmentedColormap\n",
    "import copy\n",
    "\n",
    "total_length = sum(1 for _, _, _ in os.walk(path_to_results_with_negative_values))\n",
    "\n",
    "for root, dirs, files in tqdm(os.walk(path_to_results_with_negative_values), total=total_length):\n",
    "    for file in files:\n",
    "        if file.endswith('.npy'):\n",
    "            path_to_file = os.path.join(root, file)\n",
    "            data = np.load(path_to_file)\n",
    "            data = np.abs(data)\n",
    "            path_to_file_copied = os.path.join(path_to_copied_results, path_to_file[len(path_to_results_with_negative_values)+1:])\n",
    "            os.makedirs(os.path.dirname(path_to_file_copied), exist_ok=True)\n",
    "            np.save(path_to_file_copied, data)\n",
    "            # plt.imshow(plt.imread(os.path.join(source_images,*path_to_file.split('\\\\')[-2:]).replace('.npy','.JPEG')))\n",
    "            \n",
    "            path_to_original_image = os.path.join(source_images,*path_to_file.split('\\\\')[-2:]).replace('.npy','.JPEG')\n",
    "            output_png_path = path_to_file_copied.replace('.npy', '.png')\n",
    "            output_png_path_only_explanation = output_png_path.replace('.png', '_only_explanation.png')\n",
    "\n",
    "\n",
    "            # create white-green image\n",
    "            explanation = copy.deepcopy(data)\n",
    "            cmap = LinearSegmentedColormap.from_list(\"white-green\", [\"white\", \"green\"])\n",
    "            vmin, vmax = 0, 1\n",
    "            attribution_normalized = 255 * (explanation - vmin) / (vmax - vmin)\n",
    "            attribution_normalized = attribution_normalized.astype(np.uint8)    \n",
    "            attribution_colored = cmap(attribution_normalized / 255.0)[:, :, :3] \n",
    "            attribution_colored = (attribution_colored * 255).astype(np.uint8)     \n",
    "            attribution_colored_bgr = cv2.cvtColor(attribution_colored, cv2.COLOR_RGB2BGR)    \n",
    "            cv2.imwrite(output_png_path_only_explanation, attribution_colored_bgr)\n",
    "\n",
    "            # create image with explanation on top of original image\n",
    "            image = cv2.imread(path_to_original_image, 1)[:, :, ::-1]\n",
    "            image = cv2.resize(image, (224, 224))\n",
    "            image = np.float32(image) / 255\n",
    "            image_with_explanation = show_cam_on_image(image, data)\n",
    "            cv2.imwrite(output_png_path, image_with_explanation)\n",
    "\n",
    "\n",
    "        if file.endswith('txt'):\n",
    "            path_to_file = os.path.join(root, file)\n",
    "            path_to_file_copied = os.path.join(path_to_copied_results, path_to_file[len(path_to_results_with_negative_values)+1:])\n",
    "            os.makedirs(os.path.dirname(path_to_file_copied), exist_ok=True)\n",
    "            shutil.copyfile(path_to_file, path_to_file_copied)"
   ]
  }
 ],
 "metadata": {
  "kernelspec": {
   "display_name": "master-thesis-cnn-vs-transformers",
   "language": "python",
   "name": "python3"
  },
  "language_info": {
   "codemirror_mode": {
    "name": "ipython",
    "version": 3
   },
   "file_extension": ".py",
   "mimetype": "text/x-python",
   "name": "python",
   "nbconvert_exporter": "python",
   "pygments_lexer": "ipython3",
   "version": "3.11.4"
  }
 },
 "nbformat": 4,
 "nbformat_minor": 2
}
