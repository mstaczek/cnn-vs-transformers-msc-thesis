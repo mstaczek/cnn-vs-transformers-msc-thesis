{
 "cells": [
  {
   "cell_type": "markdown",
   "metadata": {},
   "source": [
    "# Usage of framework for computing and saving explanations"
   ]
  },
  {
   "cell_type": "code",
   "execution_count": 6,
   "metadata": {},
   "outputs": [],
   "source": [
    "from src.models.ResNet18 import ResNet18\n",
    "\n",
    "model = ResNet18()"
   ]
  },
  {
   "cell_type": "code",
   "execution_count": 7,
   "metadata": {},
   "outputs": [],
   "source": [
    "import os"
   ]
  },
  {
   "cell_type": "code",
   "execution_count": 8,
   "metadata": {},
   "outputs": [],
   "source": [
    "imagenette2_images_path = os.path.join(os.pardir, 'datasets', 'imagenette2', 'train')\n",
    "root_explanations = os.path.join(os.pardir, 'explanations')"
   ]
  },
  {
   "cell_type": "code",
   "execution_count": 9,
   "metadata": {},
   "outputs": [],
   "source": [
    "from src.datasets.Imagenette2Manager import Imagenette2Manager\n",
    "\n",
    "DatasetManager = Imagenette2Manager(imagenette2_images_path, root_explanations)\n",
    "\n",
    "dataloader = DatasetManager.get_dataloader(batch_size=32, shuffle=True)"
   ]
  },
  {
   "cell_type": "code",
   "execution_count": 10,
   "metadata": {},
   "outputs": [],
   "source": [
    "batch_of_images = next(iter(dataloader))[0]\n",
    "batch_of_paths = next(iter(dataloader))[2]"
   ]
  },
  {
   "cell_type": "code",
   "execution_count": 11,
   "metadata": {},
   "outputs": [],
   "source": [
    "from src.explanations.ExplanationGradCAM import ExplanationGradCAM\n",
    "\n",
    "GradCAM = ExplanationGradCAM()\n",
    "\n",
    "batch_of_explanations = GradCAM.compute_explanation(model, batch_of_images)"
   ]
  },
  {
   "cell_type": "code",
   "execution_count": 12,
   "metadata": {},
   "outputs": [
    {
     "data": {
      "text/plain": [
       "(32, 224, 224)"
      ]
     },
     "execution_count": 12,
     "metadata": {},
     "output_type": "execute_result"
    }
   ],
   "source": [
    "batch_of_explanations.shape"
   ]
  },
  {
   "cell_type": "code",
   "execution_count": 13,
   "metadata": {},
   "outputs": [],
   "source": [
    "DatasetManager.save_explanations(model, GradCAM, batch_of_explanations, batch_of_paths)"
   ]
  },
  {
   "cell_type": "code",
   "execution_count": 24,
   "metadata": {},
   "outputs": [],
   "source": [
    "dataloader_explanations = DatasetManager.get_explanations_dataloader(model, GradCAM, batch_size=32, shuffle=True)"
   ]
  },
  {
   "cell_type": "code",
   "execution_count": 18,
   "metadata": {},
   "outputs": [
    {
     "data": {
      "text/plain": [
       "torch.Size([32, 224, 224])"
      ]
     },
     "execution_count": 18,
     "metadata": {},
     "output_type": "execute_result"
    }
   ],
   "source": [
    "next(iter(dataloader_explanations))[0].shape"
   ]
  },
  {
   "cell_type": "code",
   "execution_count": 25,
   "metadata": {},
   "outputs": [
    {
     "data": {
      "text/plain": [
       "[('..\\\\explanations\\\\imagenette2\\\\GradCAM\\\\ResNet18\\\\n01440764\\\\ILSVRC2012_val_00012503.npy',\n",
       "  0),\n",
       " ('..\\\\explanations\\\\imagenette2\\\\GradCAM\\\\ResNet18\\\\n01440764\\\\n01440764_12279.npy',\n",
       "  0)]"
      ]
     },
     "execution_count": 25,
     "metadata": {},
     "output_type": "execute_result"
    }
   ],
   "source": [
    "DatasetManager.get_computed_explanations_list(model, GradCAM)[:2]"
   ]
  },
  {
   "cell_type": "markdown",
   "metadata": {},
   "source": [
    "# Short version"
   ]
  },
  {
   "cell_type": "code",
   "execution_count": 1,
   "metadata": {},
   "outputs": [],
   "source": [
    "from src.compute_explanations import compute_explanations"
   ]
  },
  {
   "cell_type": "code",
   "execution_count": 23,
   "metadata": {},
   "outputs": [
    {
     "name": "stderr",
     "output_type": "stream",
     "text": [
      "Computing explanations for batches:: 100%|██████████| 2/2 [00:09<00:00,  4.82s/it]\n"
     ]
    }
   ],
   "source": [
    "compute_explanations('imagenette2', 'ResNet18', 'GradCAM', number_of_batches_to_process=2, batch_size=32, shuffle=True)"
   ]
  }
 ],
 "metadata": {
  "kernelspec": {
   "display_name": "master-thesis-cnn-vs-transformers",
   "language": "python",
   "name": "python3"
  },
  "language_info": {
   "codemirror_mode": {
    "name": "ipython",
    "version": 3
   },
   "file_extension": ".py",
   "mimetype": "text/x-python",
   "name": "python",
   "nbconvert_exporter": "python",
   "pygments_lexer": "ipython3",
   "version": "3.11.4"
  }
 },
 "nbformat": 4,
 "nbformat_minor": 2
}
