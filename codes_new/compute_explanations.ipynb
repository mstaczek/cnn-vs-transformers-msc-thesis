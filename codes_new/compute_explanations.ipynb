{
 "cells": [
  {
   "cell_type": "markdown",
   "metadata": {},
   "source": [
    "# Usage of framework for computing and saving explanations"
   ]
  },
  {
   "cell_type": "code",
   "execution_count": 1,
   "metadata": {},
   "outputs": [],
   "source": [
    "from src.models.ResNet18 import ResNet18\n",
    "\n",
    "model = ResNet18()"
   ]
  },
  {
   "cell_type": "code",
   "execution_count": 2,
   "metadata": {},
   "outputs": [],
   "source": [
    "import os"
   ]
  },
  {
   "cell_type": "code",
   "execution_count": 3,
   "metadata": {},
   "outputs": [],
   "source": [
    "imagenette2_images_path = os.path.join(os.pardir, 'datasets', 'imagenette2', 'train')\n",
    "root_explanations = os.path.join(os.pardir, 'explanations')"
   ]
  },
  {
   "cell_type": "code",
   "execution_count": 4,
   "metadata": {},
   "outputs": [],
   "source": [
    "from src.datasets.Imagenette2Manager import Imagenette2Manager\n",
    "\n",
    "dataset_manager = Imagenette2Manager(imagenette2_images_path, root_explanations)\n",
    "\n",
    "dataloader = dataset_manager.get_dataloader(batch_size=32, shuffle=True)"
   ]
  },
  {
   "cell_type": "code",
   "execution_count": 5,
   "metadata": {},
   "outputs": [],
   "source": [
    "batch_of_images = next(iter(dataloader))[0]\n",
    "batch_of_paths = next(iter(dataloader))[2]"
   ]
  },
  {
   "cell_type": "code",
   "execution_count": 6,
   "metadata": {},
   "outputs": [],
   "source": [
    "from src.explanations.ExplanationGradCAM import ExplanationGradCAM\n",
    "\n",
    "GradCAM = ExplanationGradCAM()\n",
    "\n",
    "batch_of_explanations = GradCAM.compute_explanation(model, batch_of_images)"
   ]
  },
  {
   "cell_type": "code",
   "execution_count": 7,
   "metadata": {},
   "outputs": [
    {
     "data": {
      "text/plain": [
       "(32, 224, 224)"
      ]
     },
     "execution_count": 7,
     "metadata": {},
     "output_type": "execute_result"
    }
   ],
   "source": [
    "batch_of_explanations.shape"
   ]
  },
  {
   "cell_type": "code",
   "execution_count": 8,
   "metadata": {},
   "outputs": [],
   "source": [
    "dataset_manager.save_explanations(model, GradCAM, batch_of_explanations, batch_of_paths)"
   ]
  },
  {
   "cell_type": "code",
   "execution_count": 9,
   "metadata": {},
   "outputs": [],
   "source": [
    "dataloader_explanations = dataset_manager.get_explanations_dataloader(model, GradCAM, batch_size=32, shuffle=True)"
   ]
  },
  {
   "cell_type": "code",
   "execution_count": 10,
   "metadata": {},
   "outputs": [
    {
     "data": {
      "text/plain": [
       "torch.Size([32, 224, 224])"
      ]
     },
     "execution_count": 10,
     "metadata": {},
     "output_type": "execute_result"
    }
   ],
   "source": [
    "next(iter(dataloader_explanations))[0].shape"
   ]
  },
  {
   "cell_type": "code",
   "execution_count": 11,
   "metadata": {},
   "outputs": [
    {
     "data": {
      "text/plain": [
       "[('..\\\\explanations\\\\imagenette2\\\\GradCAM\\\\ResNet18\\\\n01440764\\\\ILSVRC2012_val_00012503.npy',\n",
       "  0),\n",
       " ('..\\\\explanations\\\\imagenette2\\\\GradCAM\\\\ResNet18\\\\n01440764\\\\n01440764_12279.npy',\n",
       "  0)]"
      ]
     },
     "execution_count": 11,
     "metadata": {},
     "output_type": "execute_result"
    }
   ],
   "source": [
    "dataset_manager.get_computed_explanations_list(model, GradCAM)[:2]"
   ]
  },
  {
   "cell_type": "markdown",
   "metadata": {},
   "source": [
    "# Short version"
   ]
  },
  {
   "cell_type": "code",
   "execution_count": 12,
   "metadata": {},
   "outputs": [
    {
     "name": "stderr",
     "output_type": "stream",
     "text": [
      "Computing explanations for batches:   0%|          | 0/2 [00:00<?, ?it/s]"
     ]
    },
    {
     "name": "stderr",
     "output_type": "stream",
     "text": [
      "Computing explanations for batches: 100%|██████████| 2/2 [00:09<00:00,  4.97s/it]\n"
     ]
    }
   ],
   "source": [
    "from src.compute_explanations import compute_explanations\n",
    "\n",
    "compute_explanations('imagenette2', 'ResNet18', 'GradCAM', number_of_batches_to_process=2, batch_size=32, shuffle=True)"
   ]
  },
  {
   "cell_type": "code",
   "execution_count": 13,
   "metadata": {},
   "outputs": [
    {
     "name": "stderr",
     "output_type": "stream",
     "text": [
      "Loading explanations: 100%|██████████| 95/95 [00:01<00:00, 92.10it/s] "
     ]
    },
    {
     "name": "stdout",
     "output_type": "stream",
     "text": [
      "<class 'dict'>\n",
      "dict_keys(['explanations', 'paths', 'labels', 'model_name', 'explanation_name'])\n",
      "ResNet18 GradCAM\n",
      "torch.Size([95, 224, 224]) 95 torch.Size([95])\n"
     ]
    },
    {
     "name": "stderr",
     "output_type": "stream",
     "text": [
      "\n"
     ]
    }
   ],
   "source": [
    "from src.load_explanations import load_explanations\n",
    "\n",
    "explanations = load_explanations('imagenette2', 'ResNet18', 'GradCAM')\n",
    "\n",
    "print(type(explanations))\n",
    "print(explanations.keys())\n",
    "print(explanations['model_name'], explanations['explanation_name'])\n",
    "print(explanations['explanations'].shape, len(explanations['paths']), explanations['labels'].shape)"
   ]
  },
  {
   "cell_type": "code",
   "execution_count": 14,
   "metadata": {},
   "outputs": [
    {
     "name": "stderr",
     "output_type": "stream",
     "text": [
      "Loading explanations: 100%|██████████| 95/95 [00:00<00:00, 867.64it/s]\n",
      "Loading explanations: 100%|██████████| 95/95 [00:00<00:00, 541.72it/s]\n"
     ]
    },
    {
     "name": "stdout",
     "output_type": "stream",
     "text": [
      "<class 'list'>\n",
      "2\n",
      "dict_keys(['explanations', 'paths', 'labels', 'model_name', 'explanation_name'])\n"
     ]
    }
   ],
   "source": [
    "from src.load_explanations import load_explanations_of_many_models\n",
    "\n",
    "explanations_many_models = load_explanations_of_many_models('imagenette2', ['ResNet18','ResNet18'], 'GradCAM')\n",
    "print(type(explanations_many_models))\n",
    "print(len(explanations_many_models))\n",
    "print(explanations_many_models[0].keys())\n"
   ]
  }
 ],
 "metadata": {
  "kernelspec": {
   "display_name": "master-thesis-cnn-vs-transformers",
   "language": "python",
   "name": "python3"
  },
  "language_info": {
   "codemirror_mode": {
    "name": "ipython",
    "version": 3
   },
   "file_extension": ".py",
   "mimetype": "text/x-python",
   "name": "python",
   "nbconvert_exporter": "python",
   "pygments_lexer": "ipython3",
   "version": "3.11.4"
  }
 },
 "nbformat": 4,
 "nbformat_minor": 2
}
