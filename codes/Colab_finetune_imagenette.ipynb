{
  "cells": [
    {
      "cell_type": "markdown",
      "metadata": {
        "id": "AIP5qRzBNjbn"
      },
      "source": [
        "# Colab-specific code"
      ]
    },
    {
      "cell_type": "code",
      "execution_count": 1,
      "metadata": {
        "colab": {
          "base_uri": "https://localhost:8080/"
        },
        "id": "0sgGh2PrOBTZ",
        "outputId": "cd5485d7-df1a-4022-d363-2cfadfb7381f"
      },
      "outputs": [
        {
          "name": "stdout",
          "output_type": "stream",
          "text": [
            "Mounted at /content/drive\n"
          ]
        }
      ],
      "source": [
        "from google.colab import drive\n",
        "drive.mount('/content/drive')"
      ]
    },
    {
      "cell_type": "code",
      "execution_count": 2,
      "metadata": {
        "id": "jF7vsitaNjbq"
      },
      "outputs": [],
      "source": [
        "%%capture\n",
        "!pip install timm==0.9.16"
      ]
    },
    {
      "cell_type": "markdown",
      "metadata": {
        "id": "Zg5_qyRWNjbr"
      },
      "source": [
        "## Clone repository to cloned_repository folder and cd there."
      ]
    },
    {
      "cell_type": "code",
      "execution_count": 3,
      "metadata": {
        "colab": {
          "base_uri": "https://localhost:8080/",
          "height": 157
        },
        "id": "lMVyxk_jNjbs",
        "outputId": "921eea36-b66c-4afd-fc74-ce8616a2cc22"
      },
      "outputs": [
        {
          "name": "stdout",
          "output_type": "stream",
          "text": [
            "Cloning into 'cloned_repository'...\n",
            "remote: Enumerating objects: 550, done.\u001b[K\n",
            "remote: Counting objects: 100% (550/550), done.\u001b[K\n",
            "remote: Compressing objects: 100% (365/365), done.\u001b[K\n",
            "remote: Total 550 (delta 304), reused 423 (delta 177), pack-reused 0\u001b[K\n",
            "Receiving objects: 100% (550/550), 7.74 MiB | 8.52 MiB/s, done.\n",
            "Resolving deltas: 100% (304/304), done.\n"
          ]
        },
        {
          "data": {
            "application/vnd.google.colaboratory.intrinsic+json": {
              "type": "string"
            },
            "text/plain": [
              "'/content/cloned_repository/codes'"
            ]
          },
          "execution_count": 3,
          "metadata": {},
          "output_type": "execute_result"
        }
      ],
      "source": [
        "!git clone https://github.com/mstaczek/cnn-vs-transformers-msc-thesis.git cloned_repository\n",
        "import os\n",
        "os.chdir(\"/content/cloned_repository/codes\")\n",
        "os.getcwd()"
      ]
    },
    {
      "cell_type": "markdown",
      "metadata": {
        "id": "3tzK5jvWNjbt"
      },
      "source": [
        "## Download data"
      ]
    },
    {
      "cell_type": "code",
      "execution_count": 6,
      "metadata": {
        "colab": {
          "base_uri": "https://localhost:8080/",
          "height": 37
        },
        "id": "I1BTHirYNjbt",
        "outputId": "f8f4b662-7c51-4e3a-9aa5-0a81e18e6948"
      },
      "outputs": [],
      "source": [
        "import timm\n",
        "import torch\n",
        "import os\n",
        "from datetime import datetime\n",
        "from fastai.vision.all import *\n",
        "\n",
        "# path = untar_data(URLs.IMAGENETTE_320)\n",
        "path = \"..\\datasets\\imagenette2\""
      ]
    },
    {
      "cell_type": "markdown",
      "metadata": {},
      "source": [
        "### Helper functions"
      ]
    },
    {
      "cell_type": "code",
      "execution_count": 9,
      "metadata": {},
      "outputs": [],
      "source": [
        "def train_on_imagenette(model_name, models_output, epochs, batch_size):\n",
        "    from fastai.vision.all import accuracy\n",
        "    os.makedirs(models_output, exist_ok=True)\n",
        "    dls = ImageDataLoaders.from_folder(path, valid='val', bs=batch_size, # batch size\n",
        "                                    item_tfms=RandomResizedCrop((224,224), min_scale=0.35),\n",
        "                                    batch_tfms=Normalize.from_stats(*imagenet_stats))\n",
        "    # creates a pretrained model with a new classification head for same number of classes as there is in dataloader\n",
        "    learn = vision_learner(dls, model_name, metrics=accuracy)\n",
        "    learn.fine_tune(epochs)\n",
        "    accuracy = learn.validate()[1]\n",
        "    filename = f\"{models_output}/{accuracy:.4f}.pth\"\n",
        "    torch.save(learn.model, filename)\n",
        "    print(\"Saved best model to \", filename)\n",
        "\n",
        "def copy_to_drive(model_name, models_output):\n",
        "    source_folder = f\"{models_output}/*\"\n",
        "    timestamp = datetime.now().strftime(\"%Y%m%d_%H%M\")\n",
        "    drive_results_folder = f\"/content/drive/MyDrive/results/imagenette_{timestamp}_{model_name}_{accuracy:.4f}\"\n",
        "    os.makedirs(drive_results_folder, exist_ok=True)\n",
        "    os.system(f\"cp -r {source_folder} {drive_results_folder}\")"
      ]
    },
    {
      "cell_type": "markdown",
      "metadata": {
        "id": "mxys2deSNjbt"
      },
      "source": [
        "## Model training"
      ]
    },
    {
      "cell_type": "code",
      "execution_count": null,
      "metadata": {
        "id": "nWMkdJzxNjbu"
      },
      "outputs": [],
      "source": [
        "model_name = 'convnextv2_nano.fcmae_ft_in22k_in1k_384' # model name from timm library\n",
        "models_output = f'../trained_models/imagenette2/{model_name}'\n",
        "\n",
        "epochs = 5\n",
        "batch_size = 32\n",
        "\n",
        "train_on_imagenette(model_name, models_output, epochs, batch_size)\n",
        "copy_to_drive(model_name, models_output)"
      ]
    },
    {
      "cell_type": "code",
      "execution_count": null,
      "metadata": {},
      "outputs": [],
      "source": [
        "model_name = 'deit_small_patch16_224.fb_in1k' # model name from timm library\n",
        "models_output = f'../trained_models/imagenette2/{model_name}'\n",
        "\n",
        "epochs = 5\n",
        "batch_size = 32\n",
        "\n",
        "train_on_imagenette(model_name, models_output, epochs, batch_size)\n",
        "copy_to_drive(models_output)"
      ]
    },
    {
      "cell_type": "code",
      "execution_count": null,
      "metadata": {},
      "outputs": [],
      "source": [
        "model_name = 'deit_tiny_patch16_224.fb_in1k' # model name from timm library\n",
        "models_output = f'../trained_models/imagenette2/{model_name}'\n",
        "\n",
        "epochs = 5\n",
        "batch_size = 32\n",
        "\n",
        "train_on_imagenette(model_name, models_output, epochs, batch_size)\n",
        "copy_to_drive(models_output)"
      ]
    },
    {
      "cell_type": "code",
      "execution_count": null,
      "metadata": {},
      "outputs": [],
      "source": [
        "model_name = 'densenet121.tv_in1k' # model name from timm library\n",
        "models_output = f'../trained_models/imagenette2/{model_name}'\n",
        "\n",
        "epochs = 5\n",
        "batch_size = 32\n",
        "\n",
        "train_on_imagenette(model_name, models_output, epochs, batch_size)\n",
        "copy_to_drive(models_output)"
      ]
    },
    {
      "cell_type": "code",
      "execution_count": null,
      "metadata": {},
      "outputs": [],
      "source": [
        "model_name = 'efficientnet_b3.ra2_in1k' # model name from timm library\n",
        "models_output = f'../trained_models/imagenette2/{model_name}'\n",
        "\n",
        "epochs = 5\n",
        "batch_size = 32\n",
        "\n",
        "train_on_imagenette(model_name, models_output, epochs, batch_size)\n",
        "copy_to_drive(models_output)"
      ]
    },
    {
      "cell_type": "code",
      "execution_count": null,
      "metadata": {},
      "outputs": [],
      "source": [
        "model_name = 'efficientnet_b4.ra2_in1k' # model name from timm library\n",
        "models_output = f'../trained_models/imagenette2/{model_name}'\n",
        "\n",
        "epochs = 5\n",
        "batch_size = 32\n",
        "\n",
        "train_on_imagenette(model_name, models_output, epochs, batch_size)\n",
        "copy_to_drive(models_output)"
      ]
    },
    {
      "cell_type": "code",
      "execution_count": null,
      "metadata": {},
      "outputs": [],
      "source": [
        "model_name = 'mobilenetv3_large_100.ra_in1k' # model name from timm library\n",
        "models_output = f'../trained_models/imagenette2/{model_name}'\n",
        "\n",
        "epochs = 5\n",
        "batch_size = 32\n",
        "\n",
        "train_on_imagenette(model_name, models_output, epochs, batch_size)\n",
        "copy_to_drive(models_output)"
      ]
    },
    {
      "cell_type": "code",
      "execution_count": null,
      "metadata": {},
      "outputs": [],
      "source": [
        "model_name = 'pvt_v2_b2.in1k' # model name from timm library\n",
        "models_output = f'../trained_models/imagenette2/{model_name}'\n",
        "\n",
        "epochs = 5\n",
        "batch_size = 32\n",
        "\n",
        "train_on_imagenette(model_name, models_output, epochs, batch_size)\n",
        "copy_to_drive(models_output)"
      ]
    },
    {
      "cell_type": "code",
      "execution_count": null,
      "metadata": {},
      "outputs": [],
      "source": [
        "model_name = 'res2net50_14w_8s.in1k' # model name from timm library\n",
        "models_output = f'../trained_models/imagenette2/{model_name}'\n",
        "\n",
        "epochs = 5\n",
        "batch_size = 32\n",
        "\n",
        "train_on_imagenette(model_name, models_output, epochs, batch_size)\n",
        "copy_to_drive(models_output)"
      ]
    },
    {
      "cell_type": "code",
      "execution_count": null,
      "metadata": {},
      "outputs": [],
      "source": [
        "model_name = 'resnet18d.ra2_in1k' # model name from timm library\n",
        "models_output = f'../trained_models/imagenette2/{model_name}'\n",
        "\n",
        "epochs = 5\n",
        "batch_size = 32\n",
        "\n",
        "train_on_imagenette(model_name, models_output, epochs, batch_size)\n",
        "copy_to_drive(models_output)"
      ]
    },
    {
      "cell_type": "code",
      "execution_count": null,
      "metadata": {},
      "outputs": [],
      "source": [
        "model_name = 'resnet50d.ra2_in1k' # model name from timm library\n",
        "models_output = f'../trained_models/imagenette2/{model_name}'\n",
        "\n",
        "epochs = 5\n",
        "batch_size = 32\n",
        "\n",
        "train_on_imagenette(model_name, models_output, epochs, batch_size)\n",
        "copy_to_drive(models_output)"
      ]
    },
    {
      "cell_type": "code",
      "execution_count": null,
      "metadata": {},
      "outputs": [],
      "source": [
        "model_name = 'resnext50_32x4d.a1h_in1k' # model name from timm library\n",
        "models_output = f'../trained_models/imagenette2/{model_name}'\n",
        "\n",
        "epochs = 5\n",
        "batch_size = 32\n",
        "\n",
        "train_on_imagenette(model_name, models_output, epochs, batch_size)\n",
        "copy_to_drive(models_output)"
      ]
    },
    {
      "cell_type": "code",
      "execution_count": null,
      "metadata": {},
      "outputs": [],
      "source": [
        "model_name = 'swin_tiny_patch4_window7_224.ms_in1k' # model name from timm library\n",
        "models_output = f'../trained_models/imagenette2/{model_name}'\n",
        "\n",
        "epochs = 5\n",
        "batch_size = 32\n",
        "\n",
        "train_on_imagenette(model_name, models_output, epochs, batch_size)\n",
        "copy_to_drive(models_output)"
      ]
    },
    {
      "cell_type": "code",
      "execution_count": null,
      "metadata": {},
      "outputs": [],
      "source": [
        "model_name = 'vit_base_patch32_224.augreg_in21k_ft_in1k' # model name from timm library\n",
        "models_output = f'../trained_models/imagenette2/{model_name}'\n",
        "\n",
        "epochs = 5\n",
        "batch_size = 32\n",
        "\n",
        "train_on_imagenette(model_name, models_output, epochs, batch_size)\n",
        "copy_to_drive(models_output)"
      ]
    },
    {
      "cell_type": "markdown",
      "metadata": {},
      "source": [
        "---"
      ]
    },
    {
      "cell_type": "code",
      "execution_count": 2,
      "metadata": {
        "id": "rsuIkT9UNjbw"
      },
      "outputs": [],
      "source": [
        "import torch\n",
        "loaded_model = torch.load(\"../trained_models/imagenette/ResNet18/0.93_torch-save.pth\")\n",
        "loaded_model(torch.randn(1, 3, 224, 224).to('cuda')).shape"
      ]
    }
  ],
  "metadata": {
    "accelerator": "GPU",
    "colab": {
      "gpuType": "T4",
      "provenance": []
    },
    "kernelspec": {
      "display_name": "Python 3",
      "name": "python3"
    },
    "language_info": {
      "codemirror_mode": {
        "name": "ipython",
        "version": 3
      },
      "file_extension": ".py",
      "mimetype": "text/x-python",
      "name": "python",
      "nbconvert_exporter": "python",
      "pygments_lexer": "ipython3",
      "version": "3.11.4"
    },
    "widgets": {
      "application/vnd.jupyter.widget-state+json": {
        "0c325d2a520d493d9dc0b54cbd237de1": {
          "model_module": "@jupyter-widgets/base",
          "model_module_version": "1.2.0",
          "model_name": "LayoutModel",
          "state": {
            "_model_module": "@jupyter-widgets/base",
            "_model_module_version": "1.2.0",
            "_model_name": "LayoutModel",
            "_view_count": null,
            "_view_module": "@jupyter-widgets/base",
            "_view_module_version": "1.2.0",
            "_view_name": "LayoutView",
            "align_content": null,
            "align_items": null,
            "align_self": null,
            "border": null,
            "bottom": null,
            "display": null,
            "flex": null,
            "flex_flow": null,
            "grid_area": null,
            "grid_auto_columns": null,
            "grid_auto_flow": null,
            "grid_auto_rows": null,
            "grid_column": null,
            "grid_gap": null,
            "grid_row": null,
            "grid_template_areas": null,
            "grid_template_columns": null,
            "grid_template_rows": null,
            "height": null,
            "justify_content": null,
            "justify_items": null,
            "left": null,
            "margin": null,
            "max_height": null,
            "max_width": null,
            "min_height": null,
            "min_width": null,
            "object_fit": null,
            "object_position": null,
            "order": null,
            "overflow": null,
            "overflow_x": null,
            "overflow_y": null,
            "padding": null,
            "right": null,
            "top": null,
            "visibility": null,
            "width": null
          }
        },
        "202de609b71b432ca879e3baf0ed5532": {
          "model_module": "@jupyter-widgets/base",
          "model_module_version": "1.2.0",
          "model_name": "LayoutModel",
          "state": {
            "_model_module": "@jupyter-widgets/base",
            "_model_module_version": "1.2.0",
            "_model_name": "LayoutModel",
            "_view_count": null,
            "_view_module": "@jupyter-widgets/base",
            "_view_module_version": "1.2.0",
            "_view_name": "LayoutView",
            "align_content": null,
            "align_items": null,
            "align_self": null,
            "border": null,
            "bottom": null,
            "display": null,
            "flex": null,
            "flex_flow": null,
            "grid_area": null,
            "grid_auto_columns": null,
            "grid_auto_flow": null,
            "grid_auto_rows": null,
            "grid_column": null,
            "grid_gap": null,
            "grid_row": null,
            "grid_template_areas": null,
            "grid_template_columns": null,
            "grid_template_rows": null,
            "height": null,
            "justify_content": null,
            "justify_items": null,
            "left": null,
            "margin": null,
            "max_height": null,
            "max_width": null,
            "min_height": null,
            "min_width": null,
            "object_fit": null,
            "object_position": null,
            "order": null,
            "overflow": null,
            "overflow_x": null,
            "overflow_y": null,
            "padding": null,
            "right": null,
            "top": null,
            "visibility": null,
            "width": null
          }
        },
        "528537b410dd4f888612338306822088": {
          "model_module": "@jupyter-widgets/controls",
          "model_module_version": "1.5.0",
          "model_name": "HBoxModel",
          "state": {
            "_dom_classes": [],
            "_model_module": "@jupyter-widgets/controls",
            "_model_module_version": "1.5.0",
            "_model_name": "HBoxModel",
            "_view_count": null,
            "_view_module": "@jupyter-widgets/controls",
            "_view_module_version": "1.5.0",
            "_view_name": "HBoxView",
            "box_style": "",
            "children": [
              "IPY_MODEL_5aa91a3279444809829b1d802d78e1eb",
              "IPY_MODEL_ac7f2907ae9c497bb5aa4c2ada0764c1",
              "IPY_MODEL_9414ee204f59411c8b6514947aad4ae0"
            ],
            "layout": "IPY_MODEL_0c325d2a520d493d9dc0b54cbd237de1"
          }
        },
        "5aa91a3279444809829b1d802d78e1eb": {
          "model_module": "@jupyter-widgets/controls",
          "model_module_version": "1.5.0",
          "model_name": "HTMLModel",
          "state": {
            "_dom_classes": [],
            "_model_module": "@jupyter-widgets/controls",
            "_model_module_version": "1.5.0",
            "_model_name": "HTMLModel",
            "_view_count": null,
            "_view_module": "@jupyter-widgets/controls",
            "_view_module_version": "1.5.0",
            "_view_name": "HTMLView",
            "description": "",
            "description_tooltip": null,
            "layout": "IPY_MODEL_d51aa5e47cc249eca115b66a74bce2ee",
            "placeholder": "​",
            "style": "IPY_MODEL_b254d96fc48a4bd394cb2baa1d0ae30c",
            "value": "model.safetensors: 100%"
          }
        },
        "9414ee204f59411c8b6514947aad4ae0": {
          "model_module": "@jupyter-widgets/controls",
          "model_module_version": "1.5.0",
          "model_name": "HTMLModel",
          "state": {
            "_dom_classes": [],
            "_model_module": "@jupyter-widgets/controls",
            "_model_module_version": "1.5.0",
            "_model_name": "HTMLModel",
            "_view_count": null,
            "_view_module": "@jupyter-widgets/controls",
            "_view_module_version": "1.5.0",
            "_view_name": "HTMLView",
            "description": "",
            "description_tooltip": null,
            "layout": "IPY_MODEL_94a365da4613406b8f29b5292e8bf57a",
            "placeholder": "​",
            "style": "IPY_MODEL_994654a158e24c799afb0b56ac20fb41",
            "value": " 46.9M/46.9M [00:04&lt;00:00, 12.2MB/s]"
          }
        },
        "94a365da4613406b8f29b5292e8bf57a": {
          "model_module": "@jupyter-widgets/base",
          "model_module_version": "1.2.0",
          "model_name": "LayoutModel",
          "state": {
            "_model_module": "@jupyter-widgets/base",
            "_model_module_version": "1.2.0",
            "_model_name": "LayoutModel",
            "_view_count": null,
            "_view_module": "@jupyter-widgets/base",
            "_view_module_version": "1.2.0",
            "_view_name": "LayoutView",
            "align_content": null,
            "align_items": null,
            "align_self": null,
            "border": null,
            "bottom": null,
            "display": null,
            "flex": null,
            "flex_flow": null,
            "grid_area": null,
            "grid_auto_columns": null,
            "grid_auto_flow": null,
            "grid_auto_rows": null,
            "grid_column": null,
            "grid_gap": null,
            "grid_row": null,
            "grid_template_areas": null,
            "grid_template_columns": null,
            "grid_template_rows": null,
            "height": null,
            "justify_content": null,
            "justify_items": null,
            "left": null,
            "margin": null,
            "max_height": null,
            "max_width": null,
            "min_height": null,
            "min_width": null,
            "object_fit": null,
            "object_position": null,
            "order": null,
            "overflow": null,
            "overflow_x": null,
            "overflow_y": null,
            "padding": null,
            "right": null,
            "top": null,
            "visibility": null,
            "width": null
          }
        },
        "994654a158e24c799afb0b56ac20fb41": {
          "model_module": "@jupyter-widgets/controls",
          "model_module_version": "1.5.0",
          "model_name": "DescriptionStyleModel",
          "state": {
            "_model_module": "@jupyter-widgets/controls",
            "_model_module_version": "1.5.0",
            "_model_name": "DescriptionStyleModel",
            "_view_count": null,
            "_view_module": "@jupyter-widgets/base",
            "_view_module_version": "1.2.0",
            "_view_name": "StyleView",
            "description_width": ""
          }
        },
        "a34f46e95efc450b9e846a63c3bc67c2": {
          "model_module": "@jupyter-widgets/controls",
          "model_module_version": "1.5.0",
          "model_name": "ProgressStyleModel",
          "state": {
            "_model_module": "@jupyter-widgets/controls",
            "_model_module_version": "1.5.0",
            "_model_name": "ProgressStyleModel",
            "_view_count": null,
            "_view_module": "@jupyter-widgets/base",
            "_view_module_version": "1.2.0",
            "_view_name": "StyleView",
            "bar_color": null,
            "description_width": ""
          }
        },
        "ac7f2907ae9c497bb5aa4c2ada0764c1": {
          "model_module": "@jupyter-widgets/controls",
          "model_module_version": "1.5.0",
          "model_name": "FloatProgressModel",
          "state": {
            "_dom_classes": [],
            "_model_module": "@jupyter-widgets/controls",
            "_model_module_version": "1.5.0",
            "_model_name": "FloatProgressModel",
            "_view_count": null,
            "_view_module": "@jupyter-widgets/controls",
            "_view_module_version": "1.5.0",
            "_view_name": "ProgressView",
            "bar_style": "success",
            "description": "",
            "description_tooltip": null,
            "layout": "IPY_MODEL_202de609b71b432ca879e3baf0ed5532",
            "max": 46885842,
            "min": 0,
            "orientation": "horizontal",
            "style": "IPY_MODEL_a34f46e95efc450b9e846a63c3bc67c2",
            "value": 46885842
          }
        },
        "b254d96fc48a4bd394cb2baa1d0ae30c": {
          "model_module": "@jupyter-widgets/controls",
          "model_module_version": "1.5.0",
          "model_name": "DescriptionStyleModel",
          "state": {
            "_model_module": "@jupyter-widgets/controls",
            "_model_module_version": "1.5.0",
            "_model_name": "DescriptionStyleModel",
            "_view_count": null,
            "_view_module": "@jupyter-widgets/base",
            "_view_module_version": "1.2.0",
            "_view_name": "StyleView",
            "description_width": ""
          }
        },
        "d51aa5e47cc249eca115b66a74bce2ee": {
          "model_module": "@jupyter-widgets/base",
          "model_module_version": "1.2.0",
          "model_name": "LayoutModel",
          "state": {
            "_model_module": "@jupyter-widgets/base",
            "_model_module_version": "1.2.0",
            "_model_name": "LayoutModel",
            "_view_count": null,
            "_view_module": "@jupyter-widgets/base",
            "_view_module_version": "1.2.0",
            "_view_name": "LayoutView",
            "align_content": null,
            "align_items": null,
            "align_self": null,
            "border": null,
            "bottom": null,
            "display": null,
            "flex": null,
            "flex_flow": null,
            "grid_area": null,
            "grid_auto_columns": null,
            "grid_auto_flow": null,
            "grid_auto_rows": null,
            "grid_column": null,
            "grid_gap": null,
            "grid_row": null,
            "grid_template_areas": null,
            "grid_template_columns": null,
            "grid_template_rows": null,
            "height": null,
            "justify_content": null,
            "justify_items": null,
            "left": null,
            "margin": null,
            "max_height": null,
            "max_width": null,
            "min_height": null,
            "min_width": null,
            "object_fit": null,
            "object_position": null,
            "order": null,
            "overflow": null,
            "overflow_x": null,
            "overflow_y": null,
            "padding": null,
            "right": null,
            "top": null,
            "visibility": null,
            "width": null
          }
        }
      }
    }
  },
  "nbformat": 4,
  "nbformat_minor": 0
}
