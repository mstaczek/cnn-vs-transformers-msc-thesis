{
 "cells": [
  {
   "cell_type": "markdown",
   "metadata": {},
   "source": [
    "# Usage of framework for computing and saving explanations"
   ]
  },
  {
   "cell_type": "code",
   "execution_count": 2,
   "metadata": {},
   "outputs": [],
   "source": [
    "from src.models import ResNet18\n",
    "\n",
    "model = ResNet18()"
   ]
  },
  {
   "cell_type": "code",
   "execution_count": 3,
   "metadata": {},
   "outputs": [],
   "source": [
    "import os"
   ]
  },
  {
   "cell_type": "code",
   "execution_count": 4,
   "metadata": {},
   "outputs": [],
   "source": [
    "imagenette2_images_path = os.path.join(os.pardir, 'datasets', 'imagenette2', 'train')\n",
    "root_explanations = os.path.join(os.pardir, 'explanations')"
   ]
  },
  {
   "cell_type": "code",
   "execution_count": 5,
   "metadata": {},
   "outputs": [],
   "source": [
    "from src.datasets import Imagenette2Manager\n",
    "\n",
    "dataset_manager = Imagenette2Manager(imagenette2_images_path, root_explanations)\n",
    "\n",
    "dataloader = dataset_manager.get_dataloader(batch_size=32, shuffle=True)"
   ]
  },
  {
   "cell_type": "code",
   "execution_count": 6,
   "metadata": {},
   "outputs": [],
   "source": [
    "batch_of_images = next(iter(dataloader))[0]\n",
    "batch_of_paths = next(iter(dataloader))[2]"
   ]
  },
  {
   "cell_type": "code",
   "execution_count": 7,
   "metadata": {},
   "outputs": [
    {
     "name": "stdout",
     "output_type": "stream",
     "text": [
      "Loaded model: https://huggingface.co/timm/resnet18d.ra2_in1k\n"
     ]
    }
   ],
   "source": [
    "from src.explanations import ExplanationGradCAM\n",
    "\n",
    "GradCAM = ExplanationGradCAM()\n",
    "\n",
    "batch_of_explanations = GradCAM.compute_explanation(model, batch_of_images)"
   ]
  },
  {
   "cell_type": "code",
   "execution_count": 8,
   "metadata": {},
   "outputs": [
    {
     "data": {
      "text/plain": [
       "(32, 224, 224)"
      ]
     },
     "execution_count": 8,
     "metadata": {},
     "output_type": "execute_result"
    }
   ],
   "source": [
    "batch_of_explanations.shape"
   ]
  },
  {
   "cell_type": "code",
   "execution_count": 9,
   "metadata": {},
   "outputs": [],
   "source": [
    "dataset_manager.save_explanations(model, GradCAM, batch_of_explanations, batch_of_paths)"
   ]
  },
  {
   "cell_type": "code",
   "execution_count": 10,
   "metadata": {},
   "outputs": [],
   "source": [
    "dataloader_explanations = dataset_manager.get_explanations_dataloader(model, GradCAM, batch_size=32, shuffle=True)"
   ]
  },
  {
   "cell_type": "code",
   "execution_count": 11,
   "metadata": {},
   "outputs": [
    {
     "data": {
      "text/plain": [
       "torch.Size([32, 224, 224])"
      ]
     },
     "execution_count": 11,
     "metadata": {},
     "output_type": "execute_result"
    }
   ],
   "source": [
    "next(iter(dataloader_explanations))[0].shape"
   ]
  },
  {
   "cell_type": "code",
   "execution_count": 12,
   "metadata": {},
   "outputs": [
    {
     "data": {
      "text/plain": [
       "[('..\\\\explanations\\\\imagenette2\\\\GradCAM\\\\ResNet18\\\\n01440764\\\\ILSVRC2012_val_00012503.npy',\n",
       "  0),\n",
       " ('..\\\\explanations\\\\imagenette2\\\\GradCAM\\\\ResNet18\\\\n02102040\\\\n02102040_1154.npy',\n",
       "  1)]"
      ]
     },
     "execution_count": 12,
     "metadata": {},
     "output_type": "execute_result"
    }
   ],
   "source": [
    "dataset_manager.get_computed_explanations_list(model, GradCAM)[:2]"
   ]
  },
  {
   "cell_type": "markdown",
   "metadata": {},
   "source": [
    "# Short version"
   ]
  },
  {
   "cell_type": "code",
   "execution_count": 1,
   "metadata": {},
   "outputs": [
    {
     "name": "stderr",
     "output_type": "stream",
     "text": [
      "Computing explanations for batches:   0%|          | 0/2 [00:00<?, ?it/s]"
     ]
    },
    {
     "name": "stdout",
     "output_type": "stream",
     "text": [
      "Loaded model: https://huggingface.co/timm/resnet18d.ra2_in1k\n"
     ]
    },
    {
     "name": "stderr",
     "output_type": "stream",
     "text": [
      "Computing explanations for batches: 100%|██████████| 2/2 [00:03<00:00,  1.54s/it]\n",
      "Computing explanations for batches:   0%|          | 0/2 [00:00<?, ?it/s]"
     ]
    },
    {
     "name": "stdout",
     "output_type": "stream",
     "text": [
      "Loaded model: https://huggingface.co/timm/resnet50d.ra2_in1k\n"
     ]
    },
    {
     "name": "stderr",
     "output_type": "stream",
     "text": [
      "Computing explanations for batches: 100%|██████████| 2/2 [00:03<00:00,  1.87s/it]\n",
      "Computing explanations for batches:   0%|          | 0/2 [00:00<?, ?it/s]"
     ]
    },
    {
     "name": "stdout",
     "output_type": "stream",
     "text": [
      "Loaded model: https://huggingface.co/timm/vit_base_patch32_224.augreg_in21k_ft_in1k\n"
     ]
    },
    {
     "name": "stderr",
     "output_type": "stream",
     "text": [
      "Computing explanations for batches: 100%|██████████| 2/2 [00:03<00:00,  1.65s/it]\n",
      "Computing explanations for batches:   0%|          | 0/2 [00:00<?, ?it/s]"
     ]
    },
    {
     "name": "stdout",
     "output_type": "stream",
     "text": [
      "Loaded model: https://huggingface.co/timm/swin_tiny_patch4_window7_224.ms_in1k\n"
     ]
    },
    {
     "name": "stderr",
     "output_type": "stream",
     "text": [
      "Computing explanations for batches: 100%|██████████| 2/2 [00:03<00:00,  1.76s/it]\n",
      "Loading explanations: 100%|██████████| 48/48 [00:00<00:00, 428.75it/s]\n",
      "Loading explanations: 100%|██████████| 16/16 [00:00<00:00, 283.58it/s]\n",
      "Loading explanations: 100%|██████████| 16/16 [00:00<00:00, 120.05it/s]\n",
      "Loading explanations: 100%|██████████| 16/16 [00:00<00:00, 163.68it/s]"
     ]
    },
    {
     "name": "stdout",
     "output_type": "stream",
     "text": [
      "Loaded 16 common explanations for each model.\n"
     ]
    },
    {
     "name": "stderr",
     "output_type": "stream",
     "text": [
      "\n"
     ]
    },
    {
     "data": {
      "text/html": [
       "<div>\n",
       "<style scoped>\n",
       "    .dataframe tbody tr th:only-of-type {\n",
       "        vertical-align: middle;\n",
       "    }\n",
       "\n",
       "    .dataframe tbody tr th {\n",
       "        vertical-align: top;\n",
       "    }\n",
       "\n",
       "    .dataframe thead th {\n",
       "        text-align: right;\n",
       "    }\n",
       "</style>\n",
       "<table border=\"1\" class=\"dataframe\">\n",
       "  <thead>\n",
       "    <tr style=\"text-align: right;\">\n",
       "      <th></th>\n",
       "      <th>ResNet18</th>\n",
       "      <th>ResNet50</th>\n",
       "      <th>ViT_B_32</th>\n",
       "      <th>Swin_T</th>\n",
       "    </tr>\n",
       "  </thead>\n",
       "  <tbody>\n",
       "    <tr>\n",
       "      <th>ResNet18</th>\n",
       "      <td>1</td>\n",
       "      <td>0.853932</td>\n",
       "      <td>0.0</td>\n",
       "      <td>0.847346</td>\n",
       "    </tr>\n",
       "    <tr>\n",
       "      <th>ResNet50</th>\n",
       "      <td>0.853932</td>\n",
       "      <td>1</td>\n",
       "      <td>0.0</td>\n",
       "      <td>0.83716</td>\n",
       "    </tr>\n",
       "    <tr>\n",
       "      <th>ViT_B_32</th>\n",
       "      <td>0.0</td>\n",
       "      <td>0.0</td>\n",
       "      <td>1</td>\n",
       "      <td>0.0</td>\n",
       "    </tr>\n",
       "    <tr>\n",
       "      <th>Swin_T</th>\n",
       "      <td>0.847346</td>\n",
       "      <td>0.83716</td>\n",
       "      <td>0.0</td>\n",
       "      <td>1</td>\n",
       "    </tr>\n",
       "  </tbody>\n",
       "</table>\n",
       "</div>"
      ],
      "text/plain": [
       "          ResNet18  ResNet50 ViT_B_32    Swin_T\n",
       "ResNet18         1  0.853932      0.0  0.847346\n",
       "ResNet50  0.853932         1      0.0   0.83716\n",
       "ViT_B_32       0.0       0.0        1       0.0\n",
       "Swin_T    0.847346   0.83716      0.0         1"
      ]
     },
     "execution_count": 1,
     "metadata": {},
     "output_type": "execute_result"
    }
   ],
   "source": [
    "from src.compute_explanations import compute_explanations\n",
    "\n",
    "compute_explanations('imagenette2', 'ResNet18', 'GradCAM', number_of_batches_to_process=2, batch_size=4, shuffle=True)\n",
    "compute_explanations('imagenette2', 'ResNet50', 'GradCAM', number_of_batches_to_process=2, batch_size=4, shuffle=True)\n",
    "compute_explanations('imagenette2', 'ViT_B_32', 'GradCAM', number_of_batches_to_process=2, batch_size=4, shuffle=True)\n",
    "compute_explanations('imagenette2', 'Swin_T', 'GradCAM', number_of_batches_to_process=2, batch_size=4, shuffle=True)\n",
    "\n",
    "from src.compare_explanations import compare_explanations, cosine_similarity\n",
    "from src.load_explanations import load_explanations_of_many_models\n",
    "\n",
    "explanations_many_models = load_explanations_of_many_models('imagenette2', ['ResNet18','ResNet50', 'ViT_B_32', 'Swin_T'], 'GradCAM')\n",
    "compare_explanations(explanations_many_models, comparison_function=cosine_similarity)"
   ]
  },
  {
   "cell_type": "code",
   "execution_count": 3,
   "metadata": {},
   "outputs": [
    {
     "name": "stderr",
     "output_type": "stream",
     "text": [
      "Computing explanations for batches:   0%|          | 0/2 [00:00<?, ?it/s]"
     ]
    },
    {
     "name": "stdout",
     "output_type": "stream",
     "text": [
      "Loaded model: https://huggingface.co/timm/resnet18d.ra2_in1k\n"
     ]
    },
    {
     "name": "stderr",
     "output_type": "stream",
     "text": [
      "Computing explanations for batches: 100%|██████████| 2/2 [00:32<00:00, 16.02s/it]\n",
      "Computing explanations for batches:   0%|          | 0/2 [00:00<?, ?it/s]"
     ]
    },
    {
     "name": "stdout",
     "output_type": "stream",
     "text": [
      "Loaded model: https://huggingface.co/timm/resnet50d.ra2_in1k\n"
     ]
    },
    {
     "name": "stderr",
     "output_type": "stream",
     "text": [
      "Computing explanations for batches: 100%|██████████| 2/2 [01:15<00:00, 37.74s/it]\n",
      "Computing explanations for batches:   0%|          | 0/2 [00:00<?, ?it/s]"
     ]
    },
    {
     "name": "stdout",
     "output_type": "stream",
     "text": [
      "Loaded model: https://huggingface.co/timm/vit_base_patch32_224.augreg_in21k_ft_in1k\n"
     ]
    },
    {
     "name": "stderr",
     "output_type": "stream",
     "text": [
      "Computing explanations for batches: 100%|██████████| 2/2 [00:56<00:00, 28.41s/it]\n",
      "Computing explanations for batches:   0%|          | 0/2 [00:00<?, ?it/s]"
     ]
    },
    {
     "name": "stdout",
     "output_type": "stream",
     "text": [
      "Loaded model: https://huggingface.co/timm/swin_tiny_patch4_window7_224.ms_in1k\n"
     ]
    },
    {
     "name": "stderr",
     "output_type": "stream",
     "text": [
      "Computing explanations for batches: 100%|██████████| 2/2 [01:18<00:00, 39.34s/it]\n"
     ]
    }
   ],
   "source": [
    "from src.compute_explanations import compute_explanations\n",
    "\n",
    "compute_explanations('imagenette2', 'ResNet18', 'KernelSHAP', number_of_batches_to_process=2, batch_size=2, shuffle=True)\n",
    "compute_explanations('imagenette2', 'ResNet50', 'KernelSHAP', number_of_batches_to_process=2, batch_size=2, shuffle=True)\n",
    "compute_explanations('imagenette2', 'ViT_B_32', 'KernelSHAP', number_of_batches_to_process=2, batch_size=2, shuffle=True)\n",
    "compute_explanations('imagenette2', 'Swin_T', 'KernelSHAP', number_of_batches_to_process=2, batch_size=2, shuffle=True)"
   ]
  },
  {
   "cell_type": "code",
   "execution_count": 4,
   "metadata": {},
   "outputs": [
    {
     "name": "stderr",
     "output_type": "stream",
     "text": [
      "Loading explanations: 100%|██████████| 4/4 [00:00<00:00,  7.31it/s]\n",
      "Loading explanations: 100%|██████████| 4/4 [00:00<00:00, 114.65it/s]\n",
      "Loading explanations: 100%|██████████| 4/4 [00:00<00:00, 40.32it/s]\n",
      "Loading explanations: 100%|██████████| 4/4 [00:00<00:00, 58.69it/s]\n"
     ]
    },
    {
     "name": "stdout",
     "output_type": "stream",
     "text": [
      "Loaded 4 common explanations for each model.\n"
     ]
    },
    {
     "data": {
      "text/html": [
       "<div>\n",
       "<style scoped>\n",
       "    .dataframe tbody tr th:only-of-type {\n",
       "        vertical-align: middle;\n",
       "    }\n",
       "\n",
       "    .dataframe tbody tr th {\n",
       "        vertical-align: top;\n",
       "    }\n",
       "\n",
       "    .dataframe thead th {\n",
       "        text-align: right;\n",
       "    }\n",
       "</style>\n",
       "<table border=\"1\" class=\"dataframe\">\n",
       "  <thead>\n",
       "    <tr style=\"text-align: right;\">\n",
       "      <th></th>\n",
       "      <th>ResNet18</th>\n",
       "      <th>ResNet50</th>\n",
       "      <th>ViT_B_32</th>\n",
       "      <th>Swin_T</th>\n",
       "    </tr>\n",
       "  </thead>\n",
       "  <tbody>\n",
       "    <tr>\n",
       "      <th>ResNet18</th>\n",
       "      <td>1</td>\n",
       "      <td>0.895052</td>\n",
       "      <td>0.911245</td>\n",
       "      <td>0.883803</td>\n",
       "    </tr>\n",
       "    <tr>\n",
       "      <th>ResNet50</th>\n",
       "      <td>0.895052</td>\n",
       "      <td>1</td>\n",
       "      <td>0.952529</td>\n",
       "      <td>0.884574</td>\n",
       "    </tr>\n",
       "    <tr>\n",
       "      <th>ViT_B_32</th>\n",
       "      <td>0.911245</td>\n",
       "      <td>0.952529</td>\n",
       "      <td>1</td>\n",
       "      <td>0.908179</td>\n",
       "    </tr>\n",
       "    <tr>\n",
       "      <th>Swin_T</th>\n",
       "      <td>0.883803</td>\n",
       "      <td>0.884574</td>\n",
       "      <td>0.908179</td>\n",
       "      <td>1</td>\n",
       "    </tr>\n",
       "  </tbody>\n",
       "</table>\n",
       "</div>"
      ],
      "text/plain": [
       "          ResNet18  ResNet50  ViT_B_32    Swin_T\n",
       "ResNet18         1  0.895052  0.911245  0.883803\n",
       "ResNet50  0.895052         1  0.952529  0.884574\n",
       "ViT_B_32  0.911245  0.952529         1  0.908179\n",
       "Swin_T    0.883803  0.884574  0.908179         1"
      ]
     },
     "execution_count": 4,
     "metadata": {},
     "output_type": "execute_result"
    }
   ],
   "source": [
    "from src.compare_explanations import compare_explanations, cosine_similarity\n",
    "from src.load_explanations import load_explanations_of_many_models\n",
    "\n",
    "explanations_many_models = load_explanations_of_many_models('imagenette2', ['ResNet18','ResNet50', 'ViT_B_32', 'Swin_T'], 'KernelSHAP')\n",
    "compare_explanations(explanations_many_models, comparison_function=cosine_similarity)"
   ]
  }
 ],
 "metadata": {
  "kernelspec": {
   "display_name": "master-thesis-cnn-vs-transformers",
   "language": "python",
   "name": "python3"
  },
  "language_info": {
   "codemirror_mode": {
    "name": "ipython",
    "version": 3
   },
   "file_extension": ".py",
   "mimetype": "text/x-python",
   "name": "python",
   "nbconvert_exporter": "python",
   "pygments_lexer": "ipython3",
   "version": "3.11.4"
  }
 },
 "nbformat": 4,
 "nbformat_minor": 2
}
