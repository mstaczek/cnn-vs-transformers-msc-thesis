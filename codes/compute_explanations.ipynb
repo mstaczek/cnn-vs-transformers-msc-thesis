{
 "cells": [
  {
   "cell_type": "markdown",
   "metadata": {},
   "source": [
    "# Usage example"
   ]
  },
  {
   "cell_type": "markdown",
   "metadata": {},
   "source": [
    "#### CPU vs CUDA"
   ]
  },
  {
   "cell_type": "code",
   "execution_count": 6,
   "metadata": {},
   "outputs": [
    {
     "name": "stdout",
     "output_type": "stream",
     "text": [
      "Loaded model: https://huggingface.co/timm/resnet18d.ra2_in1k\n"
     ]
    },
    {
     "name": "stderr",
     "output_type": "stream",
     "text": [
      "Computing explanations for batches: 100%|██████████| 2/2 [00:03<00:00,  1.87s/it]\n"
     ]
    },
    {
     "name": "stdout",
     "output_type": "stream",
     "text": [
      "Loaded model: https://huggingface.co/timm/resnet50d.ra2_in1k\n"
     ]
    },
    {
     "name": "stderr",
     "output_type": "stream",
     "text": [
      "Computing explanations for batches: 100%|██████████| 2/2 [00:10<00:00,  5.14s/it]\n"
     ]
    }
   ],
   "source": [
    "from src.compute_explanations import compute_explanations\n",
    "\n",
    "compute_explanations('imagenette2', 'ResNet18', 'GradCAM', number_of_batches_to_process=2, batch_size=4, shuffle=True, device=\"cpu\")\n",
    "compute_explanations('imagenette2', 'ResNet50', 'GradCAM', number_of_batches_to_process=2, batch_size=4, shuffle=True, device=\"cpu\")"
   ]
  },
  {
   "cell_type": "code",
   "execution_count": 7,
   "metadata": {},
   "outputs": [
    {
     "name": "stdout",
     "output_type": "stream",
     "text": [
      "Loaded model: https://huggingface.co/timm/resnet18d.ra2_in1k\n"
     ]
    },
    {
     "name": "stderr",
     "output_type": "stream",
     "text": [
      "Computing explanations for batches: 100%|██████████| 2/2 [00:06<00:00,  3.12s/it]\n"
     ]
    },
    {
     "name": "stdout",
     "output_type": "stream",
     "text": [
      "Loaded model: https://huggingface.co/timm/resnet50d.ra2_in1k\n"
     ]
    },
    {
     "name": "stderr",
     "output_type": "stream",
     "text": [
      "Computing explanations for batches: 100%|██████████| 2/2 [00:02<00:00,  1.06s/it]\n"
     ]
    }
   ],
   "source": [
    "from src.compute_explanations import compute_explanations\n",
    "\n",
    "compute_explanations('imagenette2', 'ResNet18', 'GradCAM', number_of_batches_to_process=2, batch_size=4, shuffle=True, device=\"cuda\")\n",
    "compute_explanations('imagenette2', 'ResNet50', 'GradCAM', number_of_batches_to_process=2, batch_size=4, shuffle=True, device=\"cuda\")"
   ]
  },
  {
   "cell_type": "markdown",
   "metadata": {},
   "source": [
    "## GradCAM"
   ]
  },
  {
   "cell_type": "code",
   "execution_count": 8,
   "metadata": {},
   "outputs": [
    {
     "name": "stdout",
     "output_type": "stream",
     "text": [
      "Loaded model: https://huggingface.co/timm/resnet18d.ra2_in1k\n"
     ]
    },
    {
     "name": "stderr",
     "output_type": "stream",
     "text": [
      "Computing explanations for batches: 100%|██████████| 2/2 [00:01<00:00,  1.59it/s]\n"
     ]
    },
    {
     "name": "stdout",
     "output_type": "stream",
     "text": [
      "Loaded model: https://huggingface.co/timm/resnet50d.ra2_in1k\n"
     ]
    },
    {
     "name": "stderr",
     "output_type": "stream",
     "text": [
      "Computing explanations for batches: 100%|██████████| 2/2 [00:01<00:00,  1.28it/s]\n"
     ]
    },
    {
     "name": "stdout",
     "output_type": "stream",
     "text": [
      "Loaded model: https://huggingface.co/timm/vit_base_patch32_224.augreg_in21k_ft_in1k\n"
     ]
    },
    {
     "name": "stderr",
     "output_type": "stream",
     "text": [
      "Computing explanations for batches: 100%|██████████| 2/2 [00:03<00:00,  1.58s/it]\n"
     ]
    },
    {
     "name": "stdout",
     "output_type": "stream",
     "text": [
      "Loaded model: https://huggingface.co/timm/swin_tiny_patch4_window7_224.ms_in1k\n"
     ]
    },
    {
     "name": "stderr",
     "output_type": "stream",
     "text": [
      "Computing explanations for batches: 100%|██████████| 2/2 [00:02<00:00,  1.20s/it]\n"
     ]
    },
    {
     "name": "stdout",
     "output_type": "stream",
     "text": [
      "Loaded model: https://huggingface.co/timm/deit_small_patch16_224.fb_in1k\n"
     ]
    },
    {
     "name": "stderr",
     "output_type": "stream",
     "text": [
      "Computing explanations for batches: 100%|██████████| 2/2 [00:01<00:00,  1.02it/s]\n"
     ]
    },
    {
     "name": "stdout",
     "output_type": "stream",
     "text": [
      "Loaded model: https://huggingface.co/timm/efficientnet_b3.ra2_in1k\n"
     ]
    },
    {
     "name": "stderr",
     "output_type": "stream",
     "text": [
      "Computing explanations for batches: 100%|██████████| 2/2 [00:02<00:00,  1.34s/it]\n"
     ]
    }
   ],
   "source": [
    "from src.compute_explanations import compute_explanations\n",
    "\n",
    "models_list = ['ResNet18','ResNet50', 'ViT_B_32', 'Swin_T', 'DeiT_S', 'EfficientNet_B3']\n",
    "for model in models_list:\n",
    "    compute_explanations('imagenette2', model, 'GradCAM', number_of_batches_to_process=2, batch_size=4, shuffle=True, device=\"cuda\")"
   ]
  },
  {
   "cell_type": "code",
   "execution_count": 1,
   "metadata": {},
   "outputs": [
    {
     "name": "stderr",
     "output_type": "stream",
     "text": [
      "Loading explanations: 100%|██████████| 48/48 [00:00<00:00, 87.82it/s]\n",
      "Loading explanations: 100%|██████████| 16/16 [00:00<00:00, 102.16it/s]\n",
      "Loading explanations: 100%|██████████| 16/16 [00:00<00:00, 68.00it/s]\n",
      "Loading explanations: 100%|██████████| 16/16 [00:00<00:00, 130.84it/s]\n",
      "Loading explanations: 100%|██████████| 8/8 [00:00<00:00, 126.92it/s]\n",
      "Loading explanations: 100%|██████████| 8/8 [00:00<00:00, 90.39it/s]\n"
     ]
    },
    {
     "name": "stdout",
     "output_type": "stream",
     "text": [
      "Loaded 8 common explanations for each model.\n"
     ]
    },
    {
     "data": {
      "text/html": [
       "<div>\n",
       "<style scoped>\n",
       "    .dataframe tbody tr th:only-of-type {\n",
       "        vertical-align: middle;\n",
       "    }\n",
       "\n",
       "    .dataframe tbody tr th {\n",
       "        vertical-align: top;\n",
       "    }\n",
       "\n",
       "    .dataframe thead th {\n",
       "        text-align: right;\n",
       "    }\n",
       "</style>\n",
       "<table border=\"1\" class=\"dataframe\">\n",
       "  <thead>\n",
       "    <tr style=\"text-align: right;\">\n",
       "      <th></th>\n",
       "      <th>ResNet18</th>\n",
       "      <th>ResNet50</th>\n",
       "      <th>ViT_B_32</th>\n",
       "      <th>Swin_T</th>\n",
       "      <th>DeiT_S</th>\n",
       "      <th>EfficientNet_B3</th>\n",
       "    </tr>\n",
       "  </thead>\n",
       "  <tbody>\n",
       "    <tr>\n",
       "      <th>ResNet18</th>\n",
       "      <td>1</td>\n",
       "      <td>0.072918</td>\n",
       "      <td>0.000287</td>\n",
       "      <td>0.016928</td>\n",
       "      <td>0.001409</td>\n",
       "      <td>0.091494</td>\n",
       "    </tr>\n",
       "    <tr>\n",
       "      <th>ResNet50</th>\n",
       "      <td>0.072918</td>\n",
       "      <td>1</td>\n",
       "      <td>0.000001</td>\n",
       "      <td>0.043238</td>\n",
       "      <td>0.002276</td>\n",
       "      <td>0.079252</td>\n",
       "    </tr>\n",
       "    <tr>\n",
       "      <th>ViT_B_32</th>\n",
       "      <td>0.000287</td>\n",
       "      <td>0.000001</td>\n",
       "      <td>1</td>\n",
       "      <td>0.000004</td>\n",
       "      <td>0.001446</td>\n",
       "      <td>0.000118</td>\n",
       "    </tr>\n",
       "    <tr>\n",
       "      <th>Swin_T</th>\n",
       "      <td>0.016928</td>\n",
       "      <td>0.043238</td>\n",
       "      <td>0.000004</td>\n",
       "      <td>1</td>\n",
       "      <td>0.00182</td>\n",
       "      <td>0.002093</td>\n",
       "    </tr>\n",
       "    <tr>\n",
       "      <th>DeiT_S</th>\n",
       "      <td>0.001409</td>\n",
       "      <td>0.002276</td>\n",
       "      <td>0.001446</td>\n",
       "      <td>0.00182</td>\n",
       "      <td>1</td>\n",
       "      <td>0.000185</td>\n",
       "    </tr>\n",
       "    <tr>\n",
       "      <th>EfficientNet_B3</th>\n",
       "      <td>0.091494</td>\n",
       "      <td>0.079252</td>\n",
       "      <td>0.000118</td>\n",
       "      <td>0.002093</td>\n",
       "      <td>0.000185</td>\n",
       "      <td>1</td>\n",
       "    </tr>\n",
       "  </tbody>\n",
       "</table>\n",
       "</div>"
      ],
      "text/plain": [
       "                 ResNet18  ResNet50  ViT_B_32    Swin_T    DeiT_S  \\\n",
       "ResNet18                1  0.072918  0.000287  0.016928  0.001409   \n",
       "ResNet50         0.072918         1  0.000001  0.043238  0.002276   \n",
       "ViT_B_32         0.000287  0.000001         1  0.000004  0.001446   \n",
       "Swin_T           0.016928  0.043238  0.000004         1   0.00182   \n",
       "DeiT_S           0.001409  0.002276  0.001446   0.00182         1   \n",
       "EfficientNet_B3  0.091494  0.079252  0.000118  0.002093  0.000185   \n",
       "\n",
       "                EfficientNet_B3  \n",
       "ResNet18               0.091494  \n",
       "ResNet50               0.079252  \n",
       "ViT_B_32               0.000118  \n",
       "Swin_T                 0.002093  \n",
       "DeiT_S                 0.000185  \n",
       "EfficientNet_B3               1  "
      ]
     },
     "execution_count": 1,
     "metadata": {},
     "output_type": "execute_result"
    }
   ],
   "source": [
    "from src.compare_explanations import compare_explanations, radial_basis_function\n",
    "from src.load_explanations import load_explanations_of_many_models\n",
    "\n",
    "models_list = ['ResNet18','ResNet50', 'ViT_B_32', 'Swin_T', 'DeiT_S', 'EfficientNet_B3']\n",
    "explanations_many_models = load_explanations_of_many_models('imagenette2', models_list, 'GradCAM')\n",
    "similarity_df = compare_explanations(explanations_many_models, comparison_function=radial_basis_function)\n",
    "similarity_df.to_csv(\"similarity_matrix_gradcam.csv\")\n",
    "similarity_df"
   ]
  },
  {
   "cell_type": "markdown",
   "metadata": {},
   "source": [
    "## KernelSHAP"
   ]
  },
  {
   "cell_type": "code",
   "execution_count": 10,
   "metadata": {},
   "outputs": [
    {
     "name": "stdout",
     "output_type": "stream",
     "text": [
      "Loaded model: https://huggingface.co/timm/resnet18d.ra2_in1k\n"
     ]
    },
    {
     "name": "stderr",
     "output_type": "stream",
     "text": [
      "Computing explanations for batches: 100%|██████████| 2/2 [00:43<00:00, 21.93s/it]\n"
     ]
    },
    {
     "name": "stdout",
     "output_type": "stream",
     "text": [
      "Loaded model: https://huggingface.co/timm/resnet50d.ra2_in1k\n"
     ]
    },
    {
     "name": "stderr",
     "output_type": "stream",
     "text": [
      "Computing explanations for batches: 100%|██████████| 2/2 [01:19<00:00, 39.91s/it]\n"
     ]
    },
    {
     "name": "stdout",
     "output_type": "stream",
     "text": [
      "Loaded model: https://huggingface.co/timm/vit_base_patch32_224.augreg_in21k_ft_in1k\n"
     ]
    },
    {
     "name": "stderr",
     "output_type": "stream",
     "text": [
      "Computing explanations for batches: 100%|██████████| 2/2 [00:43<00:00, 21.51s/it]\n"
     ]
    },
    {
     "name": "stdout",
     "output_type": "stream",
     "text": [
      "Loaded model: https://huggingface.co/timm/swin_tiny_patch4_window7_224.ms_in1k\n"
     ]
    },
    {
     "name": "stderr",
     "output_type": "stream",
     "text": [
      "Computing explanations for batches: 100%|██████████| 2/2 [00:53<00:00, 26.82s/it]\n"
     ]
    },
    {
     "name": "stdout",
     "output_type": "stream",
     "text": [
      "Loaded model: https://huggingface.co/timm/deit_small_patch16_224.fb_in1k\n"
     ]
    },
    {
     "name": "stderr",
     "output_type": "stream",
     "text": [
      "Computing explanations for batches: 100%|██████████| 2/2 [00:36<00:00, 18.27s/it]\n"
     ]
    },
    {
     "name": "stdout",
     "output_type": "stream",
     "text": [
      "Loaded model: https://huggingface.co/timm/efficientnet_b3.ra2_in1k\n"
     ]
    },
    {
     "name": "stderr",
     "output_type": "stream",
     "text": [
      "Computing explanations for batches: 100%|██████████| 2/2 [01:00<00:00, 30.35s/it]\n"
     ]
    }
   ],
   "source": [
    "from src.compute_explanations import compute_explanations\n",
    "\n",
    "models_list = ['ResNet18','ResNet50', 'ViT_B_32', 'Swin_T', 'DeiT_S', 'EfficientNet_B3']\n",
    "for model in models_list:\n",
    "    compute_explanations('imagenette2', model, 'KernelSHAP', number_of_batches_to_process=2, batch_size=4, shuffle=True, device=\"cuda\")"
   ]
  },
  {
   "cell_type": "code",
   "execution_count": 2,
   "metadata": {},
   "outputs": [
    {
     "name": "stderr",
     "output_type": "stream",
     "text": [
      "Loading explanations: 100%|██████████| 8/8 [00:00<00:00, 83.62it/s]\n",
      "Loading explanations: 100%|██████████| 8/8 [00:00<00:00, 102.50it/s]\n",
      "Loading explanations: 100%|██████████| 8/8 [00:00<00:00, 111.21it/s]\n",
      "Loading explanations: 100%|██████████| 8/8 [00:00<00:00, 74.40it/s]\n",
      "Loading explanations: 100%|██████████| 8/8 [00:00<00:00, 76.67it/s]\n",
      "Loading explanations: 100%|██████████| 8/8 [00:00<00:00, 56.95it/s]"
     ]
    },
    {
     "name": "stdout",
     "output_type": "stream",
     "text": [
      "Loaded 8 common explanations for each model.\n"
     ]
    },
    {
     "name": "stderr",
     "output_type": "stream",
     "text": [
      "\n"
     ]
    },
    {
     "data": {
      "text/html": [
       "<div>\n",
       "<style scoped>\n",
       "    .dataframe tbody tr th:only-of-type {\n",
       "        vertical-align: middle;\n",
       "    }\n",
       "\n",
       "    .dataframe tbody tr th {\n",
       "        vertical-align: top;\n",
       "    }\n",
       "\n",
       "    .dataframe thead th {\n",
       "        text-align: right;\n",
       "    }\n",
       "</style>\n",
       "<table border=\"1\" class=\"dataframe\">\n",
       "  <thead>\n",
       "    <tr style=\"text-align: right;\">\n",
       "      <th></th>\n",
       "      <th>ResNet18</th>\n",
       "      <th>ResNet50</th>\n",
       "      <th>ViT_B_32</th>\n",
       "      <th>Swin_T</th>\n",
       "      <th>DeiT_S</th>\n",
       "      <th>EfficientNet_B3</th>\n",
       "    </tr>\n",
       "  </thead>\n",
       "  <tbody>\n",
       "    <tr>\n",
       "      <th>ResNet18</th>\n",
       "      <td>1</td>\n",
       "      <td>0.873527</td>\n",
       "      <td>0.886217</td>\n",
       "      <td>0.863012</td>\n",
       "      <td>0.9008</td>\n",
       "      <td>0.880547</td>\n",
       "    </tr>\n",
       "    <tr>\n",
       "      <th>ResNet50</th>\n",
       "      <td>0.873527</td>\n",
       "      <td>1</td>\n",
       "      <td>0.876015</td>\n",
       "      <td>0.871066</td>\n",
       "      <td>0.891908</td>\n",
       "      <td>0.886809</td>\n",
       "    </tr>\n",
       "    <tr>\n",
       "      <th>ViT_B_32</th>\n",
       "      <td>0.886217</td>\n",
       "      <td>0.876015</td>\n",
       "      <td>1</td>\n",
       "      <td>0.845022</td>\n",
       "      <td>0.906861</td>\n",
       "      <td>0.867641</td>\n",
       "    </tr>\n",
       "    <tr>\n",
       "      <th>Swin_T</th>\n",
       "      <td>0.863012</td>\n",
       "      <td>0.871066</td>\n",
       "      <td>0.845022</td>\n",
       "      <td>1</td>\n",
       "      <td>0.89145</td>\n",
       "      <td>0.875031</td>\n",
       "    </tr>\n",
       "    <tr>\n",
       "      <th>DeiT_S</th>\n",
       "      <td>0.9008</td>\n",
       "      <td>0.891908</td>\n",
       "      <td>0.906861</td>\n",
       "      <td>0.89145</td>\n",
       "      <td>1</td>\n",
       "      <td>0.897462</td>\n",
       "    </tr>\n",
       "    <tr>\n",
       "      <th>EfficientNet_B3</th>\n",
       "      <td>0.880547</td>\n",
       "      <td>0.886809</td>\n",
       "      <td>0.867641</td>\n",
       "      <td>0.875031</td>\n",
       "      <td>0.897462</td>\n",
       "      <td>1</td>\n",
       "    </tr>\n",
       "  </tbody>\n",
       "</table>\n",
       "</div>"
      ],
      "text/plain": [
       "                 ResNet18  ResNet50  ViT_B_32    Swin_T    DeiT_S  \\\n",
       "ResNet18                1  0.873527  0.886217  0.863012    0.9008   \n",
       "ResNet50         0.873527         1  0.876015  0.871066  0.891908   \n",
       "ViT_B_32         0.886217  0.876015         1  0.845022  0.906861   \n",
       "Swin_T           0.863012  0.871066  0.845022         1   0.89145   \n",
       "DeiT_S             0.9008  0.891908  0.906861   0.89145         1   \n",
       "EfficientNet_B3  0.880547  0.886809  0.867641  0.875031  0.897462   \n",
       "\n",
       "                EfficientNet_B3  \n",
       "ResNet18               0.880547  \n",
       "ResNet50               0.886809  \n",
       "ViT_B_32               0.867641  \n",
       "Swin_T                 0.875031  \n",
       "DeiT_S                 0.897462  \n",
       "EfficientNet_B3               1  "
      ]
     },
     "execution_count": 2,
     "metadata": {},
     "output_type": "execute_result"
    }
   ],
   "source": [
    "from src.compare_explanations import compare_explanations, cosine_similarity\n",
    "from src.load_explanations import load_explanations_of_many_models\n",
    "\n",
    "models_list = ['ResNet18','ResNet50', 'ViT_B_32', 'Swin_T', 'DeiT_S', 'EfficientNet_B3']\n",
    "explanations_many_models = load_explanations_of_many_models('imagenette2', models_list, 'KernelSHAP')\n",
    "similarity_df = compare_explanations(explanations_many_models, comparison_function=cosine_similarity)\n",
    "similarity_df.to_csv(\"similarity_matrix_kernelshap.csv\")\n",
    "similarity_df"
   ]
  }
 ],
 "metadata": {
  "kernelspec": {
   "display_name": "master-thesis-cnn-vs-transformers",
   "language": "python",
   "name": "python3"
  },
  "language_info": {
   "codemirror_mode": {
    "name": "ipython",
    "version": 3
   },
   "file_extension": ".py",
   "mimetype": "text/x-python",
   "name": "python",
   "nbconvert_exporter": "python",
   "pygments_lexer": "ipython3",
   "version": "3.11.4"
  }
 },
 "nbformat": 4,
 "nbformat_minor": 2
}
