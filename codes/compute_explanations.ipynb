{
 "cells": [
  {
   "cell_type": "markdown",
   "metadata": {},
   "source": [
    "# Usage example"
   ]
  },
  {
   "cell_type": "markdown",
   "metadata": {},
   "source": [
    "## GradCAM"
   ]
  },
  {
   "cell_type": "code",
   "execution_count": 1,
   "metadata": {},
   "outputs": [
    {
     "name": "stderr",
     "output_type": "stream",
     "text": [
      "Computing explanations for batches:   0%|          | 0/2 [00:00<?, ?it/s]"
     ]
    },
    {
     "name": "stdout",
     "output_type": "stream",
     "text": [
      "Loaded model: https://huggingface.co/timm/resnet18d.ra2_in1k\n"
     ]
    },
    {
     "name": "stderr",
     "output_type": "stream",
     "text": [
      "Computing explanations for batches: 100%|██████████| 2/2 [00:02<00:00,  1.50s/it]\n",
      "Computing explanations for batches:   0%|          | 0/2 [00:00<?, ?it/s]"
     ]
    },
    {
     "name": "stdout",
     "output_type": "stream",
     "text": [
      "Loaded model: https://huggingface.co/timm/resnet50d.ra2_in1k\n"
     ]
    },
    {
     "name": "stderr",
     "output_type": "stream",
     "text": [
      "Computing explanations for batches: 100%|██████████| 2/2 [00:03<00:00,  1.62s/it]\n",
      "Computing explanations for batches:   0%|          | 0/2 [00:00<?, ?it/s]"
     ]
    },
    {
     "name": "stdout",
     "output_type": "stream",
     "text": [
      "Loaded model: https://huggingface.co/timm/vit_base_patch32_224.augreg_in21k_ft_in1k\n"
     ]
    },
    {
     "name": "stderr",
     "output_type": "stream",
     "text": [
      "Computing explanations for batches: 100%|██████████| 2/2 [00:04<00:00,  2.05s/it]\n",
      "Computing explanations for batches:   0%|          | 0/2 [00:00<?, ?it/s]"
     ]
    },
    {
     "name": "stdout",
     "output_type": "stream",
     "text": [
      "Loaded model: https://huggingface.co/timm/swin_tiny_patch4_window7_224.ms_in1k\n"
     ]
    },
    {
     "name": "stderr",
     "output_type": "stream",
     "text": [
      "Computing explanations for batches: 100%|██████████| 2/2 [00:04<00:00,  2.08s/it]\n"
     ]
    }
   ],
   "source": [
    "from src.compute_explanations import compute_explanations\n",
    "\n",
    "compute_explanations('imagenette2', 'ResNet18', 'GradCAM', number_of_batches_to_process=2, batch_size=4, shuffle=True)\n",
    "compute_explanations('imagenette2', 'ResNet50', 'GradCAM', number_of_batches_to_process=2, batch_size=4, shuffle=True)\n",
    "compute_explanations('imagenette2', 'ViT_B_32', 'GradCAM', number_of_batches_to_process=2, batch_size=4, shuffle=True)\n",
    "compute_explanations('imagenette2', 'Swin_T', 'GradCAM', number_of_batches_to_process=2, batch_size=4, shuffle=True)"
   ]
  },
  {
   "cell_type": "code",
   "execution_count": 7,
   "metadata": {},
   "outputs": [
    {
     "name": "stderr",
     "output_type": "stream",
     "text": [
      "Loading explanations: 100%|██████████| 48/48 [00:00<00:00, 486.15it/s]\n",
      "Loading explanations: 100%|██████████| 16/16 [00:00<00:00, 1021.46it/s]\n",
      "Loading explanations: 100%|██████████| 16/16 [00:00<00:00, 932.05it/s]\n",
      "Loading explanations: 100%|██████████| 16/16 [00:00<00:00, 1027.59it/s]"
     ]
    },
    {
     "name": "stdout",
     "output_type": "stream",
     "text": [
      "Loaded 16 common explanations for each model.\n"
     ]
    },
    {
     "name": "stderr",
     "output_type": "stream",
     "text": [
      "\n"
     ]
    },
    {
     "data": {
      "text/html": [
       "<div>\n",
       "<style scoped>\n",
       "    .dataframe tbody tr th:only-of-type {\n",
       "        vertical-align: middle;\n",
       "    }\n",
       "\n",
       "    .dataframe tbody tr th {\n",
       "        vertical-align: top;\n",
       "    }\n",
       "\n",
       "    .dataframe thead th {\n",
       "        text-align: right;\n",
       "    }\n",
       "</style>\n",
       "<table border=\"1\" class=\"dataframe\">\n",
       "  <thead>\n",
       "    <tr style=\"text-align: right;\">\n",
       "      <th></th>\n",
       "      <th>ResNet18</th>\n",
       "      <th>ResNet50</th>\n",
       "      <th>ViT_B_32</th>\n",
       "      <th>Swin_T</th>\n",
       "    </tr>\n",
       "  </thead>\n",
       "  <tbody>\n",
       "    <tr>\n",
       "      <th>ResNet18</th>\n",
       "      <td>1</td>\n",
       "      <td>0.071844</td>\n",
       "      <td>0.000196</td>\n",
       "      <td>0.020786</td>\n",
       "    </tr>\n",
       "    <tr>\n",
       "      <th>ResNet50</th>\n",
       "      <td>0.071844</td>\n",
       "      <td>1</td>\n",
       "      <td>0.00007</td>\n",
       "      <td>0.024606</td>\n",
       "    </tr>\n",
       "    <tr>\n",
       "      <th>ViT_B_32</th>\n",
       "      <td>0.000196</td>\n",
       "      <td>0.00007</td>\n",
       "      <td>1</td>\n",
       "      <td>0.000004</td>\n",
       "    </tr>\n",
       "    <tr>\n",
       "      <th>Swin_T</th>\n",
       "      <td>0.020786</td>\n",
       "      <td>0.024606</td>\n",
       "      <td>0.000004</td>\n",
       "      <td>1</td>\n",
       "    </tr>\n",
       "  </tbody>\n",
       "</table>\n",
       "</div>"
      ],
      "text/plain": [
       "          ResNet18  ResNet50  ViT_B_32    Swin_T\n",
       "ResNet18         1  0.071844  0.000196  0.020786\n",
       "ResNet50  0.071844         1   0.00007  0.024606\n",
       "ViT_B_32  0.000196   0.00007         1  0.000004\n",
       "Swin_T    0.020786  0.024606  0.000004         1"
      ]
     },
     "execution_count": 7,
     "metadata": {},
     "output_type": "execute_result"
    }
   ],
   "source": [
    "from src.compare_explanations import compare_explanations, radial_basis_function\n",
    "from src.load_explanations import load_explanations_of_many_models\n",
    "\n",
    "explanations_many_models = load_explanations_of_many_models('imagenette2', ['ResNet18','ResNet50', 'ViT_B_32', 'Swin_T'], 'GradCAM')\n",
    "similarity_df = compare_explanations(explanations_many_models, comparison_function=radial_basis_function)\n",
    "similarity_df.to_csv(\"sample_similarity_matrix.csv\")\n",
    "similarity_df"
   ]
  },
  {
   "cell_type": "markdown",
   "metadata": {},
   "source": [
    "## KernelSHAP"
   ]
  },
  {
   "cell_type": "code",
   "execution_count": 3,
   "metadata": {},
   "outputs": [
    {
     "name": "stderr",
     "output_type": "stream",
     "text": [
      "Computing explanations for batches:   0%|          | 0/2 [00:00<?, ?it/s]"
     ]
    },
    {
     "name": "stdout",
     "output_type": "stream",
     "text": [
      "Loaded model: https://huggingface.co/timm/resnet18d.ra2_in1k\n"
     ]
    },
    {
     "name": "stderr",
     "output_type": "stream",
     "text": [
      "Computing explanations for batches: 100%|██████████| 2/2 [00:15<00:00,  7.76s/it]\n",
      "Computing explanations for batches:   0%|          | 0/2 [00:00<?, ?it/s]"
     ]
    },
    {
     "name": "stdout",
     "output_type": "stream",
     "text": [
      "Loaded model: https://huggingface.co/timm/resnet50d.ra2_in1k\n"
     ]
    },
    {
     "name": "stderr",
     "output_type": "stream",
     "text": [
      "Computing explanations for batches: 100%|██████████| 2/2 [00:35<00:00, 17.79s/it]\n",
      "Computing explanations for batches:   0%|          | 0/2 [00:00<?, ?it/s]"
     ]
    },
    {
     "name": "stdout",
     "output_type": "stream",
     "text": [
      "Loaded model: https://huggingface.co/timm/vit_base_patch32_224.augreg_in21k_ft_in1k\n"
     ]
    },
    {
     "name": "stderr",
     "output_type": "stream",
     "text": [
      "Computing explanations for batches: 100%|██████████| 2/2 [00:27<00:00, 13.58s/it]\n",
      "Computing explanations for batches:   0%|          | 0/2 [00:00<?, ?it/s]"
     ]
    },
    {
     "name": "stdout",
     "output_type": "stream",
     "text": [
      "Loaded model: https://huggingface.co/timm/swin_tiny_patch4_window7_224.ms_in1k\n"
     ]
    },
    {
     "name": "stderr",
     "output_type": "stream",
     "text": [
      "Computing explanations for batches: 100%|██████████| 2/2 [00:36<00:00, 18.15s/it]\n"
     ]
    }
   ],
   "source": [
    "from src.compute_explanations import compute_explanations\n",
    "\n",
    "compute_explanations('imagenette2', 'ResNet18', 'KernelSHAP', number_of_batches_to_process=2, batch_size=2, shuffle=True)\n",
    "compute_explanations('imagenette2', 'ResNet50', 'KernelSHAP', number_of_batches_to_process=2, batch_size=2, shuffle=True)\n",
    "compute_explanations('imagenette2', 'ViT_B_32', 'KernelSHAP', number_of_batches_to_process=2, batch_size=2, shuffle=True)\n",
    "compute_explanations('imagenette2', 'Swin_T', 'KernelSHAP', number_of_batches_to_process=2, batch_size=2, shuffle=True)"
   ]
  },
  {
   "cell_type": "code",
   "execution_count": 6,
   "metadata": {},
   "outputs": [
    {
     "name": "stderr",
     "output_type": "stream",
     "text": [
      "Loading explanations: 100%|██████████| 4/4 [00:00<00:00, 119.91it/s]\n",
      "Loading explanations: 100%|██████████| 4/4 [00:00<00:00, 610.79it/s]\n",
      "Loading explanations: 100%|██████████| 4/4 [00:00<00:00, 667.78it/s]\n",
      "Loading explanations: 100%|██████████| 4/4 [00:00<00:00, 539.76it/s]"
     ]
    },
    {
     "name": "stdout",
     "output_type": "stream",
     "text": [
      "Loaded 4 common explanations for each model.\n"
     ]
    },
    {
     "name": "stderr",
     "output_type": "stream",
     "text": [
      "\n"
     ]
    },
    {
     "data": {
      "text/html": [
       "<div>\n",
       "<style scoped>\n",
       "    .dataframe tbody tr th:only-of-type {\n",
       "        vertical-align: middle;\n",
       "    }\n",
       "\n",
       "    .dataframe tbody tr th {\n",
       "        vertical-align: top;\n",
       "    }\n",
       "\n",
       "    .dataframe thead th {\n",
       "        text-align: right;\n",
       "    }\n",
       "</style>\n",
       "<table border=\"1\" class=\"dataframe\">\n",
       "  <thead>\n",
       "    <tr style=\"text-align: right;\">\n",
       "      <th></th>\n",
       "      <th>ResNet18</th>\n",
       "      <th>ResNet50</th>\n",
       "      <th>ViT_B_32</th>\n",
       "      <th>Swin_T</th>\n",
       "    </tr>\n",
       "  </thead>\n",
       "  <tbody>\n",
       "    <tr>\n",
       "      <th>ResNet18</th>\n",
       "      <td>1</td>\n",
       "      <td>0.877743</td>\n",
       "      <td>0.845017</td>\n",
       "      <td>0.913043</td>\n",
       "    </tr>\n",
       "    <tr>\n",
       "      <th>ResNet50</th>\n",
       "      <td>0.877743</td>\n",
       "      <td>1</td>\n",
       "      <td>0.870143</td>\n",
       "      <td>0.912877</td>\n",
       "    </tr>\n",
       "    <tr>\n",
       "      <th>ViT_B_32</th>\n",
       "      <td>0.845017</td>\n",
       "      <td>0.870143</td>\n",
       "      <td>1</td>\n",
       "      <td>0.883843</td>\n",
       "    </tr>\n",
       "    <tr>\n",
       "      <th>Swin_T</th>\n",
       "      <td>0.913043</td>\n",
       "      <td>0.912877</td>\n",
       "      <td>0.883843</td>\n",
       "      <td>1</td>\n",
       "    </tr>\n",
       "  </tbody>\n",
       "</table>\n",
       "</div>"
      ],
      "text/plain": [
       "          ResNet18  ResNet50  ViT_B_32    Swin_T\n",
       "ResNet18         1  0.877743  0.845017  0.913043\n",
       "ResNet50  0.877743         1  0.870143  0.912877\n",
       "ViT_B_32  0.845017  0.870143         1  0.883843\n",
       "Swin_T    0.913043  0.912877  0.883843         1"
      ]
     },
     "execution_count": 6,
     "metadata": {},
     "output_type": "execute_result"
    }
   ],
   "source": [
    "from src.compare_explanations import compare_explanations, cosine_similarity\n",
    "from src.load_explanations import load_explanations_of_many_models\n",
    "\n",
    "explanations_many_models = load_explanations_of_many_models('imagenette2', ['ResNet18','ResNet50', 'ViT_B_32', 'Swin_T'], 'KernelSHAP')\n",
    "similarity_df = compare_explanations(explanations_many_models, comparison_function=cosine_similarity)\n",
    "similarity_df.to_csv(\"sample_similarity_matrix.csv\")\n",
    "similarity_df"
   ]
  }
 ],
 "metadata": {
  "kernelspec": {
   "display_name": "master-thesis-cnn-vs-transformers",
   "language": "python",
   "name": "python3"
  },
  "language_info": {
   "codemirror_mode": {
    "name": "ipython",
    "version": 3
   },
   "file_extension": ".py",
   "mimetype": "text/x-python",
   "name": "python",
   "nbconvert_exporter": "python",
   "pygments_lexer": "ipython3",
   "version": "3.11.4"
  }
 },
 "nbformat": 4,
 "nbformat_minor": 2
}
