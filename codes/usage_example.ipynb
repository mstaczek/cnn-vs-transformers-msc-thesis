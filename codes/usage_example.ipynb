{
 "cells": [
  {
   "cell_type": "markdown",
   "metadata": {},
   "source": [
    "# Usage example"
   ]
  },
  {
   "cell_type": "markdown",
   "metadata": {},
   "source": [
    "### Setting input dataset and output directory\n",
    "\n",
    "Required: dataset_name, model_name, explanation_name\n",
    "\n",
    "Possible values:"
   ]
  },
  {
   "cell_type": "code",
   "execution_count": 1,
   "metadata": {},
   "outputs": [
    {
     "name": "stdout",
     "output_type": "stream",
     "text": [
      "Possible datasets: ['imagenette2']\n",
      "Possible models: ['DeiT_S', 'DeiT_T', 'DenseNet121', 'EfficientNet_B3', 'EfficientNet_B4', 'ConvNeXtV2_Nano', 'PyramidViT_V2_B2', 'MobileNetV3', 'Swin_T', 'ResNet18', 'ResNet50', 'ResNeXt50', 'Res2Net50', 'ViT_B_32']\n",
      "Possible explanations: ['GradCAM', 'KernelSHAP']\n"
     ]
    }
   ],
   "source": [
    "from src import strings_to_classes_mappings\n",
    "\n",
    "print(\"Possible datasets:\", list(strings_to_classes_mappings.datasets_mapping.keys()))\n",
    "print(\"Possible models:\", list(strings_to_classes_mappings.models_mapping.keys()))\n",
    "print(\"Possible explanations:\", list(strings_to_classes_mappings.explanations_mapping.keys()))"
   ]
  },
  {
   "cell_type": "markdown",
   "metadata": {},
   "source": [
    "**imagenette2** download from [here](https://s3.amazonaws.com/fast-ai-imageclas/imagenette2.tgz) (or check for link [here](https://github.com/fastai/imagenette)) and extract to `../datasets/imagenette2`.\n",
    "\n",
    "Input and output folders:\n",
    "- root_images - passed to torchvision ImageFolder, the folder should contain subfolders with images for different classes\n",
    "- root_explanations - path to the folder where folders with explanations will be created"
   ]
  },
  {
   "cell_type": "markdown",
   "metadata": {},
   "source": [
    "### Example usage:"
   ]
  },
  {
   "cell_type": "markdown",
   "metadata": {},
   "source": [
    "First, compute explanations for at least 2 models."
   ]
  },
  {
   "cell_type": "code",
   "execution_count": 2,
   "metadata": {},
   "outputs": [
    {
     "name": "stdout",
     "output_type": "stream",
     "text": [
      "Loaded model: https://huggingface.co/timm/resnet18d.ra2_in1k\n"
     ]
    },
    {
     "name": "stderr",
     "output_type": "stream",
     "text": [
      "Computing explanations for batches: 100%|██████████| 2/2 [00:01<00:00,  1.95it/s]\n"
     ]
    },
    {
     "name": "stdout",
     "output_type": "stream",
     "text": [
      "Loaded model: https://huggingface.co/timm/resnet50d.ra2_in1k\n"
     ]
    },
    {
     "name": "stderr",
     "output_type": "stream",
     "text": [
      "Computing explanations for batches: 100%|██████████| 2/2 [00:01<00:00,  1.59it/s]\n"
     ]
    }
   ],
   "source": [
    "from src.compute_explanations import compute_explanations\n",
    "\n",
    "compute_explanations(dataset_name='imagenette2', model_name='ResNet18', explanation_name='GradCAM', \n",
    "                     number_of_batches_to_process=2, batch_size=4, shuffle=True, \n",
    "                     device=\"cuda\",                                     # <- used by pytorch, as in model.to(device)\n",
    "                     root_images=\"../datasets/imagenette2/train\",       # <- folder from which torchvision's ImageFolder will load images\n",
    "                     root_explanations=\"../explanations\")               # <- here, the explanations will be saved\n",
    "\n",
    "\n",
    "compute_explanations(dataset_name='imagenette2', model_name='ResNet50', explanation_name='GradCAM',  # <- another model\n",
    "                     number_of_batches_to_process=2, batch_size=4, shuffle=True, \n",
    "                     device=\"cuda\",                                     \n",
    "                     root_images=\"../datasets/imagenette2/train\",       \n",
    "                     root_explanations=\"../explanations\")               "
   ]
  },
  {
   "cell_type": "markdown",
   "metadata": {},
   "source": [
    "Then, load explanations and compute similarity metrics."
   ]
  },
  {
   "cell_type": "code",
   "execution_count": 3,
   "metadata": {},
   "outputs": [
    {
     "name": "stderr",
     "output_type": "stream",
     "text": [
      "Loading explanations: 100%|██████████| 8/8 [00:00<00:00, 579.09it/s]\n",
      "Loading explanations: 100%|██████████| 8/8 [00:00<00:00, 433.40it/s]"
     ]
    },
    {
     "name": "stdout",
     "output_type": "stream",
     "text": [
      "Loaded 8 common explanations for each model.\n",
      "\n",
      "Cosine similarity:\n",
      "          ResNet18  ResNet50\n",
      "ResNet18  1.000001  0.858149\n",
      "ResNet50  0.858149  1.000001 \n",
      "\n",
      "Radial basis function similarity:\n",
      "          ResNet18  ResNet50\n",
      "ResNet18       1.0  0.072918\n",
      "ResNet50  0.072918       1.0\n"
     ]
    },
    {
     "name": "stderr",
     "output_type": "stream",
     "text": [
      "\n"
     ]
    }
   ],
   "source": [
    "from src.compare_explanations import compare_explanations, cosine_similarity, radial_basis_function\n",
    "from src.load_explanations import load_explanations_of_many_models\n",
    "\n",
    "models_list = ['ResNet18','ResNet50']\n",
    "explanations_many_models = load_explanations_of_many_models('imagenette2', models_list, 'GradCAM', root_explanations=\"../explanations/rubbish\")\n",
    "\n",
    "similarity_df_cosine = compare_explanations(explanations_many_models, comparison_function=cosine_similarity)\n",
    "print(\"\\nCosine similarity:\")\n",
    "print(similarity_df_cosine, '\\n')\n",
    "\n",
    "similarity_df_rbf = compare_explanations(explanations_many_models, comparison_function=radial_basis_function)\n",
    "print(\"Radial basis function similarity:\")\n",
    "print(similarity_df_rbf)"
   ]
  },
  {
   "cell_type": "markdown",
   "metadata": {},
   "source": [
    "You can limit the compared explanations to only those, for which model's predictions were the same."
   ]
  },
  {
   "cell_type": "code",
   "execution_count": 4,
   "metadata": {},
   "outputs": [
    {
     "name": "stdout",
     "output_type": "stream",
     "text": [
      "Count of same predictions:\n",
      "         ResNet18 ResNet50\n",
      "ResNet18        8        6\n",
      "ResNet50        6        8 \n",
      "\n",
      "Cosine similarity:\n",
      "          ResNet18  ResNet50\n",
      "ResNet18  1.000001  0.915739\n",
      "ResNet50  0.915739  1.000001 \n",
      "\n",
      "Radial basis function similarity:\n",
      "         ResNet18 ResNet50\n",
      "ResNet18      1.0  0.09722\n",
      "ResNet50  0.09722      1.0\n"
     ]
    }
   ],
   "source": [
    "from src.compare_explanations import count_same_predictions\n",
    "\n",
    "count_of_same_predictions = count_same_predictions(explanations_many_models)\n",
    "\n",
    "print(\"Count of same predictions:\")\n",
    "print(count_of_same_predictions, '\\n')\n",
    "\n",
    "similarity_df_cosine = compare_explanations(explanations_many_models, comparison_function=cosine_similarity, compare_only_explanations_with_same_predictions=True)\n",
    "similarity_df_rbf = compare_explanations(explanations_many_models, comparison_function=radial_basis_function, compare_only_explanations_with_same_predictions=True)\n",
    "\n",
    "print(\"Cosine similarity:\")\n",
    "print(similarity_df_cosine, '\\n')\n",
    "\n",
    "print(\"Radial basis function similarity:\")\n",
    "print(similarity_df_rbf)"
   ]
  },
  {
   "cell_type": "markdown",
   "metadata": {},
   "source": [
    "#### CPU vs CUDA"
   ]
  },
  {
   "cell_type": "code",
   "execution_count": 5,
   "metadata": {},
   "outputs": [
    {
     "name": "stdout",
     "output_type": "stream",
     "text": [
      "With CPU:\n",
      "Loaded model: https://huggingface.co/timm/resnet18d.ra2_in1k\n"
     ]
    },
    {
     "name": "stderr",
     "output_type": "stream",
     "text": [
      "Computing explanations for batches: 100%|██████████| 8/8 [00:13<00:00,  1.66s/it]\n"
     ]
    },
    {
     "name": "stdout",
     "output_type": "stream",
     "text": [
      "With GPU:\n",
      "Loaded model: https://huggingface.co/timm/resnet18d.ra2_in1k\n"
     ]
    },
    {
     "name": "stderr",
     "output_type": "stream",
     "text": [
      "Computing explanations for batches: 100%|██████████| 8/8 [00:20<00:00,  2.58s/it]\n"
     ]
    }
   ],
   "source": [
    "from src.compute_explanations import compute_explanations\n",
    "\n",
    "print(\"With CPU:\")\n",
    "compute_explanations('imagenette2', 'ResNet18', 'GradCAM', number_of_batches_to_process=8, batch_size=8, shuffle=True, device=\"cpu\")\n",
    "\n",
    "print(\"With GPU:\")\n",
    "compute_explanations('imagenette2', 'ResNet18', 'GradCAM', number_of_batches_to_process=8, batch_size=8, shuffle=True, device=\"cuda\")"
   ]
  },
  {
   "cell_type": "markdown",
   "metadata": {},
   "source": [
    "## Full computations - example"
   ]
  },
  {
   "cell_type": "markdown",
   "metadata": {},
   "source": [
    "First, choose models:"
   ]
  },
  {
   "cell_type": "code",
   "execution_count": 6,
   "metadata": {},
   "outputs": [],
   "source": [
    "# all models\n",
    "# models_list = list(strings_to_classes_mappings.models_mapping.keys())\n",
    "\n",
    "# only these models (example)\n",
    "models_list = ['ResNet18','ResNet50', 'ViT_B_32', 'Swin_T', 'DeiT_S', 'EfficientNet_B3']"
   ]
  },
  {
   "cell_type": "markdown",
   "metadata": {},
   "source": [
    "Choose also other parameters:"
   ]
  },
  {
   "cell_type": "code",
   "execution_count": 7,
   "metadata": {},
   "outputs": [],
   "source": [
    "compute_explanations_parameters = {\n",
    "    \n",
    "    # Increase the following to analyze more images.\n",
    "    \"number_of_batches_to_process\" : 4, \n",
    "    \"batch_size\" : 4,\n",
    "\n",
    "    \"device\" : \"cuda\", # for torch on cuda gpu, or 'cpu' for cpu etc\n",
    "    \"shuffle\" : True, # for dataloader\n",
    "}"
   ]
  },
  {
   "cell_type": "markdown",
   "metadata": {},
   "source": [
    "#### GradCAM"
   ]
  },
  {
   "cell_type": "code",
   "execution_count": 8,
   "metadata": {},
   "outputs": [
    {
     "name": "stdout",
     "output_type": "stream",
     "text": [
      "Loaded model: https://huggingface.co/timm/resnet18d.ra2_in1k\n"
     ]
    },
    {
     "name": "stderr",
     "output_type": "stream",
     "text": [
      "Computing explanations for batches: 100%|██████████| 4/4 [00:06<00:00,  1.55s/it]\n"
     ]
    },
    {
     "name": "stdout",
     "output_type": "stream",
     "text": [
      "Loaded model: https://huggingface.co/timm/resnet50d.ra2_in1k\n"
     ]
    },
    {
     "name": "stderr",
     "output_type": "stream",
     "text": [
      "Computing explanations for batches: 100%|██████████| 4/4 [00:15<00:00,  3.78s/it]\n"
     ]
    },
    {
     "name": "stdout",
     "output_type": "stream",
     "text": [
      "Loaded model: https://huggingface.co/timm/vit_base_patch32_224.augreg_in21k_ft_in1k\n"
     ]
    },
    {
     "name": "stderr",
     "output_type": "stream",
     "text": [
      "Computing explanations for batches: 100%|██████████| 4/4 [00:12<00:00,  3.23s/it]\n"
     ]
    },
    {
     "name": "stdout",
     "output_type": "stream",
     "text": [
      "Loaded model: https://huggingface.co/timm/swin_tiny_patch4_window7_224.ms_in1k\n"
     ]
    },
    {
     "name": "stderr",
     "output_type": "stream",
     "text": [
      "Computing explanations for batches: 100%|██████████| 4/4 [00:22<00:00,  5.51s/it]\n"
     ]
    },
    {
     "name": "stdout",
     "output_type": "stream",
     "text": [
      "Loaded model: https://huggingface.co/timm/deit_small_patch16_224.fb_in1k\n"
     ]
    },
    {
     "name": "stderr",
     "output_type": "stream",
     "text": [
      "Computing explanations for batches: 100%|██████████| 4/4 [00:16<00:00,  4.24s/it]\n"
     ]
    },
    {
     "name": "stdout",
     "output_type": "stream",
     "text": [
      "Loaded model: https://huggingface.co/timm/efficientnet_b3.ra2_in1k\n"
     ]
    },
    {
     "name": "stderr",
     "output_type": "stream",
     "text": [
      "Computing explanations for batches: 100%|██████████| 4/4 [00:17<00:00,  4.37s/it]\n"
     ]
    }
   ],
   "source": [
    "from src.compute_explanations import compute_explanations\n",
    "\n",
    "for model in models_list:\n",
    "    compute_explanations('imagenette2', model, 'GradCAM', **compute_explanations_parameters)"
   ]
  },
  {
   "cell_type": "code",
   "execution_count": 9,
   "metadata": {},
   "outputs": [
    {
     "name": "stderr",
     "output_type": "stream",
     "text": [
      "Loading explanations: 100%|██████████| 64/64 [00:01<00:00, 48.96it/s]\n",
      "Loading explanations: 100%|██████████| 16/16 [00:00<00:00, 62.30it/s]\n",
      "Loading explanations: 100%|██████████| 16/16 [00:00<00:00, 56.03it/s]\n",
      "Loading explanations: 100%|██████████| 16/16 [00:00<00:00, 56.75it/s]\n",
      "Loading explanations: 100%|██████████| 16/16 [00:00<00:00, 59.11it/s]\n",
      "Loading explanations: 100%|██████████| 16/16 [00:00<00:00, 58.64it/s]\n"
     ]
    },
    {
     "name": "stdout",
     "output_type": "stream",
     "text": [
      "Loaded 16 common explanations for each model.\n"
     ]
    },
    {
     "data": {
      "text/html": [
       "<div>\n",
       "<style scoped>\n",
       "    .dataframe tbody tr th:only-of-type {\n",
       "        vertical-align: middle;\n",
       "    }\n",
       "\n",
       "    .dataframe tbody tr th {\n",
       "        vertical-align: top;\n",
       "    }\n",
       "\n",
       "    .dataframe thead th {\n",
       "        text-align: right;\n",
       "    }\n",
       "</style>\n",
       "<table border=\"1\" class=\"dataframe\">\n",
       "  <thead>\n",
       "    <tr style=\"text-align: right;\">\n",
       "      <th></th>\n",
       "      <th>ResNet18</th>\n",
       "      <th>ResNet50</th>\n",
       "      <th>ViT_B_32</th>\n",
       "      <th>Swin_T</th>\n",
       "      <th>DeiT_S</th>\n",
       "      <th>EfficientNet_B3</th>\n",
       "    </tr>\n",
       "  </thead>\n",
       "  <tbody>\n",
       "    <tr>\n",
       "      <th>ResNet18</th>\n",
       "      <td>1.000001</td>\n",
       "      <td>0.85677</td>\n",
       "      <td>0.584933</td>\n",
       "      <td>0.802545</td>\n",
       "      <td>0.66538</td>\n",
       "      <td>0.799556</td>\n",
       "    </tr>\n",
       "    <tr>\n",
       "      <th>ResNet50</th>\n",
       "      <td>0.85677</td>\n",
       "      <td>1.000001</td>\n",
       "      <td>0.612756</td>\n",
       "      <td>0.862724</td>\n",
       "      <td>0.645426</td>\n",
       "      <td>0.822643</td>\n",
       "    </tr>\n",
       "    <tr>\n",
       "      <th>ViT_B_32</th>\n",
       "      <td>0.584933</td>\n",
       "      <td>0.612756</td>\n",
       "      <td>1.0</td>\n",
       "      <td>0.586312</td>\n",
       "      <td>0.546911</td>\n",
       "      <td>0.610318</td>\n",
       "    </tr>\n",
       "    <tr>\n",
       "      <th>Swin_T</th>\n",
       "      <td>0.802545</td>\n",
       "      <td>0.862724</td>\n",
       "      <td>0.586312</td>\n",
       "      <td>1.0</td>\n",
       "      <td>0.659092</td>\n",
       "      <td>0.773872</td>\n",
       "    </tr>\n",
       "    <tr>\n",
       "      <th>DeiT_S</th>\n",
       "      <td>0.66538</td>\n",
       "      <td>0.645426</td>\n",
       "      <td>0.546911</td>\n",
       "      <td>0.659092</td>\n",
       "      <td>1.0</td>\n",
       "      <td>0.64866</td>\n",
       "    </tr>\n",
       "    <tr>\n",
       "      <th>EfficientNet_B3</th>\n",
       "      <td>0.799556</td>\n",
       "      <td>0.822643</td>\n",
       "      <td>0.610318</td>\n",
       "      <td>0.773872</td>\n",
       "      <td>0.64866</td>\n",
       "      <td>1.0</td>\n",
       "    </tr>\n",
       "  </tbody>\n",
       "</table>\n",
       "</div>"
      ],
      "text/plain": [
       "                 ResNet18  ResNet50  ViT_B_32    Swin_T    DeiT_S  \\\n",
       "ResNet18         1.000001   0.85677  0.584933  0.802545   0.66538   \n",
       "ResNet50          0.85677  1.000001  0.612756  0.862724  0.645426   \n",
       "ViT_B_32         0.584933  0.612756       1.0  0.586312  0.546911   \n",
       "Swin_T           0.802545  0.862724  0.586312       1.0  0.659092   \n",
       "DeiT_S            0.66538  0.645426  0.546911  0.659092       1.0   \n",
       "EfficientNet_B3  0.799556  0.822643  0.610318  0.773872   0.64866   \n",
       "\n",
       "                EfficientNet_B3  \n",
       "ResNet18               0.799556  \n",
       "ResNet50               0.822643  \n",
       "ViT_B_32               0.610318  \n",
       "Swin_T                 0.773872  \n",
       "DeiT_S                  0.64866  \n",
       "EfficientNet_B3             1.0  "
      ]
     },
     "execution_count": 9,
     "metadata": {},
     "output_type": "execute_result"
    }
   ],
   "source": [
    "from src.compare_explanations import compare_explanations, cosine_similarity\n",
    "from src.load_explanations import load_explanations_of_many_models\n",
    "\n",
    "explanations_many_models = load_explanations_of_many_models('imagenette2', models_list, 'GradCAM')\n",
    "\n",
    "similarity_df = compare_explanations(explanations_many_models, comparison_function=cosine_similarity)\n",
    "similarity_df.to_csv(\"similarity_matrix_gradcam.csv\")\n",
    "similarity_df"
   ]
  },
  {
   "cell_type": "markdown",
   "metadata": {},
   "source": [
    "#### KernelSHAP"
   ]
  },
  {
   "cell_type": "code",
   "execution_count": 10,
   "metadata": {},
   "outputs": [
    {
     "name": "stdout",
     "output_type": "stream",
     "text": [
      "Loaded model: https://huggingface.co/timm/resnet18d.ra2_in1k\n"
     ]
    },
    {
     "name": "stderr",
     "output_type": "stream",
     "text": [
      "Computing explanations for batches: 100%|██████████| 4/4 [03:54<00:00, 58.64s/it]\n"
     ]
    },
    {
     "name": "stdout",
     "output_type": "stream",
     "text": [
      "Loaded model: https://huggingface.co/timm/resnet50d.ra2_in1k\n"
     ]
    },
    {
     "name": "stderr",
     "output_type": "stream",
     "text": [
      "Computing explanations for batches: 100%|██████████| 4/4 [10:02<00:00, 150.66s/it]\n"
     ]
    },
    {
     "name": "stdout",
     "output_type": "stream",
     "text": [
      "Loaded model: https://huggingface.co/timm/vit_base_patch32_224.augreg_in21k_ft_in1k\n"
     ]
    },
    {
     "name": "stderr",
     "output_type": "stream",
     "text": [
      "Computing explanations for batches: 100%|██████████| 4/4 [03:10<00:00, 47.60s/it]\n"
     ]
    },
    {
     "name": "stdout",
     "output_type": "stream",
     "text": [
      "Loaded model: https://huggingface.co/timm/swin_tiny_patch4_window7_224.ms_in1k\n"
     ]
    },
    {
     "name": "stderr",
     "output_type": "stream",
     "text": [
      "Computing explanations for batches: 100%|██████████| 4/4 [02:23<00:00, 35.89s/it]\n"
     ]
    },
    {
     "name": "stdout",
     "output_type": "stream",
     "text": [
      "Loaded model: https://huggingface.co/timm/deit_small_patch16_224.fb_in1k\n"
     ]
    },
    {
     "name": "stderr",
     "output_type": "stream",
     "text": [
      "Computing explanations for batches: 100%|██████████| 4/4 [01:31<00:00, 22.91s/it]\n"
     ]
    },
    {
     "name": "stdout",
     "output_type": "stream",
     "text": [
      "Loaded model: https://huggingface.co/timm/efficientnet_b3.ra2_in1k\n"
     ]
    },
    {
     "name": "stderr",
     "output_type": "stream",
     "text": [
      "Computing explanations for batches: 100%|██████████| 4/4 [02:43<00:00, 40.95s/it]\n"
     ]
    }
   ],
   "source": [
    "from src.compute_explanations import compute_explanations\n",
    "\n",
    "for model in models_list:\n",
    "    compute_explanations('imagenette2', model, 'KernelSHAP', **compute_explanations_parameters)"
   ]
  },
  {
   "cell_type": "code",
   "execution_count": 11,
   "metadata": {},
   "outputs": [
    {
     "name": "stderr",
     "output_type": "stream",
     "text": [
      "Loading explanations: 100%|██████████| 16/16 [00:00<00:00, 21.72it/s]\n",
      "Loading explanations: 100%|██████████| 16/16 [00:00<00:00, 22.04it/s]\n",
      "Loading explanations: 100%|██████████| 16/16 [00:00<00:00, 27.64it/s]\n",
      "Loading explanations: 100%|██████████| 16/16 [00:00<00:00, 44.25it/s]\n",
      "Loading explanations: 100%|██████████| 16/16 [00:00<00:00, 37.40it/s]\n",
      "Loading explanations: 100%|██████████| 16/16 [00:00<00:00, 27.76it/s]\n"
     ]
    },
    {
     "name": "stdout",
     "output_type": "stream",
     "text": [
      "Loaded 16 common explanations for each model.\n"
     ]
    },
    {
     "data": {
      "text/html": [
       "<div>\n",
       "<style scoped>\n",
       "    .dataframe tbody tr th:only-of-type {\n",
       "        vertical-align: middle;\n",
       "    }\n",
       "\n",
       "    .dataframe tbody tr th {\n",
       "        vertical-align: top;\n",
       "    }\n",
       "\n",
       "    .dataframe thead th {\n",
       "        text-align: right;\n",
       "    }\n",
       "</style>\n",
       "<table border=\"1\" class=\"dataframe\">\n",
       "  <thead>\n",
       "    <tr style=\"text-align: right;\">\n",
       "      <th></th>\n",
       "      <th>ResNet18</th>\n",
       "      <th>ResNet50</th>\n",
       "      <th>ViT_B_32</th>\n",
       "      <th>Swin_T</th>\n",
       "      <th>DeiT_S</th>\n",
       "      <th>EfficientNet_B3</th>\n",
       "    </tr>\n",
       "  </thead>\n",
       "  <tbody>\n",
       "    <tr>\n",
       "      <th>ResNet18</th>\n",
       "      <td>0.999998</td>\n",
       "      <td>0.876981</td>\n",
       "      <td>0.870733</td>\n",
       "      <td>0.879172</td>\n",
       "      <td>0.859793</td>\n",
       "      <td>0.883495</td>\n",
       "    </tr>\n",
       "    <tr>\n",
       "      <th>ResNet50</th>\n",
       "      <td>0.876981</td>\n",
       "      <td>1.000006</td>\n",
       "      <td>0.882726</td>\n",
       "      <td>0.899087</td>\n",
       "      <td>0.885738</td>\n",
       "      <td>0.888241</td>\n",
       "    </tr>\n",
       "    <tr>\n",
       "      <th>ViT_B_32</th>\n",
       "      <td>0.870733</td>\n",
       "      <td>0.882726</td>\n",
       "      <td>0.999998</td>\n",
       "      <td>0.899373</td>\n",
       "      <td>0.899415</td>\n",
       "      <td>0.887347</td>\n",
       "    </tr>\n",
       "    <tr>\n",
       "      <th>Swin_T</th>\n",
       "      <td>0.879172</td>\n",
       "      <td>0.899087</td>\n",
       "      <td>0.899373</td>\n",
       "      <td>1.000006</td>\n",
       "      <td>0.911456</td>\n",
       "      <td>0.900766</td>\n",
       "    </tr>\n",
       "    <tr>\n",
       "      <th>DeiT_S</th>\n",
       "      <td>0.859793</td>\n",
       "      <td>0.885738</td>\n",
       "      <td>0.899415</td>\n",
       "      <td>0.911456</td>\n",
       "      <td>0.999996</td>\n",
       "      <td>0.898725</td>\n",
       "    </tr>\n",
       "    <tr>\n",
       "      <th>EfficientNet_B3</th>\n",
       "      <td>0.883495</td>\n",
       "      <td>0.888241</td>\n",
       "      <td>0.887347</td>\n",
       "      <td>0.900766</td>\n",
       "      <td>0.898725</td>\n",
       "      <td>1.0</td>\n",
       "    </tr>\n",
       "  </tbody>\n",
       "</table>\n",
       "</div>"
      ],
      "text/plain": [
       "                 ResNet18  ResNet50  ViT_B_32    Swin_T    DeiT_S  \\\n",
       "ResNet18         0.999998  0.876981  0.870733  0.879172  0.859793   \n",
       "ResNet50         0.876981  1.000006  0.882726  0.899087  0.885738   \n",
       "ViT_B_32         0.870733  0.882726  0.999998  0.899373  0.899415   \n",
       "Swin_T           0.879172  0.899087  0.899373  1.000006  0.911456   \n",
       "DeiT_S           0.859793  0.885738  0.899415  0.911456  0.999996   \n",
       "EfficientNet_B3  0.883495  0.888241  0.887347  0.900766  0.898725   \n",
       "\n",
       "                EfficientNet_B3  \n",
       "ResNet18               0.883495  \n",
       "ResNet50               0.888241  \n",
       "ViT_B_32               0.887347  \n",
       "Swin_T                 0.900766  \n",
       "DeiT_S                 0.898725  \n",
       "EfficientNet_B3             1.0  "
      ]
     },
     "execution_count": 11,
     "metadata": {},
     "output_type": "execute_result"
    }
   ],
   "source": [
    "from src.compare_explanations import compare_explanations, cosine_similarity\n",
    "from src.load_explanations import load_explanations_of_many_models\n",
    "\n",
    "explanations_many_models = load_explanations_of_many_models('imagenette2', models_list, 'KernelSHAP')\n",
    "\n",
    "similarity_df = compare_explanations(explanations_many_models, comparison_function=cosine_similarity)\n",
    "similarity_df.to_csv(\"similarity_matrix_kernelshap.csv\")\n",
    "similarity_df"
   ]
  }
 ],
 "metadata": {
  "kernelspec": {
   "display_name": "master-thesis-cnn-vs-transformers",
   "language": "python",
   "name": "python3"
  },
  "language_info": {
   "codemirror_mode": {
    "name": "ipython",
    "version": 3
   },
   "file_extension": ".py",
   "mimetype": "text/x-python",
   "name": "python",
   "nbconvert_exporter": "python",
   "pygments_lexer": "ipython3",
   "version": "3.11.4"
  }
 },
 "nbformat": 4,
 "nbformat_minor": 2
}
